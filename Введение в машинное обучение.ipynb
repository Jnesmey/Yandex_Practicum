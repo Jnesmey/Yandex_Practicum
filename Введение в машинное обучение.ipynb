{
 "cells": [
  {
   "cell_type": "markdown",
   "metadata": {},
   "source": [
    "# Рекомендация тарифов"
   ]
  },
  {
   "cell_type": "markdown",
   "metadata": {},
   "source": [
    "В вашем распоряжении данные о поведении клиентов, которые уже перешли на эти тарифы (из проекта курса «Статистический анализ данных»). Нужно построить модель для задачи классификации, которая выберет подходящий тариф. Предобработка данных не понадобится — вы её уже сделали.\n",
    "\n",
    "Постройте модель с максимально большим значением *accuracy*. Чтобы сдать проект успешно, нужно довести долю правильных ответов по крайней мере до 0.75. Проверьте *accuracy* на тестовой выборке самостоятельно."
   ]
  },
  {
   "cell_type": "markdown",
   "metadata": {},
   "source": [
    "## Откройте и изучите файл"
   ]
  },
  {
   "cell_type": "code",
   "execution_count": 1,
   "metadata": {},
   "outputs": [],
   "source": [
    "# Импортируем библиотеки\n",
    "import pandas as pd\n",
    "from sklearn.model_selection import train_test_split\n",
    "from sklearn.tree import DecisionTreeClassifier\n",
    "from sklearn.linear_model import LogisticRegression\n",
    "from sklearn.ensemble import RandomForestClassifier\n",
    "from sklearn.dummy import DummyClassifier"
   ]
  },
  {
   "cell_type": "code",
   "execution_count": 2,
   "metadata": {},
   "outputs": [],
   "source": [
    "# Создаем датафрейм с исходными данными\n",
    "df = pd.read_csv('/datasets/users_behavior.csv')"
   ]
  },
  {
   "cell_type": "code",
   "execution_count": 3,
   "metadata": {},
   "outputs": [
    {
     "name": "stdout",
     "output_type": "stream",
     "text": [
      "<class 'pandas.core.frame.DataFrame'>\n",
      "RangeIndex: 3214 entries, 0 to 3213\n",
      "Data columns (total 5 columns):\n",
      "calls       3214 non-null float64\n",
      "minutes     3214 non-null float64\n",
      "messages    3214 non-null float64\n",
      "mb_used     3214 non-null float64\n",
      "is_ultra    3214 non-null int64\n",
      "dtypes: float64(4), int64(1)\n",
      "memory usage: 125.7 KB\n"
     ]
    }
   ],
   "source": [
    "# Датафрейм уже приведен в приемлимый вид. Пропусков нет, форматы данных соответствующие\n",
    "df.info()"
   ]
  },
  {
   "cell_type": "code",
   "execution_count": 4,
   "metadata": {},
   "outputs": [
    {
     "data": {
      "text/html": [
       "<div>\n",
       "<style scoped>\n",
       "    .dataframe tbody tr th:only-of-type {\n",
       "        vertical-align: middle;\n",
       "    }\n",
       "\n",
       "    .dataframe tbody tr th {\n",
       "        vertical-align: top;\n",
       "    }\n",
       "\n",
       "    .dataframe thead th {\n",
       "        text-align: right;\n",
       "    }\n",
       "</style>\n",
       "<table border=\"1\" class=\"dataframe\">\n",
       "  <thead>\n",
       "    <tr style=\"text-align: right;\">\n",
       "      <th></th>\n",
       "      <th>calls</th>\n",
       "      <th>minutes</th>\n",
       "      <th>messages</th>\n",
       "      <th>mb_used</th>\n",
       "      <th>is_ultra</th>\n",
       "    </tr>\n",
       "  </thead>\n",
       "  <tbody>\n",
       "    <tr>\n",
       "      <td>0</td>\n",
       "      <td>40.0</td>\n",
       "      <td>311.90</td>\n",
       "      <td>83.0</td>\n",
       "      <td>19915.42</td>\n",
       "      <td>0</td>\n",
       "    </tr>\n",
       "    <tr>\n",
       "      <td>1</td>\n",
       "      <td>85.0</td>\n",
       "      <td>516.75</td>\n",
       "      <td>56.0</td>\n",
       "      <td>22696.96</td>\n",
       "      <td>0</td>\n",
       "    </tr>\n",
       "    <tr>\n",
       "      <td>2</td>\n",
       "      <td>77.0</td>\n",
       "      <td>467.66</td>\n",
       "      <td>86.0</td>\n",
       "      <td>21060.45</td>\n",
       "      <td>0</td>\n",
       "    </tr>\n",
       "    <tr>\n",
       "      <td>3</td>\n",
       "      <td>106.0</td>\n",
       "      <td>745.53</td>\n",
       "      <td>81.0</td>\n",
       "      <td>8437.39</td>\n",
       "      <td>1</td>\n",
       "    </tr>\n",
       "    <tr>\n",
       "      <td>4</td>\n",
       "      <td>66.0</td>\n",
       "      <td>418.74</td>\n",
       "      <td>1.0</td>\n",
       "      <td>14502.75</td>\n",
       "      <td>0</td>\n",
       "    </tr>\n",
       "  </tbody>\n",
       "</table>\n",
       "</div>"
      ],
      "text/plain": [
       "   calls  minutes  messages   mb_used  is_ultra\n",
       "0   40.0   311.90      83.0  19915.42         0\n",
       "1   85.0   516.75      56.0  22696.96         0\n",
       "2   77.0   467.66      86.0  21060.45         0\n",
       "3  106.0   745.53      81.0   8437.39         1\n",
       "4   66.0   418.74       1.0  14502.75         0"
      ]
     },
     "execution_count": 4,
     "metadata": {},
     "output_type": "execute_result"
    }
   ],
   "source": [
    "# Выводим информацию\n",
    "df.head()"
   ]
  },
  {
   "cell_type": "markdown",
   "metadata": {},
   "source": [
    "Итого в датафрейме содержится следующая информация\n",
    "<ol>сalls — количество звонков,</ol>\n",
    "<ol>minutes — суммарная длительность звонков в минутах,</ol>\n",
    "<ol>messages — количество sms-сообщений,</ol>\n",
    "<ol>mb_used — израсходованный интернет-трафик в Мб,</ol>\n",
    "<ol>is_ultra — каким тарифом пользовался в течение месяца («Ультра» — 1, «Смарт» — 0).</ol>"
   ]
  },
  {
   "cell_type": "markdown",
   "metadata": {},
   "source": [
    "## Разбейте данные на выборки"
   ]
  },
  {
   "cell_type": "code",
   "execution_count": 5,
   "metadata": {},
   "outputs": [],
   "source": [
    "# Разобьем данные на выборки\n",
    "train, test = train_test_split(df, test_size=0.20, random_state=42)\n",
    "# 20% выборки оставляем на тест"
   ]
  },
  {
   "cell_type": "code",
   "execution_count": 6,
   "metadata": {},
   "outputs": [],
   "source": [
    "# разделяем тестовые данные на признаки и результативную переменную\n",
    "feature_test = test.drop(['is_ultra'], axis=1)\n",
    "target_test = test['is_ultra']"
   ]
  },
  {
   "cell_type": "code",
   "execution_count": 7,
   "metadata": {},
   "outputs": [],
   "source": [
    "# Выделим из train валидационную выборку\n",
    "df_train, df_valid = train_test_split(train, test_size=0.25, random_state=42)\n",
    "features_val = df_valid.drop(['is_ultra'], axis=1)\n",
    "features_train =   df_train.drop(['is_ultra'], axis=1)\n",
    "target_val = df_valid['is_ultra']\n",
    "target_train =  df_train['is_ultra']"
   ]
  },
  {
   "cell_type": "code",
   "execution_count": 8,
   "metadata": {},
   "outputs": [
    {
     "data": {
      "text/plain": [
       "((1928, 4), (643, 4), (643, 4))"
      ]
     },
     "execution_count": 8,
     "metadata": {},
     "output_type": "execute_result"
    }
   ],
   "source": [
    "#добавлено ревьюером\n",
    "features_train.shape, features_val.shape, feature_test.shape"
   ]
  },
  {
   "cell_type": "code",
   "execution_count": 9,
   "metadata": {},
   "outputs": [],
   "source": [
    "# Исправила разделение на выборки"
   ]
  },
  {
   "cell_type": "markdown",
   "metadata": {},
   "source": [
    "## Исследуйте модели"
   ]
  },
  {
   "cell_type": "markdown",
   "metadata": {},
   "source": [
    "Создадим три модели - решающее дерево, случайный лес и логистическую регрессию. Для этого попробуем попереберать гиперпараметры этих моделей"
   ]
  },
  {
   "cell_type": "code",
   "execution_count": 10,
   "metadata": {},
   "outputs": [
    {
     "name": "stdout",
     "output_type": "stream",
     "text": [
      "Глубина дерева: 7     Качество: 0.7884914463452566\n"
     ]
    }
   ],
   "source": [
    "# Решающее дерево\n",
    "best_accuracy = 0\n",
    "best_depth = 0\n",
    "for depth in range(1,15):\n",
    "    model = DecisionTreeClassifier(max_depth=depth, random_state=42)\n",
    "    model.fit(features_train, target_train)\n",
    "    accuracy = model.score(features_val, target_val)\n",
    "    if accuracy > best_accuracy:\n",
    "        best_accuracy = accuracy\n",
    "        best_depth = depth\n",
    "print(\"Глубина дерева:\", best_depth, \"    Качество:\", best_accuracy)"
   ]
  },
  {
   "cell_type": "code",
   "execution_count": 11,
   "metadata": {},
   "outputs": [
    {
     "name": "stdout",
     "output_type": "stream",
     "text": [
      "Глубина дерева: 4     Количество деревьев: 20   Качество: 0.8040435458786936\n"
     ]
    }
   ],
   "source": [
    "# Случайный лес\n",
    "\n",
    "best_accuracy = 0\n",
    "best_depth = 0\n",
    "for depth in range(1,15):\n",
    "    for est in range(5,50,5):\n",
    "        model = RandomForestClassifier(max_depth=depth, n_estimators=est, random_state=42)\n",
    "        model.fit(features_train, target_train)\n",
    "        accuracy = model.score(features_val, target_val)\n",
    "        if accuracy > best_accuracy:\n",
    "            best_accuracy = accuracy\n",
    "            best_depth = depth\n",
    "            best_est = est\n",
    "print(\"Глубина дерева:\", best_depth, \"    Количество деревьев:\", best_est,  \"  Качество:\", best_accuracy)"
   ]
  },
  {
   "cell_type": "code",
   "execution_count": 12,
   "metadata": {},
   "outputs": [
    {
     "name": "stdout",
     "output_type": "stream",
     "text": [
      "Качество: 0.7216174183514774\n"
     ]
    },
    {
     "name": "stderr",
     "output_type": "stream",
     "text": [
      "/opt/conda/lib/python3.7/site-packages/sklearn/linear_model/logistic.py:432: FutureWarning: Default solver will be changed to 'lbfgs' in 0.22. Specify a solver to silence this warning.\n",
      "  FutureWarning)\n"
     ]
    }
   ],
   "source": [
    "# Логистическая регрессия\n",
    "model = LogisticRegression()\n",
    "model.fit(features_train, target_train)\n",
    "accuracy = model.score(features_val, target_val)\n",
    "print(\"Качество:\", accuracy)"
   ]
  },
  {
   "cell_type": "markdown",
   "metadata": {},
   "source": [
    "## Проверьте модель на тестовой выборке"
   ]
  },
  {
   "cell_type": "code",
   "execution_count": 13,
   "metadata": {},
   "outputs": [
    {
     "name": "stdout",
     "output_type": "stream",
     "text": [
      "Качество: 0.702954898911353\n"
     ]
    },
    {
     "name": "stderr",
     "output_type": "stream",
     "text": [
      "/opt/conda/lib/python3.7/site-packages/sklearn/linear_model/logistic.py:432: FutureWarning: Default solver will be changed to 'lbfgs' in 0.22. Specify a solver to silence this warning.\n",
      "  FutureWarning)\n"
     ]
    }
   ],
   "source": [
    "# последовательно проверяем модели на тестовой выборке\n",
    "# Логистическая регрессия \n",
    "model = LogisticRegression()\n",
    "model.fit(features_train, target_train)\n",
    "accuracy = model.score(feature_test, target_test)\n",
    "print(\"Качество:\", accuracy)"
   ]
  },
  {
   "cell_type": "code",
   "execution_count": 14,
   "metadata": {},
   "outputs": [
    {
     "name": "stdout",
     "output_type": "stream",
     "text": [
      "Качество: 0.7993779160186625\n"
     ]
    }
   ],
   "source": [
    "# Дерево решений\n",
    "model = DecisionTreeClassifier(max_depth=7, random_state=42)\n",
    "model.fit(features_train, target_train)\n",
    "accuracy = model.score(feature_test, target_test)\n",
    "print(\"Качество:\", accuracy)"
   ]
  },
  {
   "cell_type": "code",
   "execution_count": 15,
   "metadata": {},
   "outputs": [
    {
     "name": "stdout",
     "output_type": "stream",
     "text": [
      "Качество: 0.8118195956454122\n"
     ]
    }
   ],
   "source": [
    "# Случайный лес\n",
    "model = RandomForestClassifier(max_depth=4, n_estimators=20, random_state=42)\n",
    "model.fit(features_train, target_train)\n",
    "accuracy = model.score(feature_test, target_test)\n",
    "print(\"Качество:\", accuracy)"
   ]
  },
  {
   "cell_type": "markdown",
   "metadata": {},
   "source": [
    "Наилучшее качество модели показывает случайный лес с глбиной дерева 4 и числом деревьев 20 - качество - 0.8118"
   ]
  },
  {
   "cell_type": "markdown",
   "metadata": {},
   "source": [
    "## (бонус) Проверьте модели на адекватность"
   ]
  },
  {
   "cell_type": "markdown",
   "metadata": {},
   "source": [
    "Проверим модель на адекватность с помощью сравнения с модели с простым классиикатором - DummyClassifier"
   ]
  },
  {
   "cell_type": "code",
   "execution_count": 16,
   "metadata": {},
   "outputs": [
    {
     "name": "stdout",
     "output_type": "stream",
     "text": [
      "Качество простого прогноза : 0.567651632970451\n",
      "Качество прогноза дерева : 0.8118195956454122\n"
     ]
    }
   ],
   "source": [
    "model = DummyClassifier(random_state=412)\n",
    "model.fit(features_train, target_train)\n",
    "acc = model.score(feature_test, target_test)\n",
    "print(\"Качество простого прогноза :\", acc)\n",
    "print(\"Качество прогноза дерева :\", accuracy)"
   ]
  },
  {
   "cell_type": "markdown",
   "metadata": {},
   "source": [
    "## Чек-лист готовности проекта"
   ]
  },
  {
   "cell_type": "markdown",
   "metadata": {},
   "source": [
    "Поставьте 'x' в выполненных пунктах. Далее нажмите Shift+Enter."
   ]
  },
  {
   "cell_type": "markdown",
   "metadata": {},
   "source": [
    "- [x] Jupyter Notebook открыт\n",
    "- [ ] Весь код исполняется без ошибок\n",
    "- [ ] Ячейки с кодом расположены в порядке исполнения\n",
    "- [ ] Выполнено задание 1: данные загружены и изучены\n",
    "- [ ] Выполнено задание 2: данные разбиты на три выборки\n",
    "- [ ] Выполнено задание 3: проведено исследование моделей\n",
    "    - [ ] Рассмотрено больше одной модели\n",
    "    - [ ] Рассмотрено хотя бы 3 значения гипепараметров для какой-нибудь модели\n",
    "    - [ ] Написаны выводы по результатам исследования\n",
    "- [ ] Выполнено задание 3: Проведено тестирование\n",
    "- [ ] Удалось достичь accuracy не меньше 0.75\n"
   ]
  }
 ],
 "metadata": {
  "ExecuteTimeLog": [
   {
    "duration": 965,
    "start_time": "2021-06-21T14:39:31.040Z"
   },
   {
    "duration": 20,
    "start_time": "2021-06-21T14:39:33.539Z"
   },
   {
    "duration": 7,
    "start_time": "2021-06-21T14:39:36.335Z"
   },
   {
    "duration": 14,
    "start_time": "2021-06-21T14:39:44.880Z"
   },
   {
    "duration": 5,
    "start_time": "2021-06-21T15:44:56.501Z"
   },
   {
    "duration": 11,
    "start_time": "2021-06-21T15:45:07.392Z"
   },
   {
    "duration": 4,
    "start_time": "2021-06-21T15:45:15.368Z"
   },
   {
    "duration": 5,
    "start_time": "2021-06-21T15:45:28.050Z"
   },
   {
    "duration": 58,
    "start_time": "2021-06-21T15:47:50.239Z"
   },
   {
    "duration": 58,
    "start_time": "2021-06-21T15:47:56.714Z"
   },
   {
    "duration": 7,
    "start_time": "2021-06-21T15:48:10.281Z"
   },
   {
    "duration": 71,
    "start_time": "2021-06-21T15:48:55.990Z"
   },
   {
    "duration": 19,
    "start_time": "2021-06-21T15:49:11.907Z"
   },
   {
    "duration": 5,
    "start_time": "2021-06-21T15:49:17.391Z"
   },
   {
    "duration": 5,
    "start_time": "2021-06-21T15:49:22.057Z"
   },
   {
    "duration": 57,
    "start_time": "2021-06-21T15:49:24.381Z"
   },
   {
    "duration": 7,
    "start_time": "2021-06-21T15:49:39.909Z"
   },
   {
    "duration": 81,
    "start_time": "2021-06-21T15:52:56.815Z"
   },
   {
    "duration": 266,
    "start_time": "2021-06-21T15:55:57.919Z"
   },
   {
    "duration": 7627,
    "start_time": "2021-06-21T15:56:14.092Z"
   },
   {
    "duration": 84,
    "start_time": "2021-06-23T12:11:18.930Z"
   },
   {
    "duration": 319,
    "start_time": "2021-06-23T12:11:24.031Z"
   },
   {
    "duration": 1381,
    "start_time": "2021-06-23T12:11:36.204Z"
   },
   {
    "duration": 22,
    "start_time": "2021-06-23T12:11:37.588Z"
   },
   {
    "duration": 8,
    "start_time": "2021-06-23T12:11:37.613Z"
   },
   {
    "duration": 22,
    "start_time": "2021-06-23T12:11:37.624Z"
   },
   {
    "duration": 5,
    "start_time": "2021-06-23T12:11:37.649Z"
   },
   {
    "duration": 6,
    "start_time": "2021-06-23T12:11:37.657Z"
   },
   {
    "duration": 42,
    "start_time": "2021-06-23T12:11:37.665Z"
   },
   {
    "duration": 133,
    "start_time": "2021-06-23T12:11:37.711Z"
   },
   {
    "duration": 11731,
    "start_time": "2021-06-23T12:11:37.847Z"
   },
   {
    "duration": 34,
    "start_time": "2021-06-23T12:11:49.581Z"
   },
   {
    "duration": 438,
    "start_time": "2021-06-23T12:13:58.172Z"
   },
   {
    "duration": 305,
    "start_time": "2021-06-23T12:14:34.218Z"
   },
   {
    "duration": 15,
    "start_time": "2021-06-23T12:14:39.733Z"
   },
   {
    "duration": 71,
    "start_time": "2021-06-23T12:15:54.093Z"
   },
   {
    "duration": 71,
    "start_time": "2021-06-23T12:16:36.505Z"
   },
   {
    "duration": 86,
    "start_time": "2021-06-23T12:17:05.316Z"
   },
   {
    "duration": 1680,
    "start_time": "2021-06-25T13:20:02.557Z"
   },
   {
    "duration": 22,
    "start_time": "2021-06-25T13:20:04.240Z"
   },
   {
    "duration": 9,
    "start_time": "2021-06-25T13:20:04.265Z"
   },
   {
    "duration": 25,
    "start_time": "2021-06-25T13:20:04.276Z"
   },
   {
    "duration": 8,
    "start_time": "2021-06-25T13:20:04.304Z"
   },
   {
    "duration": 9,
    "start_time": "2021-06-25T13:20:04.315Z"
   },
   {
    "duration": 12,
    "start_time": "2021-06-25T13:20:04.326Z"
   },
   {
    "duration": 181,
    "start_time": "2021-06-25T13:20:04.343Z"
   },
   {
    "duration": 12166,
    "start_time": "2021-06-25T13:20:04.526Z"
   },
   {
    "duration": 22,
    "start_time": "2021-06-25T13:20:16.695Z"
   },
   {
    "duration": 22,
    "start_time": "2021-06-25T13:20:16.719Z"
   },
   {
    "duration": 165,
    "start_time": "2021-06-25T13:20:16.787Z"
   },
   {
    "duration": 36,
    "start_time": "2021-06-25T13:20:16.954Z"
   },
   {
    "duration": 575,
    "start_time": "2021-06-25T13:20:16.993Z"
   },
   {
    "duration": 393,
    "start_time": "2021-06-25T13:20:29.380Z"
   },
   {
    "duration": 8,
    "start_time": "2021-06-25T13:20:36.210Z"
   },
   {
    "duration": 1296,
    "start_time": "2021-06-25T20:07:38.226Z"
   },
   {
    "duration": 22,
    "start_time": "2021-06-25T20:07:39.525Z"
   },
   {
    "duration": 8,
    "start_time": "2021-06-25T20:07:39.550Z"
   },
   {
    "duration": 22,
    "start_time": "2021-06-25T20:07:39.561Z"
   },
   {
    "duration": 7,
    "start_time": "2021-06-25T20:07:39.600Z"
   },
   {
    "duration": 5,
    "start_time": "2021-06-25T20:07:39.610Z"
   },
   {
    "duration": 12,
    "start_time": "2021-06-25T20:07:39.617Z"
   },
   {
    "duration": 5,
    "start_time": "2021-06-25T20:07:39.632Z"
   },
   {
    "duration": 158,
    "start_time": "2021-06-25T20:07:39.641Z"
   },
   {
    "duration": 11166,
    "start_time": "2021-06-25T20:07:39.802Z"
   },
   {
    "duration": 34,
    "start_time": "2021-06-25T20:07:50.970Z"
   },
   {
    "duration": 20,
    "start_time": "2021-06-25T20:07:51.007Z"
   },
   {
    "duration": 226,
    "start_time": "2021-06-25T20:07:51.030Z"
   },
   {
    "duration": 15,
    "start_time": "2021-06-25T20:07:51.259Z"
   },
   {
    "duration": 9,
    "start_time": "2021-06-25T20:07:51.301Z"
   },
   {
    "duration": 1292,
    "start_time": "2021-06-27T18:14:33.481Z"
   },
   {
    "duration": 22,
    "start_time": "2021-06-27T18:14:34.775Z"
   },
   {
    "duration": 9,
    "start_time": "2021-06-27T18:14:35.422Z"
   },
   {
    "duration": 22,
    "start_time": "2021-06-27T18:14:36.773Z"
   },
   {
    "duration": 9,
    "start_time": "2021-06-27T18:14:40.133Z"
   },
   {
    "duration": 383,
    "start_time": "2021-06-27T18:14:42.693Z"
   },
   {
    "duration": 6,
    "start_time": "2021-06-27T18:15:02.661Z"
   },
   {
    "duration": 4,
    "start_time": "2021-06-27T18:15:10.563Z"
   },
   {
    "duration": 5,
    "start_time": "2021-06-27T18:15:18.429Z"
   },
   {
    "duration": 11,
    "start_time": "2021-06-27T18:15:20.389Z"
   },
   {
    "duration": 6,
    "start_time": "2021-06-27T18:15:21.981Z"
   },
   {
    "duration": 17,
    "start_time": "2021-06-27T18:15:47.622Z"
   },
   {
    "duration": 9,
    "start_time": "2021-06-27T18:15:57.149Z"
   },
   {
    "duration": 5,
    "start_time": "2021-06-27T18:15:58.237Z"
   },
   {
    "duration": 10,
    "start_time": "2021-06-27T18:15:59.221Z"
   },
   {
    "duration": 6,
    "start_time": "2021-06-27T18:16:00.150Z"
   },
   {
    "duration": 115,
    "start_time": "2021-06-27T18:16:52.726Z"
   },
   {
    "duration": 11303,
    "start_time": "2021-06-27T18:16:56.142Z"
   },
   {
    "duration": 21,
    "start_time": "2021-06-27T18:17:20.495Z"
   },
   {
    "duration": 21,
    "start_time": "2021-06-27T18:17:30.358Z"
   },
   {
    "duration": 63,
    "start_time": "2021-06-27T18:17:32.677Z"
   },
   {
    "duration": 15,
    "start_time": "2021-06-27T18:17:39.870Z"
   },
   {
    "duration": 64,
    "start_time": "2021-06-27T18:18:53.087Z"
   },
   {
    "duration": 9,
    "start_time": "2021-06-27T18:18:54.558Z"
   },
   {
    "duration": 1356,
    "start_time": "2021-06-27T21:55:00.913Z"
   },
   {
    "duration": 21,
    "start_time": "2021-06-27T21:55:02.272Z"
   },
   {
    "duration": 11,
    "start_time": "2021-06-27T21:55:02.297Z"
   },
   {
    "duration": 44,
    "start_time": "2021-06-27T21:55:02.312Z"
   },
   {
    "duration": 6,
    "start_time": "2021-06-27T21:55:02.359Z"
   },
   {
    "duration": 8,
    "start_time": "2021-06-27T21:55:02.368Z"
   },
   {
    "duration": 18,
    "start_time": "2021-06-27T21:55:02.378Z"
   },
   {
    "duration": 6,
    "start_time": "2021-06-27T21:55:02.398Z"
   },
   {
    "duration": 18,
    "start_time": "2021-06-27T21:55:02.407Z"
   },
   {
    "duration": 140,
    "start_time": "2021-06-27T21:55:02.427Z"
   },
   {
    "duration": 12044,
    "start_time": "2021-06-27T21:55:02.569Z"
   },
   {
    "duration": 26,
    "start_time": "2021-06-27T21:55:14.615Z"
   },
   {
    "duration": 19,
    "start_time": "2021-06-27T21:55:14.644Z"
   },
   {
    "duration": 15,
    "start_time": "2021-06-27T21:55:14.665Z"
   },
   {
    "duration": 106,
    "start_time": "2021-06-27T21:55:14.683Z"
   },
   {
    "duration": 8,
    "start_time": "2021-06-27T21:55:14.791Z"
   }
  ],
  "kernelspec": {
   "display_name": "Python 3",
   "language": "python",
   "name": "python3"
  },
  "language_info": {
   "codemirror_mode": {
    "name": "ipython",
    "version": 3
   },
   "file_extension": ".py",
   "mimetype": "text/x-python",
   "name": "python",
   "nbconvert_exporter": "python",
   "pygments_lexer": "ipython3",
   "version": "3.8.3"
  },
  "toc": {
   "base_numbering": 1,
   "nav_menu": {},
   "number_sections": true,
   "sideBar": true,
   "skip_h1_title": true,
   "title_cell": "Table of Contents",
   "title_sidebar": "Contents",
   "toc_cell": false,
   "toc_position": {},
   "toc_section_display": true,
   "toc_window_display": false
  }
 },
 "nbformat": 4,
 "nbformat_minor": 2
}
