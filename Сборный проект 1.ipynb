{
 "cells": [
  {
   "cell_type": "markdown",
   "metadata": {},
   "source": [
    "# Описание проекта"
   ]
  },
  {
   "cell_type": "markdown",
   "metadata": {},
   "source": [
    "Имеются данные о продажах компьютерных игр - доступны исторические данные о продажах игр, оценки пользователей и экспертов, жанры и платформы (например, Xbox или PlayStation). Стоит цель исследовать рынок компьютерных игр и сделать выводы. В рамках цели выделяем следдущие задачи: 1) Обработка данных; 2) Анализ продаж в динамике; 2) Анализ продаж в разрезе платформ; выявление преспективных платформ; 3)Исследование на корреляцию между оценками и продажами; 4) Составление портретов пользователей по регионам продаж; 4) Проверка статистических гипотех о равенстве оценок по разным группам игроков\n"
   ]
  },
  {
   "cell_type": "markdown",
   "metadata": {},
   "source": [
    "# Шаг 1. Изучение общей информации"
   ]
  },
  {
   "cell_type": "code",
   "execution_count": 1,
   "metadata": {},
   "outputs": [],
   "source": [
    "# Импортируем нужные библиотеки\n",
    "import pandas as pd\n",
    "import numpy as np\n",
    "import matplotlib.pyplot as plt\n",
    "from scipy import stats as st\n",
    "import warnings"
   ]
  },
  {
   "cell_type": "code",
   "execution_count": 2,
   "metadata": {},
   "outputs": [
    {
     "data": {
      "text/html": [
       "<div>\n",
       "<style scoped>\n",
       "    .dataframe tbody tr th:only-of-type {\n",
       "        vertical-align: middle;\n",
       "    }\n",
       "\n",
       "    .dataframe tbody tr th {\n",
       "        vertical-align: top;\n",
       "    }\n",
       "\n",
       "    .dataframe thead th {\n",
       "        text-align: right;\n",
       "    }\n",
       "</style>\n",
       "<table border=\"1\" class=\"dataframe\">\n",
       "  <thead>\n",
       "    <tr style=\"text-align: right;\">\n",
       "      <th></th>\n",
       "      <th>Name</th>\n",
       "      <th>Platform</th>\n",
       "      <th>Year_of_Release</th>\n",
       "      <th>Genre</th>\n",
       "      <th>NA_sales</th>\n",
       "      <th>EU_sales</th>\n",
       "      <th>JP_sales</th>\n",
       "      <th>Other_sales</th>\n",
       "      <th>Critic_Score</th>\n",
       "      <th>User_Score</th>\n",
       "      <th>Rating</th>\n",
       "    </tr>\n",
       "  </thead>\n",
       "  <tbody>\n",
       "    <tr>\n",
       "      <td>15032</td>\n",
       "      <td>Road Trip: The Arcade Edition</td>\n",
       "      <td>GC</td>\n",
       "      <td>2002.0</td>\n",
       "      <td>Racing</td>\n",
       "      <td>0.02</td>\n",
       "      <td>0.00</td>\n",
       "      <td>0.00</td>\n",
       "      <td>0.00</td>\n",
       "      <td>NaN</td>\n",
       "      <td>tbd</td>\n",
       "      <td>E</td>\n",
       "    </tr>\n",
       "    <tr>\n",
       "      <td>6903</td>\n",
       "      <td>PGA Tour 96</td>\n",
       "      <td>PS</td>\n",
       "      <td>1995.0</td>\n",
       "      <td>Sports</td>\n",
       "      <td>0.13</td>\n",
       "      <td>0.09</td>\n",
       "      <td>0.00</td>\n",
       "      <td>0.02</td>\n",
       "      <td>NaN</td>\n",
       "      <td>NaN</td>\n",
       "      <td>NaN</td>\n",
       "    </tr>\n",
       "    <tr>\n",
       "      <td>7388</td>\n",
       "      <td>Order Up!</td>\n",
       "      <td>Wii</td>\n",
       "      <td>2008.0</td>\n",
       "      <td>Misc</td>\n",
       "      <td>0.19</td>\n",
       "      <td>0.01</td>\n",
       "      <td>0.00</td>\n",
       "      <td>0.02</td>\n",
       "      <td>NaN</td>\n",
       "      <td>NaN</td>\n",
       "      <td>NaN</td>\n",
       "    </tr>\n",
       "    <tr>\n",
       "      <td>11040</td>\n",
       "      <td>Disgaea Infinite</td>\n",
       "      <td>PSP</td>\n",
       "      <td>2010.0</td>\n",
       "      <td>Adventure</td>\n",
       "      <td>0.07</td>\n",
       "      <td>0.00</td>\n",
       "      <td>0.01</td>\n",
       "      <td>0.01</td>\n",
       "      <td>64.0</td>\n",
       "      <td>4.4</td>\n",
       "      <td>T</td>\n",
       "    </tr>\n",
       "    <tr>\n",
       "      <td>4364</td>\n",
       "      <td>Wolfenstein: The New Order</td>\n",
       "      <td>PC</td>\n",
       "      <td>2014.0</td>\n",
       "      <td>Shooter</td>\n",
       "      <td>0.13</td>\n",
       "      <td>0.29</td>\n",
       "      <td>0.00</td>\n",
       "      <td>0.03</td>\n",
       "      <td>81.0</td>\n",
       "      <td>8.2</td>\n",
       "      <td>M</td>\n",
       "    </tr>\n",
       "    <tr>\n",
       "      <td>10228</td>\n",
       "      <td>Alias</td>\n",
       "      <td>PS2</td>\n",
       "      <td>2004.0</td>\n",
       "      <td>Action</td>\n",
       "      <td>0.05</td>\n",
       "      <td>0.04</td>\n",
       "      <td>0.00</td>\n",
       "      <td>0.01</td>\n",
       "      <td>64.0</td>\n",
       "      <td>8</td>\n",
       "      <td>T</td>\n",
       "    </tr>\n",
       "    <tr>\n",
       "      <td>8257</td>\n",
       "      <td>NHL 2K9</td>\n",
       "      <td>X360</td>\n",
       "      <td>2008.0</td>\n",
       "      <td>Sports</td>\n",
       "      <td>0.15</td>\n",
       "      <td>0.01</td>\n",
       "      <td>0.00</td>\n",
       "      <td>0.01</td>\n",
       "      <td>69.0</td>\n",
       "      <td>6.7</td>\n",
       "      <td>E10+</td>\n",
       "    </tr>\n",
       "    <tr>\n",
       "      <td>13282</td>\n",
       "      <td>Capcom vs. SNK: Millennium Fight 2000 Pro</td>\n",
       "      <td>DC</td>\n",
       "      <td>2001.0</td>\n",
       "      <td>Fighting</td>\n",
       "      <td>0.00</td>\n",
       "      <td>0.00</td>\n",
       "      <td>0.05</td>\n",
       "      <td>0.00</td>\n",
       "      <td>NaN</td>\n",
       "      <td>NaN</td>\n",
       "      <td>NaN</td>\n",
       "    </tr>\n",
       "    <tr>\n",
       "      <td>687</td>\n",
       "      <td>Chrono Trigger</td>\n",
       "      <td>SNES</td>\n",
       "      <td>1995.0</td>\n",
       "      <td>Role-Playing</td>\n",
       "      <td>0.28</td>\n",
       "      <td>0.00</td>\n",
       "      <td>2.02</td>\n",
       "      <td>0.01</td>\n",
       "      <td>NaN</td>\n",
       "      <td>NaN</td>\n",
       "      <td>NaN</td>\n",
       "    </tr>\n",
       "    <tr>\n",
       "      <td>9676</td>\n",
       "      <td>Diner Dash: Sizzle &amp; Serve</td>\n",
       "      <td>PSP</td>\n",
       "      <td>2007.0</td>\n",
       "      <td>Puzzle</td>\n",
       "      <td>0.11</td>\n",
       "      <td>0.00</td>\n",
       "      <td>0.00</td>\n",
       "      <td>0.01</td>\n",
       "      <td>NaN</td>\n",
       "      <td>NaN</td>\n",
       "      <td>NaN</td>\n",
       "    </tr>\n",
       "  </tbody>\n",
       "</table>\n",
       "</div>"
      ],
      "text/plain": [
       "                                            Name Platform  Year_of_Release  \\\n",
       "15032              Road Trip: The Arcade Edition       GC           2002.0   \n",
       "6903                                 PGA Tour 96       PS           1995.0   \n",
       "7388                                   Order Up!      Wii           2008.0   \n",
       "11040                           Disgaea Infinite      PSP           2010.0   \n",
       "4364                  Wolfenstein: The New Order       PC           2014.0   \n",
       "10228                                      Alias      PS2           2004.0   \n",
       "8257                                     NHL 2K9     X360           2008.0   \n",
       "13282  Capcom vs. SNK: Millennium Fight 2000 Pro       DC           2001.0   \n",
       "687                               Chrono Trigger     SNES           1995.0   \n",
       "9676                  Diner Dash: Sizzle & Serve      PSP           2007.0   \n",
       "\n",
       "              Genre  NA_sales  EU_sales  JP_sales  Other_sales  Critic_Score  \\\n",
       "15032        Racing      0.02      0.00      0.00         0.00           NaN   \n",
       "6903         Sports      0.13      0.09      0.00         0.02           NaN   \n",
       "7388           Misc      0.19      0.01      0.00         0.02           NaN   \n",
       "11040     Adventure      0.07      0.00      0.01         0.01          64.0   \n",
       "4364        Shooter      0.13      0.29      0.00         0.03          81.0   \n",
       "10228        Action      0.05      0.04      0.00         0.01          64.0   \n",
       "8257         Sports      0.15      0.01      0.00         0.01          69.0   \n",
       "13282      Fighting      0.00      0.00      0.05         0.00           NaN   \n",
       "687    Role-Playing      0.28      0.00      2.02         0.01           NaN   \n",
       "9676         Puzzle      0.11      0.00      0.00         0.01           NaN   \n",
       "\n",
       "      User_Score Rating  \n",
       "15032        tbd      E  \n",
       "6903         NaN    NaN  \n",
       "7388         NaN    NaN  \n",
       "11040        4.4      T  \n",
       "4364         8.2      M  \n",
       "10228          8      T  \n",
       "8257         6.7   E10+  \n",
       "13282        NaN    NaN  \n",
       "687          NaN    NaN  \n",
       "9676         NaN    NaN  "
      ]
     },
     "execution_count": 2,
     "metadata": {},
     "output_type": "execute_result"
    }
   ],
   "source": [
    "# Создаем исходный датафрейм\n",
    "df = pd.read_csv('/datasets/games.csv')\n",
    "# Посмотрим, что он из себя представляет\n",
    "df.sample(10)"
   ]
  },
  {
   "cell_type": "markdown",
   "metadata": {},
   "source": [
    "<!--  --> В датафрейме содержится следующая информация:\n",
    "<ol>\n",
    "<li>Name — название игры</li>\n",
    "<li>Platform — платформа</li>\n",
    "<li>Year_of_Release — год выпуска</li>\n",
    "<li>Genre — жанр игры</li>\n",
    "<li>NA_sales — продажи в Северной Америке (миллионы проданных копий)</li>\n",
    "<li>EU_sales — продажи в Европе (миллионы проданных копий)</li>\n",
    "<li>JP_sales — продажи в Японии (миллионы проданных копий)</li>\n",
    "<li>Other_sales — продажи в других странах (миллионы проданных копий)</li>\n",
    "<li>Critic_Score — оценка критиков (максимум 100)</li>\n",
    "<li>User_Score — оценка пользователей (максимум 10)</li>\n",
    "<li>Rating — рейтинг от организации ESRB (англ. Entertainment Software Rating Board). Эта ассоциация определяет рейтинг компьютерных игр и присваивает им подходящую возрастную категорию.</li>\n",
    "</ol>"
   ]
  },
  {
   "cell_type": "code",
   "execution_count": 3,
   "metadata": {},
   "outputs": [
    {
     "name": "stdout",
     "output_type": "stream",
     "text": [
      "<class 'pandas.core.frame.DataFrame'>\n",
      "RangeIndex: 16715 entries, 0 to 16714\n",
      "Data columns (total 11 columns):\n",
      "Name               16713 non-null object\n",
      "Platform           16715 non-null object\n",
      "Year_of_Release    16446 non-null float64\n",
      "Genre              16713 non-null object\n",
      "NA_sales           16715 non-null float64\n",
      "EU_sales           16715 non-null float64\n",
      "JP_sales           16715 non-null float64\n",
      "Other_sales        16715 non-null float64\n",
      "Critic_Score       8137 non-null float64\n",
      "User_Score         10014 non-null object\n",
      "Rating             9949 non-null object\n",
      "dtypes: float64(6), object(5)\n",
      "memory usage: 1.4+ MB\n"
     ]
    }
   ],
   "source": [
    "df.info()\n",
    "# Итого в данных содержится 16713 строк и 11 столбцов. \n",
    "# Имеются пропуски по столбцам с оценкой критиков и пользователей, также пропуски имеются по столбу с рейтингом и году релиза\n",
    "# В двух строках пропущено имя и жанр"
   ]
  },
  {
   "cell_type": "code",
   "execution_count": 4,
   "metadata": {},
   "outputs": [
    {
     "data": {
      "text/html": [
       "<div>\n",
       "<style scoped>\n",
       "    .dataframe tbody tr th:only-of-type {\n",
       "        vertical-align: middle;\n",
       "    }\n",
       "\n",
       "    .dataframe tbody tr th {\n",
       "        vertical-align: top;\n",
       "    }\n",
       "\n",
       "    .dataframe thead th {\n",
       "        text-align: right;\n",
       "    }\n",
       "</style>\n",
       "<table border=\"1\" class=\"dataframe\">\n",
       "  <thead>\n",
       "    <tr style=\"text-align: right;\">\n",
       "      <th></th>\n",
       "      <th>Year_of_Release</th>\n",
       "      <th>NA_sales</th>\n",
       "      <th>EU_sales</th>\n",
       "      <th>JP_sales</th>\n",
       "      <th>Other_sales</th>\n",
       "      <th>Critic_Score</th>\n",
       "    </tr>\n",
       "  </thead>\n",
       "  <tbody>\n",
       "    <tr>\n",
       "      <td>count</td>\n",
       "      <td>16446.000000</td>\n",
       "      <td>16715.000000</td>\n",
       "      <td>16715.000000</td>\n",
       "      <td>16715.000000</td>\n",
       "      <td>16715.000000</td>\n",
       "      <td>8137.000000</td>\n",
       "    </tr>\n",
       "    <tr>\n",
       "      <td>mean</td>\n",
       "      <td>2006.484616</td>\n",
       "      <td>0.263377</td>\n",
       "      <td>0.145060</td>\n",
       "      <td>0.077617</td>\n",
       "      <td>0.047342</td>\n",
       "      <td>68.967679</td>\n",
       "    </tr>\n",
       "    <tr>\n",
       "      <td>std</td>\n",
       "      <td>5.877050</td>\n",
       "      <td>0.813604</td>\n",
       "      <td>0.503339</td>\n",
       "      <td>0.308853</td>\n",
       "      <td>0.186731</td>\n",
       "      <td>13.938165</td>\n",
       "    </tr>\n",
       "    <tr>\n",
       "      <td>min</td>\n",
       "      <td>1980.000000</td>\n",
       "      <td>0.000000</td>\n",
       "      <td>0.000000</td>\n",
       "      <td>0.000000</td>\n",
       "      <td>0.000000</td>\n",
       "      <td>13.000000</td>\n",
       "    </tr>\n",
       "    <tr>\n",
       "      <td>25%</td>\n",
       "      <td>2003.000000</td>\n",
       "      <td>0.000000</td>\n",
       "      <td>0.000000</td>\n",
       "      <td>0.000000</td>\n",
       "      <td>0.000000</td>\n",
       "      <td>60.000000</td>\n",
       "    </tr>\n",
       "    <tr>\n",
       "      <td>50%</td>\n",
       "      <td>2007.000000</td>\n",
       "      <td>0.080000</td>\n",
       "      <td>0.020000</td>\n",
       "      <td>0.000000</td>\n",
       "      <td>0.010000</td>\n",
       "      <td>71.000000</td>\n",
       "    </tr>\n",
       "    <tr>\n",
       "      <td>75%</td>\n",
       "      <td>2010.000000</td>\n",
       "      <td>0.240000</td>\n",
       "      <td>0.110000</td>\n",
       "      <td>0.040000</td>\n",
       "      <td>0.030000</td>\n",
       "      <td>79.000000</td>\n",
       "    </tr>\n",
       "    <tr>\n",
       "      <td>max</td>\n",
       "      <td>2016.000000</td>\n",
       "      <td>41.360000</td>\n",
       "      <td>28.960000</td>\n",
       "      <td>10.220000</td>\n",
       "      <td>10.570000</td>\n",
       "      <td>98.000000</td>\n",
       "    </tr>\n",
       "  </tbody>\n",
       "</table>\n",
       "</div>"
      ],
      "text/plain": [
       "       Year_of_Release      NA_sales      EU_sales      JP_sales  \\\n",
       "count     16446.000000  16715.000000  16715.000000  16715.000000   \n",
       "mean       2006.484616      0.263377      0.145060      0.077617   \n",
       "std           5.877050      0.813604      0.503339      0.308853   \n",
       "min        1980.000000      0.000000      0.000000      0.000000   \n",
       "25%        2003.000000      0.000000      0.000000      0.000000   \n",
       "50%        2007.000000      0.080000      0.020000      0.000000   \n",
       "75%        2010.000000      0.240000      0.110000      0.040000   \n",
       "max        2016.000000     41.360000     28.960000     10.220000   \n",
       "\n",
       "        Other_sales  Critic_Score  \n",
       "count  16715.000000   8137.000000  \n",
       "mean       0.047342     68.967679  \n",
       "std        0.186731     13.938165  \n",
       "min        0.000000     13.000000  \n",
       "25%        0.000000     60.000000  \n",
       "50%        0.010000     71.000000  \n",
       "75%        0.030000     79.000000  \n",
       "max       10.570000     98.000000  "
      ]
     },
     "execution_count": 4,
     "metadata": {},
     "output_type": "execute_result"
    }
   ],
   "source": [
    "df.describe()\n",
    "# В данных содержиться информация с 1980 по 2016 год"
   ]
  },
  {
   "cell_type": "markdown",
   "metadata": {},
   "source": [
    "# Шаг 2. Подготовка данных"
   ]
  },
  {
   "cell_type": "code",
   "execution_count": 5,
   "metadata": {},
   "outputs": [
    {
     "data": {
      "text/html": [
       "<div>\n",
       "<style scoped>\n",
       "    .dataframe tbody tr th:only-of-type {\n",
       "        vertical-align: middle;\n",
       "    }\n",
       "\n",
       "    .dataframe tbody tr th {\n",
       "        vertical-align: top;\n",
       "    }\n",
       "\n",
       "    .dataframe thead th {\n",
       "        text-align: right;\n",
       "    }\n",
       "</style>\n",
       "<table border=\"1\" class=\"dataframe\">\n",
       "  <thead>\n",
       "    <tr style=\"text-align: right;\">\n",
       "      <th></th>\n",
       "      <th>name</th>\n",
       "      <th>platform</th>\n",
       "      <th>year_of_release</th>\n",
       "      <th>genre</th>\n",
       "      <th>na_sales</th>\n",
       "      <th>eu_sales</th>\n",
       "      <th>jp_sales</th>\n",
       "      <th>other_sales</th>\n",
       "      <th>critic_score</th>\n",
       "      <th>user_score</th>\n",
       "      <th>rating</th>\n",
       "    </tr>\n",
       "  </thead>\n",
       "  <tbody>\n",
       "    <tr>\n",
       "      <td>0</td>\n",
       "      <td>Wii Sports</td>\n",
       "      <td>Wii</td>\n",
       "      <td>2006.0</td>\n",
       "      <td>Sports</td>\n",
       "      <td>41.36</td>\n",
       "      <td>28.96</td>\n",
       "      <td>3.77</td>\n",
       "      <td>8.45</td>\n",
       "      <td>76.0</td>\n",
       "      <td>8</td>\n",
       "      <td>E</td>\n",
       "    </tr>\n",
       "    <tr>\n",
       "      <td>1</td>\n",
       "      <td>Super Mario Bros.</td>\n",
       "      <td>NES</td>\n",
       "      <td>1985.0</td>\n",
       "      <td>Platform</td>\n",
       "      <td>29.08</td>\n",
       "      <td>3.58</td>\n",
       "      <td>6.81</td>\n",
       "      <td>0.77</td>\n",
       "      <td>NaN</td>\n",
       "      <td>NaN</td>\n",
       "      <td>NaN</td>\n",
       "    </tr>\n",
       "    <tr>\n",
       "      <td>2</td>\n",
       "      <td>Mario Kart Wii</td>\n",
       "      <td>Wii</td>\n",
       "      <td>2008.0</td>\n",
       "      <td>Racing</td>\n",
       "      <td>15.68</td>\n",
       "      <td>12.76</td>\n",
       "      <td>3.79</td>\n",
       "      <td>3.29</td>\n",
       "      <td>82.0</td>\n",
       "      <td>8.3</td>\n",
       "      <td>E</td>\n",
       "    </tr>\n",
       "    <tr>\n",
       "      <td>3</td>\n",
       "      <td>Wii Sports Resort</td>\n",
       "      <td>Wii</td>\n",
       "      <td>2009.0</td>\n",
       "      <td>Sports</td>\n",
       "      <td>15.61</td>\n",
       "      <td>10.93</td>\n",
       "      <td>3.28</td>\n",
       "      <td>2.95</td>\n",
       "      <td>80.0</td>\n",
       "      <td>8</td>\n",
       "      <td>E</td>\n",
       "    </tr>\n",
       "    <tr>\n",
       "      <td>4</td>\n",
       "      <td>Pokemon Red/Pokemon Blue</td>\n",
       "      <td>GB</td>\n",
       "      <td>1996.0</td>\n",
       "      <td>Role-Playing</td>\n",
       "      <td>11.27</td>\n",
       "      <td>8.89</td>\n",
       "      <td>10.22</td>\n",
       "      <td>1.00</td>\n",
       "      <td>NaN</td>\n",
       "      <td>NaN</td>\n",
       "      <td>NaN</td>\n",
       "    </tr>\n",
       "    <tr>\n",
       "      <td>...</td>\n",
       "      <td>...</td>\n",
       "      <td>...</td>\n",
       "      <td>...</td>\n",
       "      <td>...</td>\n",
       "      <td>...</td>\n",
       "      <td>...</td>\n",
       "      <td>...</td>\n",
       "      <td>...</td>\n",
       "      <td>...</td>\n",
       "      <td>...</td>\n",
       "      <td>...</td>\n",
       "    </tr>\n",
       "    <tr>\n",
       "      <td>16710</td>\n",
       "      <td>Samurai Warriors: Sanada Maru</td>\n",
       "      <td>PS3</td>\n",
       "      <td>2016.0</td>\n",
       "      <td>Action</td>\n",
       "      <td>0.00</td>\n",
       "      <td>0.00</td>\n",
       "      <td>0.01</td>\n",
       "      <td>0.00</td>\n",
       "      <td>NaN</td>\n",
       "      <td>NaN</td>\n",
       "      <td>NaN</td>\n",
       "    </tr>\n",
       "    <tr>\n",
       "      <td>16711</td>\n",
       "      <td>LMA Manager 2007</td>\n",
       "      <td>X360</td>\n",
       "      <td>2006.0</td>\n",
       "      <td>Sports</td>\n",
       "      <td>0.00</td>\n",
       "      <td>0.01</td>\n",
       "      <td>0.00</td>\n",
       "      <td>0.00</td>\n",
       "      <td>NaN</td>\n",
       "      <td>NaN</td>\n",
       "      <td>NaN</td>\n",
       "    </tr>\n",
       "    <tr>\n",
       "      <td>16712</td>\n",
       "      <td>Haitaka no Psychedelica</td>\n",
       "      <td>PSV</td>\n",
       "      <td>2016.0</td>\n",
       "      <td>Adventure</td>\n",
       "      <td>0.00</td>\n",
       "      <td>0.00</td>\n",
       "      <td>0.01</td>\n",
       "      <td>0.00</td>\n",
       "      <td>NaN</td>\n",
       "      <td>NaN</td>\n",
       "      <td>NaN</td>\n",
       "    </tr>\n",
       "    <tr>\n",
       "      <td>16713</td>\n",
       "      <td>Spirits &amp; Spells</td>\n",
       "      <td>GBA</td>\n",
       "      <td>2003.0</td>\n",
       "      <td>Platform</td>\n",
       "      <td>0.01</td>\n",
       "      <td>0.00</td>\n",
       "      <td>0.00</td>\n",
       "      <td>0.00</td>\n",
       "      <td>NaN</td>\n",
       "      <td>NaN</td>\n",
       "      <td>NaN</td>\n",
       "    </tr>\n",
       "    <tr>\n",
       "      <td>16714</td>\n",
       "      <td>Winning Post 8 2016</td>\n",
       "      <td>PSV</td>\n",
       "      <td>2016.0</td>\n",
       "      <td>Simulation</td>\n",
       "      <td>0.00</td>\n",
       "      <td>0.00</td>\n",
       "      <td>0.01</td>\n",
       "      <td>0.00</td>\n",
       "      <td>NaN</td>\n",
       "      <td>NaN</td>\n",
       "      <td>NaN</td>\n",
       "    </tr>\n",
       "  </tbody>\n",
       "</table>\n",
       "<p>16715 rows × 11 columns</p>\n",
       "</div>"
      ],
      "text/plain": [
       "                                name platform  year_of_release         genre  \\\n",
       "0                         Wii Sports      Wii           2006.0        Sports   \n",
       "1                  Super Mario Bros.      NES           1985.0      Platform   \n",
       "2                     Mario Kart Wii      Wii           2008.0        Racing   \n",
       "3                  Wii Sports Resort      Wii           2009.0        Sports   \n",
       "4           Pokemon Red/Pokemon Blue       GB           1996.0  Role-Playing   \n",
       "...                              ...      ...              ...           ...   \n",
       "16710  Samurai Warriors: Sanada Maru      PS3           2016.0        Action   \n",
       "16711               LMA Manager 2007     X360           2006.0        Sports   \n",
       "16712        Haitaka no Psychedelica      PSV           2016.0     Adventure   \n",
       "16713               Spirits & Spells      GBA           2003.0      Platform   \n",
       "16714            Winning Post 8 2016      PSV           2016.0    Simulation   \n",
       "\n",
       "       na_sales  eu_sales  jp_sales  other_sales  critic_score user_score  \\\n",
       "0         41.36     28.96      3.77         8.45          76.0          8   \n",
       "1         29.08      3.58      6.81         0.77           NaN        NaN   \n",
       "2         15.68     12.76      3.79         3.29          82.0        8.3   \n",
       "3         15.61     10.93      3.28         2.95          80.0          8   \n",
       "4         11.27      8.89     10.22         1.00           NaN        NaN   \n",
       "...         ...       ...       ...          ...           ...        ...   \n",
       "16710      0.00      0.00      0.01         0.00           NaN        NaN   \n",
       "16711      0.00      0.01      0.00         0.00           NaN        NaN   \n",
       "16712      0.00      0.00      0.01         0.00           NaN        NaN   \n",
       "16713      0.01      0.00      0.00         0.00           NaN        NaN   \n",
       "16714      0.00      0.00      0.01         0.00           NaN        NaN   \n",
       "\n",
       "      rating  \n",
       "0          E  \n",
       "1        NaN  \n",
       "2          E  \n",
       "3          E  \n",
       "4        NaN  \n",
       "...      ...  \n",
       "16710    NaN  \n",
       "16711    NaN  \n",
       "16712    NaN  \n",
       "16713    NaN  \n",
       "16714    NaN  \n",
       "\n",
       "[16715 rows x 11 columns]"
      ]
     },
     "execution_count": 5,
     "metadata": {},
     "output_type": "execute_result"
    }
   ],
   "source": [
    "# Приводим названия столбцов к нижнему регистру\n",
    "df.columns = df.columns.str.lower()\n",
    "df"
   ]
  },
  {
   "cell_type": "code",
   "execution_count": 6,
   "metadata": {},
   "outputs": [
    {
     "data": {
      "text/plain": [
       "name                  2\n",
       "platform              0\n",
       "year_of_release     269\n",
       "genre                 2\n",
       "na_sales              0\n",
       "eu_sales              0\n",
       "jp_sales              0\n",
       "other_sales           0\n",
       "critic_score       8578\n",
       "user_score         6701\n",
       "rating             6766\n",
       "dtype: int64"
      ]
     },
     "execution_count": 6,
     "metadata": {},
     "output_type": "execute_result"
    }
   ],
   "source": [
    "# Посмотрим на пропуски\n",
    "df.isnull().sum()\n",
    "# В данных большое количество пропусков\n",
    "# Обработаем по порядку"
   ]
  },
  {
   "cell_type": "code",
   "execution_count": 7,
   "metadata": {},
   "outputs": [
    {
     "data": {
      "text/html": [
       "<div>\n",
       "<style scoped>\n",
       "    .dataframe tbody tr th:only-of-type {\n",
       "        vertical-align: middle;\n",
       "    }\n",
       "\n",
       "    .dataframe tbody tr th {\n",
       "        vertical-align: top;\n",
       "    }\n",
       "\n",
       "    .dataframe thead th {\n",
       "        text-align: right;\n",
       "    }\n",
       "</style>\n",
       "<table border=\"1\" class=\"dataframe\">\n",
       "  <thead>\n",
       "    <tr style=\"text-align: right;\">\n",
       "      <th></th>\n",
       "      <th>name</th>\n",
       "      <th>platform</th>\n",
       "      <th>year_of_release</th>\n",
       "      <th>genre</th>\n",
       "      <th>na_sales</th>\n",
       "      <th>eu_sales</th>\n",
       "      <th>jp_sales</th>\n",
       "      <th>other_sales</th>\n",
       "      <th>critic_score</th>\n",
       "      <th>user_score</th>\n",
       "      <th>rating</th>\n",
       "    </tr>\n",
       "  </thead>\n",
       "  <tbody>\n",
       "    <tr>\n",
       "      <td>659</td>\n",
       "      <td>NaN</td>\n",
       "      <td>GEN</td>\n",
       "      <td>1993.0</td>\n",
       "      <td>NaN</td>\n",
       "      <td>1.78</td>\n",
       "      <td>0.53</td>\n",
       "      <td>0.00</td>\n",
       "      <td>0.08</td>\n",
       "      <td>NaN</td>\n",
       "      <td>NaN</td>\n",
       "      <td>NaN</td>\n",
       "    </tr>\n",
       "    <tr>\n",
       "      <td>14244</td>\n",
       "      <td>NaN</td>\n",
       "      <td>GEN</td>\n",
       "      <td>1993.0</td>\n",
       "      <td>NaN</td>\n",
       "      <td>0.00</td>\n",
       "      <td>0.00</td>\n",
       "      <td>0.03</td>\n",
       "      <td>0.00</td>\n",
       "      <td>NaN</td>\n",
       "      <td>NaN</td>\n",
       "      <td>NaN</td>\n",
       "    </tr>\n",
       "  </tbody>\n",
       "</table>\n",
       "</div>"
      ],
      "text/plain": [
       "      name platform  year_of_release genre  na_sales  eu_sales  jp_sales  \\\n",
       "659    NaN      GEN           1993.0   NaN      1.78      0.53      0.00   \n",
       "14244  NaN      GEN           1993.0   NaN      0.00      0.00      0.03   \n",
       "\n",
       "       other_sales  critic_score user_score rating  \n",
       "659           0.08           NaN        NaN    NaN  \n",
       "14244         0.00           NaN        NaN    NaN  "
      ]
     },
     "execution_count": 7,
     "metadata": {},
     "output_type": "execute_result"
    }
   ],
   "source": [
    "# Всего 2 строки с пропусками в названии - вероятно появились из-за простой ошибки\n",
    "df.loc[(df['name'].isnull())]"
   ]
  },
  {
   "cell_type": "code",
   "execution_count": 8,
   "metadata": {},
   "outputs": [],
   "source": [
    "# вообще непонятно, что это за игры - удалим их\n",
    "df = df.drop(df[df['name'].isnull()].index)"
   ]
  },
  {
   "cell_type": "code",
   "execution_count": 9,
   "metadata": {},
   "outputs": [
    {
     "data": {
      "text/html": [
       "<div>\n",
       "<style scoped>\n",
       "    .dataframe tbody tr th:only-of-type {\n",
       "        vertical-align: middle;\n",
       "    }\n",
       "\n",
       "    .dataframe tbody tr th {\n",
       "        vertical-align: top;\n",
       "    }\n",
       "\n",
       "    .dataframe thead th {\n",
       "        text-align: right;\n",
       "    }\n",
       "</style>\n",
       "<table border=\"1\" class=\"dataframe\">\n",
       "  <thead>\n",
       "    <tr style=\"text-align: right;\">\n",
       "      <th></th>\n",
       "      <th>name</th>\n",
       "      <th>platform</th>\n",
       "      <th>year_of_release</th>\n",
       "      <th>genre</th>\n",
       "      <th>na_sales</th>\n",
       "      <th>eu_sales</th>\n",
       "      <th>jp_sales</th>\n",
       "      <th>other_sales</th>\n",
       "      <th>critic_score</th>\n",
       "      <th>user_score</th>\n",
       "      <th>rating</th>\n",
       "    </tr>\n",
       "  </thead>\n",
       "  <tbody>\n",
       "    <tr>\n",
       "      <td>183</td>\n",
       "      <td>Madden NFL 2004</td>\n",
       "      <td>PS2</td>\n",
       "      <td>NaN</td>\n",
       "      <td>Sports</td>\n",
       "      <td>4.26</td>\n",
       "      <td>0.26</td>\n",
       "      <td>0.01</td>\n",
       "      <td>0.71</td>\n",
       "      <td>94.0</td>\n",
       "      <td>8.5</td>\n",
       "      <td>E</td>\n",
       "    </tr>\n",
       "    <tr>\n",
       "      <td>377</td>\n",
       "      <td>FIFA Soccer 2004</td>\n",
       "      <td>PS2</td>\n",
       "      <td>NaN</td>\n",
       "      <td>Sports</td>\n",
       "      <td>0.59</td>\n",
       "      <td>2.36</td>\n",
       "      <td>0.04</td>\n",
       "      <td>0.51</td>\n",
       "      <td>84.0</td>\n",
       "      <td>6.4</td>\n",
       "      <td>E</td>\n",
       "    </tr>\n",
       "    <tr>\n",
       "      <td>456</td>\n",
       "      <td>LEGO Batman: The Videogame</td>\n",
       "      <td>Wii</td>\n",
       "      <td>NaN</td>\n",
       "      <td>Action</td>\n",
       "      <td>1.80</td>\n",
       "      <td>0.97</td>\n",
       "      <td>0.00</td>\n",
       "      <td>0.29</td>\n",
       "      <td>74.0</td>\n",
       "      <td>7.9</td>\n",
       "      <td>E10+</td>\n",
       "    </tr>\n",
       "    <tr>\n",
       "      <td>475</td>\n",
       "      <td>wwe Smackdown vs. Raw 2006</td>\n",
       "      <td>PS2</td>\n",
       "      <td>NaN</td>\n",
       "      <td>Fighting</td>\n",
       "      <td>1.57</td>\n",
       "      <td>1.02</td>\n",
       "      <td>0.00</td>\n",
       "      <td>0.41</td>\n",
       "      <td>NaN</td>\n",
       "      <td>NaN</td>\n",
       "      <td>NaN</td>\n",
       "    </tr>\n",
       "    <tr>\n",
       "      <td>609</td>\n",
       "      <td>Space Invaders</td>\n",
       "      <td>2600</td>\n",
       "      <td>NaN</td>\n",
       "      <td>Shooter</td>\n",
       "      <td>2.36</td>\n",
       "      <td>0.14</td>\n",
       "      <td>0.00</td>\n",
       "      <td>0.03</td>\n",
       "      <td>NaN</td>\n",
       "      <td>NaN</td>\n",
       "      <td>NaN</td>\n",
       "    </tr>\n",
       "    <tr>\n",
       "      <td>...</td>\n",
       "      <td>...</td>\n",
       "      <td>...</td>\n",
       "      <td>...</td>\n",
       "      <td>...</td>\n",
       "      <td>...</td>\n",
       "      <td>...</td>\n",
       "      <td>...</td>\n",
       "      <td>...</td>\n",
       "      <td>...</td>\n",
       "      <td>...</td>\n",
       "      <td>...</td>\n",
       "    </tr>\n",
       "    <tr>\n",
       "      <td>16373</td>\n",
       "      <td>PDC World Championship Darts 2008</td>\n",
       "      <td>PSP</td>\n",
       "      <td>NaN</td>\n",
       "      <td>Sports</td>\n",
       "      <td>0.01</td>\n",
       "      <td>0.00</td>\n",
       "      <td>0.00</td>\n",
       "      <td>0.00</td>\n",
       "      <td>43.0</td>\n",
       "      <td>tbd</td>\n",
       "      <td>E10+</td>\n",
       "    </tr>\n",
       "    <tr>\n",
       "      <td>16405</td>\n",
       "      <td>Freaky Flyers</td>\n",
       "      <td>GC</td>\n",
       "      <td>NaN</td>\n",
       "      <td>Racing</td>\n",
       "      <td>0.01</td>\n",
       "      <td>0.00</td>\n",
       "      <td>0.00</td>\n",
       "      <td>0.00</td>\n",
       "      <td>69.0</td>\n",
       "      <td>6.5</td>\n",
       "      <td>T</td>\n",
       "    </tr>\n",
       "    <tr>\n",
       "      <td>16448</td>\n",
       "      <td>Inversion</td>\n",
       "      <td>PC</td>\n",
       "      <td>NaN</td>\n",
       "      <td>Shooter</td>\n",
       "      <td>0.01</td>\n",
       "      <td>0.00</td>\n",
       "      <td>0.00</td>\n",
       "      <td>0.00</td>\n",
       "      <td>59.0</td>\n",
       "      <td>6.7</td>\n",
       "      <td>M</td>\n",
       "    </tr>\n",
       "    <tr>\n",
       "      <td>16458</td>\n",
       "      <td>Hakuouki: Shinsengumi Kitan</td>\n",
       "      <td>PS3</td>\n",
       "      <td>NaN</td>\n",
       "      <td>Adventure</td>\n",
       "      <td>0.01</td>\n",
       "      <td>0.00</td>\n",
       "      <td>0.00</td>\n",
       "      <td>0.00</td>\n",
       "      <td>NaN</td>\n",
       "      <td>NaN</td>\n",
       "      <td>NaN</td>\n",
       "    </tr>\n",
       "    <tr>\n",
       "      <td>16522</td>\n",
       "      <td>Virtua Quest</td>\n",
       "      <td>GC</td>\n",
       "      <td>NaN</td>\n",
       "      <td>Role-Playing</td>\n",
       "      <td>0.01</td>\n",
       "      <td>0.00</td>\n",
       "      <td>0.00</td>\n",
       "      <td>0.00</td>\n",
       "      <td>55.0</td>\n",
       "      <td>5.5</td>\n",
       "      <td>T</td>\n",
       "    </tr>\n",
       "  </tbody>\n",
       "</table>\n",
       "<p>269 rows × 11 columns</p>\n",
       "</div>"
      ],
      "text/plain": [
       "                                    name platform  year_of_release  \\\n",
       "183                      Madden NFL 2004      PS2              NaN   \n",
       "377                     FIFA Soccer 2004      PS2              NaN   \n",
       "456           LEGO Batman: The Videogame      Wii              NaN   \n",
       "475           wwe Smackdown vs. Raw 2006      PS2              NaN   \n",
       "609                       Space Invaders     2600              NaN   \n",
       "...                                  ...      ...              ...   \n",
       "16373  PDC World Championship Darts 2008      PSP              NaN   \n",
       "16405                      Freaky Flyers       GC              NaN   \n",
       "16448                          Inversion       PC              NaN   \n",
       "16458        Hakuouki: Shinsengumi Kitan      PS3              NaN   \n",
       "16522                       Virtua Quest       GC              NaN   \n",
       "\n",
       "              genre  na_sales  eu_sales  jp_sales  other_sales  critic_score  \\\n",
       "183          Sports      4.26      0.26      0.01         0.71          94.0   \n",
       "377          Sports      0.59      2.36      0.04         0.51          84.0   \n",
       "456          Action      1.80      0.97      0.00         0.29          74.0   \n",
       "475        Fighting      1.57      1.02      0.00         0.41           NaN   \n",
       "609         Shooter      2.36      0.14      0.00         0.03           NaN   \n",
       "...             ...       ...       ...       ...          ...           ...   \n",
       "16373        Sports      0.01      0.00      0.00         0.00          43.0   \n",
       "16405        Racing      0.01      0.00      0.00         0.00          69.0   \n",
       "16448       Shooter      0.01      0.00      0.00         0.00          59.0   \n",
       "16458     Adventure      0.01      0.00      0.00         0.00           NaN   \n",
       "16522  Role-Playing      0.01      0.00      0.00         0.00          55.0   \n",
       "\n",
       "      user_score rating  \n",
       "183          8.5      E  \n",
       "377          6.4      E  \n",
       "456          7.9   E10+  \n",
       "475          NaN    NaN  \n",
       "609          NaN    NaN  \n",
       "...          ...    ...  \n",
       "16373        tbd   E10+  \n",
       "16405        6.5      T  \n",
       "16448        6.7      M  \n",
       "16458        NaN    NaN  \n",
       "16522        5.5      T  \n",
       "\n",
       "[269 rows x 11 columns]"
      ]
     },
     "execution_count": 9,
     "metadata": {},
     "output_type": "execute_result"
    }
   ],
   "source": [
    "# Посмотрим на пропуски по году релиза\n",
    "df.loc[(df['year_of_release'].isnull())]\n",
    "# В принципе таких строк не много. Они могли возникнуть также из-за каких-то технических ошибок\n",
    "# Или из-за неопределенности года (может игра в разных странах вышла в разные года)"
   ]
  },
  {
   "cell_type": "code",
   "execution_count": 10,
   "metadata": {},
   "outputs": [],
   "source": [
    "# Год релиза нельзя заменить средним\n",
    "# Пробовала заменить условным значение, но потом оно портит графики и его все равно надо убирать\n",
    "# В принципе не так много строк. Удалим и их\n",
    "df = df.drop(df[df['year_of_release'].isnull()].index)"
   ]
  },
  {
   "cell_type": "code",
   "execution_count": 11,
   "metadata": {},
   "outputs": [
    {
     "data": {
      "text/html": [
       "<div>\n",
       "<style scoped>\n",
       "    .dataframe tbody tr th:only-of-type {\n",
       "        vertical-align: middle;\n",
       "    }\n",
       "\n",
       "    .dataframe tbody tr th {\n",
       "        vertical-align: top;\n",
       "    }\n",
       "\n",
       "    .dataframe thead th {\n",
       "        text-align: right;\n",
       "    }\n",
       "</style>\n",
       "<table border=\"1\" class=\"dataframe\">\n",
       "  <thead>\n",
       "    <tr style=\"text-align: right;\">\n",
       "      <th></th>\n",
       "      <th>name</th>\n",
       "      <th>platform</th>\n",
       "      <th>year_of_release</th>\n",
       "      <th>genre</th>\n",
       "      <th>na_sales</th>\n",
       "      <th>eu_sales</th>\n",
       "      <th>jp_sales</th>\n",
       "      <th>other_sales</th>\n",
       "      <th>critic_score</th>\n",
       "      <th>user_score</th>\n",
       "      <th>rating</th>\n",
       "    </tr>\n",
       "  </thead>\n",
       "  <tbody>\n",
       "    <tr>\n",
       "      <td>1</td>\n",
       "      <td>Super Mario Bros.</td>\n",
       "      <td>NES</td>\n",
       "      <td>1985.0</td>\n",
       "      <td>Platform</td>\n",
       "      <td>29.08</td>\n",
       "      <td>3.58</td>\n",
       "      <td>6.81</td>\n",
       "      <td>0.77</td>\n",
       "      <td>NaN</td>\n",
       "      <td>NaN</td>\n",
       "      <td>NaN</td>\n",
       "    </tr>\n",
       "    <tr>\n",
       "      <td>4</td>\n",
       "      <td>Pokemon Red/Pokemon Blue</td>\n",
       "      <td>GB</td>\n",
       "      <td>1996.0</td>\n",
       "      <td>Role-Playing</td>\n",
       "      <td>11.27</td>\n",
       "      <td>8.89</td>\n",
       "      <td>10.22</td>\n",
       "      <td>1.00</td>\n",
       "      <td>NaN</td>\n",
       "      <td>NaN</td>\n",
       "      <td>NaN</td>\n",
       "    </tr>\n",
       "    <tr>\n",
       "      <td>5</td>\n",
       "      <td>Tetris</td>\n",
       "      <td>GB</td>\n",
       "      <td>1989.0</td>\n",
       "      <td>Puzzle</td>\n",
       "      <td>23.20</td>\n",
       "      <td>2.26</td>\n",
       "      <td>4.22</td>\n",
       "      <td>0.58</td>\n",
       "      <td>NaN</td>\n",
       "      <td>NaN</td>\n",
       "      <td>NaN</td>\n",
       "    </tr>\n",
       "    <tr>\n",
       "      <td>9</td>\n",
       "      <td>Duck Hunt</td>\n",
       "      <td>NES</td>\n",
       "      <td>1984.0</td>\n",
       "      <td>Shooter</td>\n",
       "      <td>26.93</td>\n",
       "      <td>0.63</td>\n",
       "      <td>0.28</td>\n",
       "      <td>0.47</td>\n",
       "      <td>NaN</td>\n",
       "      <td>NaN</td>\n",
       "      <td>NaN</td>\n",
       "    </tr>\n",
       "    <tr>\n",
       "      <td>10</td>\n",
       "      <td>Nintendogs</td>\n",
       "      <td>DS</td>\n",
       "      <td>2005.0</td>\n",
       "      <td>Simulation</td>\n",
       "      <td>9.05</td>\n",
       "      <td>10.95</td>\n",
       "      <td>1.93</td>\n",
       "      <td>2.74</td>\n",
       "      <td>NaN</td>\n",
       "      <td>NaN</td>\n",
       "      <td>NaN</td>\n",
       "    </tr>\n",
       "    <tr>\n",
       "      <td>...</td>\n",
       "      <td>...</td>\n",
       "      <td>...</td>\n",
       "      <td>...</td>\n",
       "      <td>...</td>\n",
       "      <td>...</td>\n",
       "      <td>...</td>\n",
       "      <td>...</td>\n",
       "      <td>...</td>\n",
       "      <td>...</td>\n",
       "      <td>...</td>\n",
       "      <td>...</td>\n",
       "    </tr>\n",
       "    <tr>\n",
       "      <td>16710</td>\n",
       "      <td>Samurai Warriors: Sanada Maru</td>\n",
       "      <td>PS3</td>\n",
       "      <td>2016.0</td>\n",
       "      <td>Action</td>\n",
       "      <td>0.00</td>\n",
       "      <td>0.00</td>\n",
       "      <td>0.01</td>\n",
       "      <td>0.00</td>\n",
       "      <td>NaN</td>\n",
       "      <td>NaN</td>\n",
       "      <td>NaN</td>\n",
       "    </tr>\n",
       "    <tr>\n",
       "      <td>16711</td>\n",
       "      <td>LMA Manager 2007</td>\n",
       "      <td>X360</td>\n",
       "      <td>2006.0</td>\n",
       "      <td>Sports</td>\n",
       "      <td>0.00</td>\n",
       "      <td>0.01</td>\n",
       "      <td>0.00</td>\n",
       "      <td>0.00</td>\n",
       "      <td>NaN</td>\n",
       "      <td>NaN</td>\n",
       "      <td>NaN</td>\n",
       "    </tr>\n",
       "    <tr>\n",
       "      <td>16712</td>\n",
       "      <td>Haitaka no Psychedelica</td>\n",
       "      <td>PSV</td>\n",
       "      <td>2016.0</td>\n",
       "      <td>Adventure</td>\n",
       "      <td>0.00</td>\n",
       "      <td>0.00</td>\n",
       "      <td>0.01</td>\n",
       "      <td>0.00</td>\n",
       "      <td>NaN</td>\n",
       "      <td>NaN</td>\n",
       "      <td>NaN</td>\n",
       "    </tr>\n",
       "    <tr>\n",
       "      <td>16713</td>\n",
       "      <td>Spirits &amp; Spells</td>\n",
       "      <td>GBA</td>\n",
       "      <td>2003.0</td>\n",
       "      <td>Platform</td>\n",
       "      <td>0.01</td>\n",
       "      <td>0.00</td>\n",
       "      <td>0.00</td>\n",
       "      <td>0.00</td>\n",
       "      <td>NaN</td>\n",
       "      <td>NaN</td>\n",
       "      <td>NaN</td>\n",
       "    </tr>\n",
       "    <tr>\n",
       "      <td>16714</td>\n",
       "      <td>Winning Post 8 2016</td>\n",
       "      <td>PSV</td>\n",
       "      <td>2016.0</td>\n",
       "      <td>Simulation</td>\n",
       "      <td>0.00</td>\n",
       "      <td>0.00</td>\n",
       "      <td>0.01</td>\n",
       "      <td>0.00</td>\n",
       "      <td>NaN</td>\n",
       "      <td>NaN</td>\n",
       "      <td>NaN</td>\n",
       "    </tr>\n",
       "  </tbody>\n",
       "</table>\n",
       "<p>8461 rows × 11 columns</p>\n",
       "</div>"
      ],
      "text/plain": [
       "                                name platform  year_of_release         genre  \\\n",
       "1                  Super Mario Bros.      NES           1985.0      Platform   \n",
       "4           Pokemon Red/Pokemon Blue       GB           1996.0  Role-Playing   \n",
       "5                             Tetris       GB           1989.0        Puzzle   \n",
       "9                          Duck Hunt      NES           1984.0       Shooter   \n",
       "10                        Nintendogs       DS           2005.0    Simulation   \n",
       "...                              ...      ...              ...           ...   \n",
       "16710  Samurai Warriors: Sanada Maru      PS3           2016.0        Action   \n",
       "16711               LMA Manager 2007     X360           2006.0        Sports   \n",
       "16712        Haitaka no Psychedelica      PSV           2016.0     Adventure   \n",
       "16713               Spirits & Spells      GBA           2003.0      Platform   \n",
       "16714            Winning Post 8 2016      PSV           2016.0    Simulation   \n",
       "\n",
       "       na_sales  eu_sales  jp_sales  other_sales  critic_score user_score  \\\n",
       "1         29.08      3.58      6.81         0.77           NaN        NaN   \n",
       "4         11.27      8.89     10.22         1.00           NaN        NaN   \n",
       "5         23.20      2.26      4.22         0.58           NaN        NaN   \n",
       "9         26.93      0.63      0.28         0.47           NaN        NaN   \n",
       "10         9.05     10.95      1.93         2.74           NaN        NaN   \n",
       "...         ...       ...       ...          ...           ...        ...   \n",
       "16710      0.00      0.00      0.01         0.00           NaN        NaN   \n",
       "16711      0.00      0.01      0.00         0.00           NaN        NaN   \n",
       "16712      0.00      0.00      0.01         0.00           NaN        NaN   \n",
       "16713      0.01      0.00      0.00         0.00           NaN        NaN   \n",
       "16714      0.00      0.00      0.01         0.00           NaN        NaN   \n",
       "\n",
       "      rating  \n",
       "1        NaN  \n",
       "4        NaN  \n",
       "5        NaN  \n",
       "9        NaN  \n",
       "10       NaN  \n",
       "...      ...  \n",
       "16710    NaN  \n",
       "16711    NaN  \n",
       "16712    NaN  \n",
       "16713    NaN  \n",
       "16714    NaN  \n",
       "\n",
       "[8461 rows x 11 columns]"
      ]
     },
     "execution_count": 11,
     "metadata": {},
     "output_type": "execute_result"
    }
   ],
   "source": [
    "# Пропуски в оценке критиков\n",
    "df.loc[(df['critic_score'].isnull())]\n",
    "# Таких пропусков слишком много. Заменять средним тоже не слишком логично\n",
    "# Может это неизвестные игры и критики их не оценивали"
   ]
  },
  {
   "cell_type": "code",
   "execution_count": 12,
   "metadata": {},
   "outputs": [
    {
     "data": {
      "text/plain": [
       "array([76., nan, 82., 80., 89., 58., 87., 91., 61., 97., 95., 77., 88.,\n",
       "       83., 94., 93., 85., 86., 98., 96., 90., 84., 73., 74., 78., 92.,\n",
       "       71., 72., 68., 62., 49., 67., 81., 66., 56., 79., 70., 59., 64.,\n",
       "       75., 60., 63., 69., 50., 25., 42., 44., 55., 48., 57., 29., 47.,\n",
       "       65., 54., 20., 53., 37., 38., 33., 52., 30., 32., 43., 45., 51.,\n",
       "       40., 46., 39., 34., 41., 36., 31., 27., 35., 26., 19., 28., 23.,\n",
       "       24., 21., 17., 13.])"
      ]
     },
     "execution_count": 12,
     "metadata": {},
     "output_type": "execute_result"
    }
   ],
   "source": [
    "# Посмотрим как можно заменить\n",
    "# Для начала посмотрим какие оценки вообще возможны\n",
    "df['critic_score'].unique()\n",
    "# Оценки - двузначные цифры не меньше 13"
   ]
  },
  {
   "cell_type": "code",
   "execution_count": 13,
   "metadata": {},
   "outputs": [],
   "source": [
    "# Заменим на условное значение\n",
    "df['critic_score'] = df['critic_score'].fillna(0)\n",
    "# Главное учитывать это в дальнейшем анализе"
   ]
  },
  {
   "cell_type": "code",
   "execution_count": 14,
   "metadata": {},
   "outputs": [
    {
     "data": {
      "text/html": [
       "<div>\n",
       "<style scoped>\n",
       "    .dataframe tbody tr th:only-of-type {\n",
       "        vertical-align: middle;\n",
       "    }\n",
       "\n",
       "    .dataframe tbody tr th {\n",
       "        vertical-align: top;\n",
       "    }\n",
       "\n",
       "    .dataframe thead th {\n",
       "        text-align: right;\n",
       "    }\n",
       "</style>\n",
       "<table border=\"1\" class=\"dataframe\">\n",
       "  <thead>\n",
       "    <tr style=\"text-align: right;\">\n",
       "      <th></th>\n",
       "      <th>name</th>\n",
       "      <th>platform</th>\n",
       "      <th>year_of_release</th>\n",
       "      <th>genre</th>\n",
       "      <th>na_sales</th>\n",
       "      <th>eu_sales</th>\n",
       "      <th>jp_sales</th>\n",
       "      <th>other_sales</th>\n",
       "      <th>critic_score</th>\n",
       "      <th>user_score</th>\n",
       "      <th>rating</th>\n",
       "    </tr>\n",
       "  </thead>\n",
       "  <tbody>\n",
       "    <tr>\n",
       "      <td>1</td>\n",
       "      <td>Super Mario Bros.</td>\n",
       "      <td>NES</td>\n",
       "      <td>1985.0</td>\n",
       "      <td>Platform</td>\n",
       "      <td>29.08</td>\n",
       "      <td>3.58</td>\n",
       "      <td>6.81</td>\n",
       "      <td>0.77</td>\n",
       "      <td>0.0</td>\n",
       "      <td>NaN</td>\n",
       "      <td>NaN</td>\n",
       "    </tr>\n",
       "    <tr>\n",
       "      <td>4</td>\n",
       "      <td>Pokemon Red/Pokemon Blue</td>\n",
       "      <td>GB</td>\n",
       "      <td>1996.0</td>\n",
       "      <td>Role-Playing</td>\n",
       "      <td>11.27</td>\n",
       "      <td>8.89</td>\n",
       "      <td>10.22</td>\n",
       "      <td>1.00</td>\n",
       "      <td>0.0</td>\n",
       "      <td>NaN</td>\n",
       "      <td>NaN</td>\n",
       "    </tr>\n",
       "    <tr>\n",
       "      <td>5</td>\n",
       "      <td>Tetris</td>\n",
       "      <td>GB</td>\n",
       "      <td>1989.0</td>\n",
       "      <td>Puzzle</td>\n",
       "      <td>23.20</td>\n",
       "      <td>2.26</td>\n",
       "      <td>4.22</td>\n",
       "      <td>0.58</td>\n",
       "      <td>0.0</td>\n",
       "      <td>NaN</td>\n",
       "      <td>NaN</td>\n",
       "    </tr>\n",
       "    <tr>\n",
       "      <td>9</td>\n",
       "      <td>Duck Hunt</td>\n",
       "      <td>NES</td>\n",
       "      <td>1984.0</td>\n",
       "      <td>Shooter</td>\n",
       "      <td>26.93</td>\n",
       "      <td>0.63</td>\n",
       "      <td>0.28</td>\n",
       "      <td>0.47</td>\n",
       "      <td>0.0</td>\n",
       "      <td>NaN</td>\n",
       "      <td>NaN</td>\n",
       "    </tr>\n",
       "    <tr>\n",
       "      <td>10</td>\n",
       "      <td>Nintendogs</td>\n",
       "      <td>DS</td>\n",
       "      <td>2005.0</td>\n",
       "      <td>Simulation</td>\n",
       "      <td>9.05</td>\n",
       "      <td>10.95</td>\n",
       "      <td>1.93</td>\n",
       "      <td>2.74</td>\n",
       "      <td>0.0</td>\n",
       "      <td>NaN</td>\n",
       "      <td>NaN</td>\n",
       "    </tr>\n",
       "    <tr>\n",
       "      <td>...</td>\n",
       "      <td>...</td>\n",
       "      <td>...</td>\n",
       "      <td>...</td>\n",
       "      <td>...</td>\n",
       "      <td>...</td>\n",
       "      <td>...</td>\n",
       "      <td>...</td>\n",
       "      <td>...</td>\n",
       "      <td>...</td>\n",
       "      <td>...</td>\n",
       "      <td>...</td>\n",
       "    </tr>\n",
       "    <tr>\n",
       "      <td>16710</td>\n",
       "      <td>Samurai Warriors: Sanada Maru</td>\n",
       "      <td>PS3</td>\n",
       "      <td>2016.0</td>\n",
       "      <td>Action</td>\n",
       "      <td>0.00</td>\n",
       "      <td>0.00</td>\n",
       "      <td>0.01</td>\n",
       "      <td>0.00</td>\n",
       "      <td>0.0</td>\n",
       "      <td>NaN</td>\n",
       "      <td>NaN</td>\n",
       "    </tr>\n",
       "    <tr>\n",
       "      <td>16711</td>\n",
       "      <td>LMA Manager 2007</td>\n",
       "      <td>X360</td>\n",
       "      <td>2006.0</td>\n",
       "      <td>Sports</td>\n",
       "      <td>0.00</td>\n",
       "      <td>0.01</td>\n",
       "      <td>0.00</td>\n",
       "      <td>0.00</td>\n",
       "      <td>0.0</td>\n",
       "      <td>NaN</td>\n",
       "      <td>NaN</td>\n",
       "    </tr>\n",
       "    <tr>\n",
       "      <td>16712</td>\n",
       "      <td>Haitaka no Psychedelica</td>\n",
       "      <td>PSV</td>\n",
       "      <td>2016.0</td>\n",
       "      <td>Adventure</td>\n",
       "      <td>0.00</td>\n",
       "      <td>0.00</td>\n",
       "      <td>0.01</td>\n",
       "      <td>0.00</td>\n",
       "      <td>0.0</td>\n",
       "      <td>NaN</td>\n",
       "      <td>NaN</td>\n",
       "    </tr>\n",
       "    <tr>\n",
       "      <td>16713</td>\n",
       "      <td>Spirits &amp; Spells</td>\n",
       "      <td>GBA</td>\n",
       "      <td>2003.0</td>\n",
       "      <td>Platform</td>\n",
       "      <td>0.01</td>\n",
       "      <td>0.00</td>\n",
       "      <td>0.00</td>\n",
       "      <td>0.00</td>\n",
       "      <td>0.0</td>\n",
       "      <td>NaN</td>\n",
       "      <td>NaN</td>\n",
       "    </tr>\n",
       "    <tr>\n",
       "      <td>16714</td>\n",
       "      <td>Winning Post 8 2016</td>\n",
       "      <td>PSV</td>\n",
       "      <td>2016.0</td>\n",
       "      <td>Simulation</td>\n",
       "      <td>0.00</td>\n",
       "      <td>0.00</td>\n",
       "      <td>0.01</td>\n",
       "      <td>0.00</td>\n",
       "      <td>0.0</td>\n",
       "      <td>NaN</td>\n",
       "      <td>NaN</td>\n",
       "    </tr>\n",
       "  </tbody>\n",
       "</table>\n",
       "<p>6605 rows × 11 columns</p>\n",
       "</div>"
      ],
      "text/plain": [
       "                                name platform  year_of_release         genre  \\\n",
       "1                  Super Mario Bros.      NES           1985.0      Platform   \n",
       "4           Pokemon Red/Pokemon Blue       GB           1996.0  Role-Playing   \n",
       "5                             Tetris       GB           1989.0        Puzzle   \n",
       "9                          Duck Hunt      NES           1984.0       Shooter   \n",
       "10                        Nintendogs       DS           2005.0    Simulation   \n",
       "...                              ...      ...              ...           ...   \n",
       "16710  Samurai Warriors: Sanada Maru      PS3           2016.0        Action   \n",
       "16711               LMA Manager 2007     X360           2006.0        Sports   \n",
       "16712        Haitaka no Psychedelica      PSV           2016.0     Adventure   \n",
       "16713               Spirits & Spells      GBA           2003.0      Platform   \n",
       "16714            Winning Post 8 2016      PSV           2016.0    Simulation   \n",
       "\n",
       "       na_sales  eu_sales  jp_sales  other_sales  critic_score user_score  \\\n",
       "1         29.08      3.58      6.81         0.77           0.0        NaN   \n",
       "4         11.27      8.89     10.22         1.00           0.0        NaN   \n",
       "5         23.20      2.26      4.22         0.58           0.0        NaN   \n",
       "9         26.93      0.63      0.28         0.47           0.0        NaN   \n",
       "10         9.05     10.95      1.93         2.74           0.0        NaN   \n",
       "...         ...       ...       ...          ...           ...        ...   \n",
       "16710      0.00      0.00      0.01         0.00           0.0        NaN   \n",
       "16711      0.00      0.01      0.00         0.00           0.0        NaN   \n",
       "16712      0.00      0.00      0.01         0.00           0.0        NaN   \n",
       "16713      0.01      0.00      0.00         0.00           0.0        NaN   \n",
       "16714      0.00      0.00      0.01         0.00           0.0        NaN   \n",
       "\n",
       "      rating  \n",
       "1        NaN  \n",
       "4        NaN  \n",
       "5        NaN  \n",
       "9        NaN  \n",
       "10       NaN  \n",
       "...      ...  \n",
       "16710    NaN  \n",
       "16711    NaN  \n",
       "16712    NaN  \n",
       "16713    NaN  \n",
       "16714    NaN  \n",
       "\n",
       "[6605 rows x 11 columns]"
      ]
     },
     "execution_count": 14,
     "metadata": {},
     "output_type": "execute_result"
    }
   ],
   "source": [
    "# Пропуски в оценке игроков\n",
    "df.loc[(df['user_score'].isnull())]\n",
    "# Так же предполагаю, что либо игра неизвестная и ее мало оценивают, либо игра старая и для нее не было оценивания"
   ]
  },
  {
   "cell_type": "code",
   "execution_count": 15,
   "metadata": {},
   "outputs": [
    {
     "data": {
      "text/plain": [
       "array(['8', nan, '8.3', '8.5', '6.6', '8.4', '8.6', '7.7', '6.3', '7.4',\n",
       "       '8.2', '9', '7.9', '8.1', '8.7', '7.1', '3.4', '5.3', '4.8', '3.2',\n",
       "       '8.9', '6.4', '7.8', '7.5', '2.6', '7.2', '9.2', '7', '7.3', '4.3',\n",
       "       '7.6', '5.7', '5', '9.1', '6.5', 'tbd', '8.8', '6.9', '9.4', '6.8',\n",
       "       '6.1', '6.7', '5.4', '4', '4.9', '4.5', '9.3', '6.2', '4.2', '6',\n",
       "       '3.7', '4.1', '5.8', '5.6', '5.5', '4.4', '4.6', '5.9', '3.9',\n",
       "       '3.1', '2.9', '5.2', '3.3', '4.7', '5.1', '3.5', '2.5', '1.9', '3',\n",
       "       '2.7', '2.2', '2', '9.5', '2.1', '3.6', '2.8', '1.8', '3.8', '0',\n",
       "       '1.6', '9.6', '2.4', '1.7', '1.1', '0.3', '1.5', '0.7', '1.2',\n",
       "       '2.3', '0.5', '1.3', '0.2', '0.6', '1.4', '0.9', '1', '9.7'],\n",
       "      dtype=object)"
      ]
     },
     "execution_count": 15,
     "metadata": {},
     "output_type": "execute_result"
    }
   ],
   "source": [
    "# Посмотрим как можно заменить\n",
    "# Для начала посмотрим какие оценки вообще возможны\n",
    "df['user_score'].unique()\n",
    "# Видим tbd - To Be Determined - будет определено - по чути это тежи пропуски"
   ]
  },
  {
   "cell_type": "code",
   "execution_count": 16,
   "metadata": {},
   "outputs": [],
   "source": [
    "# Заменяем tbd на пропуски\n",
    "df['user_score'] = df['user_score'].replace('tbd', np.NaN)"
   ]
  },
  {
   "cell_type": "code",
   "execution_count": 17,
   "metadata": {},
   "outputs": [],
   "source": [
    "# Заменим на условное значение\n",
    "df['user_score'] = df['user_score'].fillna(0)\n",
    "# Главное учитывать это в дальнейшем анализе"
   ]
  },
  {
   "cell_type": "code",
   "execution_count": 18,
   "metadata": {},
   "outputs": [
    {
     "data": {
      "text/html": [
       "<div>\n",
       "<style scoped>\n",
       "    .dataframe tbody tr th:only-of-type {\n",
       "        vertical-align: middle;\n",
       "    }\n",
       "\n",
       "    .dataframe tbody tr th {\n",
       "        vertical-align: top;\n",
       "    }\n",
       "\n",
       "    .dataframe thead th {\n",
       "        text-align: right;\n",
       "    }\n",
       "</style>\n",
       "<table border=\"1\" class=\"dataframe\">\n",
       "  <thead>\n",
       "    <tr style=\"text-align: right;\">\n",
       "      <th></th>\n",
       "      <th>name</th>\n",
       "      <th>platform</th>\n",
       "      <th>year_of_release</th>\n",
       "      <th>genre</th>\n",
       "      <th>na_sales</th>\n",
       "      <th>eu_sales</th>\n",
       "      <th>jp_sales</th>\n",
       "      <th>other_sales</th>\n",
       "      <th>critic_score</th>\n",
       "      <th>user_score</th>\n",
       "      <th>rating</th>\n",
       "    </tr>\n",
       "  </thead>\n",
       "  <tbody>\n",
       "    <tr>\n",
       "      <td>1</td>\n",
       "      <td>Super Mario Bros.</td>\n",
       "      <td>NES</td>\n",
       "      <td>1985.0</td>\n",
       "      <td>Platform</td>\n",
       "      <td>29.08</td>\n",
       "      <td>3.58</td>\n",
       "      <td>6.81</td>\n",
       "      <td>0.77</td>\n",
       "      <td>0.0</td>\n",
       "      <td>0</td>\n",
       "      <td>NaN</td>\n",
       "    </tr>\n",
       "    <tr>\n",
       "      <td>4</td>\n",
       "      <td>Pokemon Red/Pokemon Blue</td>\n",
       "      <td>GB</td>\n",
       "      <td>1996.0</td>\n",
       "      <td>Role-Playing</td>\n",
       "      <td>11.27</td>\n",
       "      <td>8.89</td>\n",
       "      <td>10.22</td>\n",
       "      <td>1.00</td>\n",
       "      <td>0.0</td>\n",
       "      <td>0</td>\n",
       "      <td>NaN</td>\n",
       "    </tr>\n",
       "    <tr>\n",
       "      <td>5</td>\n",
       "      <td>Tetris</td>\n",
       "      <td>GB</td>\n",
       "      <td>1989.0</td>\n",
       "      <td>Puzzle</td>\n",
       "      <td>23.20</td>\n",
       "      <td>2.26</td>\n",
       "      <td>4.22</td>\n",
       "      <td>0.58</td>\n",
       "      <td>0.0</td>\n",
       "      <td>0</td>\n",
       "      <td>NaN</td>\n",
       "    </tr>\n",
       "    <tr>\n",
       "      <td>9</td>\n",
       "      <td>Duck Hunt</td>\n",
       "      <td>NES</td>\n",
       "      <td>1984.0</td>\n",
       "      <td>Shooter</td>\n",
       "      <td>26.93</td>\n",
       "      <td>0.63</td>\n",
       "      <td>0.28</td>\n",
       "      <td>0.47</td>\n",
       "      <td>0.0</td>\n",
       "      <td>0</td>\n",
       "      <td>NaN</td>\n",
       "    </tr>\n",
       "    <tr>\n",
       "      <td>10</td>\n",
       "      <td>Nintendogs</td>\n",
       "      <td>DS</td>\n",
       "      <td>2005.0</td>\n",
       "      <td>Simulation</td>\n",
       "      <td>9.05</td>\n",
       "      <td>10.95</td>\n",
       "      <td>1.93</td>\n",
       "      <td>2.74</td>\n",
       "      <td>0.0</td>\n",
       "      <td>0</td>\n",
       "      <td>NaN</td>\n",
       "    </tr>\n",
       "    <tr>\n",
       "      <td>...</td>\n",
       "      <td>...</td>\n",
       "      <td>...</td>\n",
       "      <td>...</td>\n",
       "      <td>...</td>\n",
       "      <td>...</td>\n",
       "      <td>...</td>\n",
       "      <td>...</td>\n",
       "      <td>...</td>\n",
       "      <td>...</td>\n",
       "      <td>...</td>\n",
       "      <td>...</td>\n",
       "    </tr>\n",
       "    <tr>\n",
       "      <td>16710</td>\n",
       "      <td>Samurai Warriors: Sanada Maru</td>\n",
       "      <td>PS3</td>\n",
       "      <td>2016.0</td>\n",
       "      <td>Action</td>\n",
       "      <td>0.00</td>\n",
       "      <td>0.00</td>\n",
       "      <td>0.01</td>\n",
       "      <td>0.00</td>\n",
       "      <td>0.0</td>\n",
       "      <td>0</td>\n",
       "      <td>NaN</td>\n",
       "    </tr>\n",
       "    <tr>\n",
       "      <td>16711</td>\n",
       "      <td>LMA Manager 2007</td>\n",
       "      <td>X360</td>\n",
       "      <td>2006.0</td>\n",
       "      <td>Sports</td>\n",
       "      <td>0.00</td>\n",
       "      <td>0.01</td>\n",
       "      <td>0.00</td>\n",
       "      <td>0.00</td>\n",
       "      <td>0.0</td>\n",
       "      <td>0</td>\n",
       "      <td>NaN</td>\n",
       "    </tr>\n",
       "    <tr>\n",
       "      <td>16712</td>\n",
       "      <td>Haitaka no Psychedelica</td>\n",
       "      <td>PSV</td>\n",
       "      <td>2016.0</td>\n",
       "      <td>Adventure</td>\n",
       "      <td>0.00</td>\n",
       "      <td>0.00</td>\n",
       "      <td>0.01</td>\n",
       "      <td>0.00</td>\n",
       "      <td>0.0</td>\n",
       "      <td>0</td>\n",
       "      <td>NaN</td>\n",
       "    </tr>\n",
       "    <tr>\n",
       "      <td>16713</td>\n",
       "      <td>Spirits &amp; Spells</td>\n",
       "      <td>GBA</td>\n",
       "      <td>2003.0</td>\n",
       "      <td>Platform</td>\n",
       "      <td>0.01</td>\n",
       "      <td>0.00</td>\n",
       "      <td>0.00</td>\n",
       "      <td>0.00</td>\n",
       "      <td>0.0</td>\n",
       "      <td>0</td>\n",
       "      <td>NaN</td>\n",
       "    </tr>\n",
       "    <tr>\n",
       "      <td>16714</td>\n",
       "      <td>Winning Post 8 2016</td>\n",
       "      <td>PSV</td>\n",
       "      <td>2016.0</td>\n",
       "      <td>Simulation</td>\n",
       "      <td>0.00</td>\n",
       "      <td>0.00</td>\n",
       "      <td>0.01</td>\n",
       "      <td>0.00</td>\n",
       "      <td>0.0</td>\n",
       "      <td>0</td>\n",
       "      <td>NaN</td>\n",
       "    </tr>\n",
       "  </tbody>\n",
       "</table>\n",
       "<p>6676 rows × 11 columns</p>\n",
       "</div>"
      ],
      "text/plain": [
       "                                name platform  year_of_release         genre  \\\n",
       "1                  Super Mario Bros.      NES           1985.0      Platform   \n",
       "4           Pokemon Red/Pokemon Blue       GB           1996.0  Role-Playing   \n",
       "5                             Tetris       GB           1989.0        Puzzle   \n",
       "9                          Duck Hunt      NES           1984.0       Shooter   \n",
       "10                        Nintendogs       DS           2005.0    Simulation   \n",
       "...                              ...      ...              ...           ...   \n",
       "16710  Samurai Warriors: Sanada Maru      PS3           2016.0        Action   \n",
       "16711               LMA Manager 2007     X360           2006.0        Sports   \n",
       "16712        Haitaka no Psychedelica      PSV           2016.0     Adventure   \n",
       "16713               Spirits & Spells      GBA           2003.0      Platform   \n",
       "16714            Winning Post 8 2016      PSV           2016.0    Simulation   \n",
       "\n",
       "       na_sales  eu_sales  jp_sales  other_sales  critic_score user_score  \\\n",
       "1         29.08      3.58      6.81         0.77           0.0          0   \n",
       "4         11.27      8.89     10.22         1.00           0.0          0   \n",
       "5         23.20      2.26      4.22         0.58           0.0          0   \n",
       "9         26.93      0.63      0.28         0.47           0.0          0   \n",
       "10         9.05     10.95      1.93         2.74           0.0          0   \n",
       "...         ...       ...       ...          ...           ...        ...   \n",
       "16710      0.00      0.00      0.01         0.00           0.0          0   \n",
       "16711      0.00      0.01      0.00         0.00           0.0          0   \n",
       "16712      0.00      0.00      0.01         0.00           0.0          0   \n",
       "16713      0.01      0.00      0.00         0.00           0.0          0   \n",
       "16714      0.00      0.00      0.01         0.00           0.0          0   \n",
       "\n",
       "      rating  \n",
       "1        NaN  \n",
       "4        NaN  \n",
       "5        NaN  \n",
       "9        NaN  \n",
       "10       NaN  \n",
       "...      ...  \n",
       "16710    NaN  \n",
       "16711    NaN  \n",
       "16712    NaN  \n",
       "16713    NaN  \n",
       "16714    NaN  \n",
       "\n",
       "[6676 rows x 11 columns]"
      ]
     },
     "execution_count": 18,
     "metadata": {},
     "output_type": "execute_result"
    }
   ],
   "source": [
    "# Пропуски в рейтинге\n",
    "df.loc[(df['rating'].isnull())]\n",
    "# Их также большое количество. Может рейтинг не проставлен, не определен или в старых играх его и не должно было быть"
   ]
  },
  {
   "cell_type": "code",
   "execution_count": 19,
   "metadata": {},
   "outputs": [
    {
     "data": {
      "text/plain": [
       "array(['E', nan, 'M', 'T', 'E10+', 'K-A', 'AO', 'EC', 'RP'], dtype=object)"
      ]
     },
     "execution_count": 19,
     "metadata": {},
     "output_type": "execute_result"
    }
   ],
   "source": [
    "# Посмотрим все возможные варианты\n",
    "df['rating'].unique()"
   ]
  },
  {
   "cell_type": "code",
   "execution_count": 20,
   "metadata": {},
   "outputs": [],
   "source": [
    "# Заменим на unknown\n",
    "df['rating'] = df['rating'].fillna('unknown')"
   ]
  },
  {
   "cell_type": "code",
   "execution_count": 21,
   "metadata": {},
   "outputs": [],
   "source": [
    "# Приведем столбцы к корекктным форматам,где это необходимо:\n",
    "# год - может быть только целое число\n",
    "# оценка критика - только целое число\n",
    "# оценка игроков может быть дробной\n",
    "df['year_of_release'] = df['year_of_release'].astype('int')\n",
    "df['critic_score'] = df['critic_score'].astype('int')\n",
    "df['user_score'] = df['user_score'].astype('float')\n",
    "# Для уменьшения объема хранения\n",
    "df['rating'] = df['rating'].astype('category')\n",
    "df['genre'] = df['genre'].astype('category')\n",
    "df['platform'] = df['platform'].astype('category')"
   ]
  },
  {
   "cell_type": "code",
   "execution_count": 22,
   "metadata": {},
   "outputs": [
    {
     "data": {
      "text/html": [
       "<div>\n",
       "<style scoped>\n",
       "    .dataframe tbody tr th:only-of-type {\n",
       "        vertical-align: middle;\n",
       "    }\n",
       "\n",
       "    .dataframe tbody tr th {\n",
       "        vertical-align: top;\n",
       "    }\n",
       "\n",
       "    .dataframe thead th {\n",
       "        text-align: right;\n",
       "    }\n",
       "</style>\n",
       "<table border=\"1\" class=\"dataframe\">\n",
       "  <thead>\n",
       "    <tr style=\"text-align: right;\">\n",
       "      <th></th>\n",
       "      <th>name</th>\n",
       "      <th>platform</th>\n",
       "      <th>year_of_release</th>\n",
       "      <th>genre</th>\n",
       "      <th>na_sales</th>\n",
       "      <th>eu_sales</th>\n",
       "      <th>jp_sales</th>\n",
       "      <th>other_sales</th>\n",
       "      <th>critic_score</th>\n",
       "      <th>user_score</th>\n",
       "      <th>rating</th>\n",
       "      <th>all_sales</th>\n",
       "    </tr>\n",
       "  </thead>\n",
       "  <tbody>\n",
       "    <tr>\n",
       "      <td>0</td>\n",
       "      <td>Wii Sports</td>\n",
       "      <td>Wii</td>\n",
       "      <td>2006</td>\n",
       "      <td>Sports</td>\n",
       "      <td>41.36</td>\n",
       "      <td>28.96</td>\n",
       "      <td>3.77</td>\n",
       "      <td>8.45</td>\n",
       "      <td>76</td>\n",
       "      <td>8.0</td>\n",
       "      <td>E</td>\n",
       "      <td>82.54</td>\n",
       "    </tr>\n",
       "    <tr>\n",
       "      <td>1</td>\n",
       "      <td>Super Mario Bros.</td>\n",
       "      <td>NES</td>\n",
       "      <td>1985</td>\n",
       "      <td>Platform</td>\n",
       "      <td>29.08</td>\n",
       "      <td>3.58</td>\n",
       "      <td>6.81</td>\n",
       "      <td>0.77</td>\n",
       "      <td>0</td>\n",
       "      <td>0.0</td>\n",
       "      <td>unknown</td>\n",
       "      <td>40.24</td>\n",
       "    </tr>\n",
       "    <tr>\n",
       "      <td>2</td>\n",
       "      <td>Mario Kart Wii</td>\n",
       "      <td>Wii</td>\n",
       "      <td>2008</td>\n",
       "      <td>Racing</td>\n",
       "      <td>15.68</td>\n",
       "      <td>12.76</td>\n",
       "      <td>3.79</td>\n",
       "      <td>3.29</td>\n",
       "      <td>82</td>\n",
       "      <td>8.3</td>\n",
       "      <td>E</td>\n",
       "      <td>35.52</td>\n",
       "    </tr>\n",
       "    <tr>\n",
       "      <td>3</td>\n",
       "      <td>Wii Sports Resort</td>\n",
       "      <td>Wii</td>\n",
       "      <td>2009</td>\n",
       "      <td>Sports</td>\n",
       "      <td>15.61</td>\n",
       "      <td>10.93</td>\n",
       "      <td>3.28</td>\n",
       "      <td>2.95</td>\n",
       "      <td>80</td>\n",
       "      <td>8.0</td>\n",
       "      <td>E</td>\n",
       "      <td>32.77</td>\n",
       "    </tr>\n",
       "    <tr>\n",
       "      <td>4</td>\n",
       "      <td>Pokemon Red/Pokemon Blue</td>\n",
       "      <td>GB</td>\n",
       "      <td>1996</td>\n",
       "      <td>Role-Playing</td>\n",
       "      <td>11.27</td>\n",
       "      <td>8.89</td>\n",
       "      <td>10.22</td>\n",
       "      <td>1.00</td>\n",
       "      <td>0</td>\n",
       "      <td>0.0</td>\n",
       "      <td>unknown</td>\n",
       "      <td>31.38</td>\n",
       "    </tr>\n",
       "    <tr>\n",
       "      <td>...</td>\n",
       "      <td>...</td>\n",
       "      <td>...</td>\n",
       "      <td>...</td>\n",
       "      <td>...</td>\n",
       "      <td>...</td>\n",
       "      <td>...</td>\n",
       "      <td>...</td>\n",
       "      <td>...</td>\n",
       "      <td>...</td>\n",
       "      <td>...</td>\n",
       "      <td>...</td>\n",
       "      <td>...</td>\n",
       "    </tr>\n",
       "    <tr>\n",
       "      <td>16710</td>\n",
       "      <td>Samurai Warriors: Sanada Maru</td>\n",
       "      <td>PS3</td>\n",
       "      <td>2016</td>\n",
       "      <td>Action</td>\n",
       "      <td>0.00</td>\n",
       "      <td>0.00</td>\n",
       "      <td>0.01</td>\n",
       "      <td>0.00</td>\n",
       "      <td>0</td>\n",
       "      <td>0.0</td>\n",
       "      <td>unknown</td>\n",
       "      <td>0.01</td>\n",
       "    </tr>\n",
       "    <tr>\n",
       "      <td>16711</td>\n",
       "      <td>LMA Manager 2007</td>\n",
       "      <td>X360</td>\n",
       "      <td>2006</td>\n",
       "      <td>Sports</td>\n",
       "      <td>0.00</td>\n",
       "      <td>0.01</td>\n",
       "      <td>0.00</td>\n",
       "      <td>0.00</td>\n",
       "      <td>0</td>\n",
       "      <td>0.0</td>\n",
       "      <td>unknown</td>\n",
       "      <td>0.01</td>\n",
       "    </tr>\n",
       "    <tr>\n",
       "      <td>16712</td>\n",
       "      <td>Haitaka no Psychedelica</td>\n",
       "      <td>PSV</td>\n",
       "      <td>2016</td>\n",
       "      <td>Adventure</td>\n",
       "      <td>0.00</td>\n",
       "      <td>0.00</td>\n",
       "      <td>0.01</td>\n",
       "      <td>0.00</td>\n",
       "      <td>0</td>\n",
       "      <td>0.0</td>\n",
       "      <td>unknown</td>\n",
       "      <td>0.01</td>\n",
       "    </tr>\n",
       "    <tr>\n",
       "      <td>16713</td>\n",
       "      <td>Spirits &amp; Spells</td>\n",
       "      <td>GBA</td>\n",
       "      <td>2003</td>\n",
       "      <td>Platform</td>\n",
       "      <td>0.01</td>\n",
       "      <td>0.00</td>\n",
       "      <td>0.00</td>\n",
       "      <td>0.00</td>\n",
       "      <td>0</td>\n",
       "      <td>0.0</td>\n",
       "      <td>unknown</td>\n",
       "      <td>0.01</td>\n",
       "    </tr>\n",
       "    <tr>\n",
       "      <td>16714</td>\n",
       "      <td>Winning Post 8 2016</td>\n",
       "      <td>PSV</td>\n",
       "      <td>2016</td>\n",
       "      <td>Simulation</td>\n",
       "      <td>0.00</td>\n",
       "      <td>0.00</td>\n",
       "      <td>0.01</td>\n",
       "      <td>0.00</td>\n",
       "      <td>0</td>\n",
       "      <td>0.0</td>\n",
       "      <td>unknown</td>\n",
       "      <td>0.01</td>\n",
       "    </tr>\n",
       "  </tbody>\n",
       "</table>\n",
       "<p>16444 rows × 12 columns</p>\n",
       "</div>"
      ],
      "text/plain": [
       "                                name platform  year_of_release         genre  \\\n",
       "0                         Wii Sports      Wii             2006        Sports   \n",
       "1                  Super Mario Bros.      NES             1985      Platform   \n",
       "2                     Mario Kart Wii      Wii             2008        Racing   \n",
       "3                  Wii Sports Resort      Wii             2009        Sports   \n",
       "4           Pokemon Red/Pokemon Blue       GB             1996  Role-Playing   \n",
       "...                              ...      ...              ...           ...   \n",
       "16710  Samurai Warriors: Sanada Maru      PS3             2016        Action   \n",
       "16711               LMA Manager 2007     X360             2006        Sports   \n",
       "16712        Haitaka no Psychedelica      PSV             2016     Adventure   \n",
       "16713               Spirits & Spells      GBA             2003      Platform   \n",
       "16714            Winning Post 8 2016      PSV             2016    Simulation   \n",
       "\n",
       "       na_sales  eu_sales  jp_sales  other_sales  critic_score  user_score  \\\n",
       "0         41.36     28.96      3.77         8.45            76         8.0   \n",
       "1         29.08      3.58      6.81         0.77             0         0.0   \n",
       "2         15.68     12.76      3.79         3.29            82         8.3   \n",
       "3         15.61     10.93      3.28         2.95            80         8.0   \n",
       "4         11.27      8.89     10.22         1.00             0         0.0   \n",
       "...         ...       ...       ...          ...           ...         ...   \n",
       "16710      0.00      0.00      0.01         0.00             0         0.0   \n",
       "16711      0.00      0.01      0.00         0.00             0         0.0   \n",
       "16712      0.00      0.00      0.01         0.00             0         0.0   \n",
       "16713      0.01      0.00      0.00         0.00             0         0.0   \n",
       "16714      0.00      0.00      0.01         0.00             0         0.0   \n",
       "\n",
       "        rating  all_sales  \n",
       "0            E      82.54  \n",
       "1      unknown      40.24  \n",
       "2            E      35.52  \n",
       "3            E      32.77  \n",
       "4      unknown      31.38  \n",
       "...        ...        ...  \n",
       "16710  unknown       0.01  \n",
       "16711  unknown       0.01  \n",
       "16712  unknown       0.01  \n",
       "16713  unknown       0.01  \n",
       "16714  unknown       0.01  \n",
       "\n",
       "[16444 rows x 12 columns]"
      ]
     },
     "execution_count": 22,
     "metadata": {},
     "output_type": "execute_result"
    }
   ],
   "source": [
    "# Добавим столбец с суммарным количеством проданных копий\n",
    "df['all_sales'] = df['na_sales']+df['eu_sales']+df['jp_sales']+df['other_sales']\n",
    "df"
   ]
  },
  {
   "cell_type": "code",
   "execution_count": 23,
   "metadata": {},
   "outputs": [
    {
     "name": "stdout",
     "output_type": "stream",
     "text": [
      "<class 'pandas.core.frame.DataFrame'>\n",
      "Int64Index: 16444 entries, 0 to 16714\n",
      "Data columns (total 12 columns):\n",
      "name               16444 non-null object\n",
      "platform           16444 non-null category\n",
      "year_of_release    16444 non-null int64\n",
      "genre              16444 non-null category\n",
      "na_sales           16444 non-null float64\n",
      "eu_sales           16444 non-null float64\n",
      "jp_sales           16444 non-null float64\n",
      "other_sales        16444 non-null float64\n",
      "critic_score       16444 non-null int64\n",
      "user_score         16444 non-null float64\n",
      "rating             16444 non-null category\n",
      "all_sales          16444 non-null float64\n",
      "dtypes: category(3), float64(6), int64(2), object(1)\n",
      "memory usage: 2.5 MB\n"
     ]
    }
   ],
   "source": [
    "df.info(memory_usage='deep')"
   ]
  },
  {
   "cell_type": "markdown",
   "metadata": {},
   "source": [
    "# Шаг 3. Исследовательский анализ данных"
   ]
  },
  {
   "cell_type": "markdown",
   "metadata": {},
   "source": [
    "Посмотрите, сколько игр выпускалось в разные годы. Важны ли данные за все периоды?"
   ]
  },
  {
   "cell_type": "code",
   "execution_count": 24,
   "metadata": {},
   "outputs": [
    {
     "data": {
      "text/plain": [
       "Text(0.5, 1.0, 'Число выпущенных игр по годам')"
      ]
     },
     "execution_count": 24,
     "metadata": {},
     "output_type": "execute_result"
    },
    {
     "data": {
      "image/png": "[encoded data removed]",
      "text/plain": [
       "<Figure size 648x648 with 1 Axes>"
      ]
     },
     "metadata": {
      "needs_background": "light"
     },
     "output_type": "display_data"
    }
   ],
   "source": [
    "# Для того что бы посмотреть динамику выпуска игр сгруппируем их по годам\n",
    "df.groupby('year_of_release')['name'].count().plot(kind='bar',figsize = (9, 9))\n",
    "plt.title('Число выпущенных игр по годам')"
   ]
  },
  {
   "cell_type": "markdown",
   "metadata": {},
   "source": [
    "По графику видно, что до девяностых годов объем игр был незначительным. Потом произошел рост, но с 2008 года объем игр каждый год снижался. Фактически данные до 1991 года особой информации не несут. Вероятно росто производства связан с развитием техники, мощностей компьютеров и приставок. Снижение может быть связано с ростом популярности онлайн-игр или мобильных игр, и как следствием, снижением продаж компьютерных игр."
   ]
  },
  {
   "cell_type": "markdown",
   "metadata": {},
   "source": [
    "Посмотрите, как менялись продажи по платформам. Выберите платформы с наибольшими суммарными продажами и постройте распределение по годам. За какой характерный срок появляются новые и исчезают старые платформы?"
   ]
  },
  {
   "cell_type": "markdown",
   "metadata": {},
   "source": [
    "Наверное, количество игр все-таки не самый лучший показатель. Раз мы говорим о продажах логично судить о играх по их суммарным продажам "
   ]
  },
  {
   "cell_type": "code",
   "execution_count": 25,
   "metadata": {},
   "outputs": [
    {
     "data": {
      "text/plain": [
       "Text(0.5, 1.0, 'Суммарные продажи игр по годам')"
      ]
     },
     "execution_count": 25,
     "metadata": {},
     "output_type": "execute_result"
    },
    {
     "data": {
      "image/png": "[encoded data removed]",
      "text/plain": [
       "<Figure size 648x648 with 1 Axes>"
      ]
     },
     "metadata": {
      "needs_background": "light"
     },
     "output_type": "display_data"
    }
   ],
   "source": [
    "# График отражает ровно ту же тенденцию, что уже описывалась выше\n",
    "df.groupby('year_of_release')['all_sales'].sum().plot(kind='bar',figsize = (9, 9))\n",
    "plt.title('Суммарные продажи игр по годам')"
   ]
  },
  {
   "cell_type": "markdown",
   "metadata": {},
   "source": [
    "Посмотрим как менялись продажи по платформам"
   ]
  },
  {
   "cell_type": "code",
   "execution_count": 26,
   "metadata": {},
   "outputs": [
    {
     "data": {
      "text/plain": [
       "Text(0.5, 1.0, 'Суммарные продажи игр по платформам')"
      ]
     },
     "execution_count": 26,
     "metadata": {},
     "output_type": "execute_result"
    },
    {
     "data": {
      "image/png": "[encoded data removed]",
      "text/plain": [
       "<Figure size 648x648 with 1 Axes>"
      ]
     },
     "metadata": {
      "needs_background": "light"
     },
     "output_type": "display_data"
    }
   ],
   "source": [
    "# Посмотрим для начала продажи по платформам за весь период\n",
    "df.groupby('platform')['all_sales'].sum().sort_values().plot(kind='bar',figsize = (9, 9))\n",
    "# Самые популярные платформы - PS2, X360, PS3\n",
    "plt.title('Суммарные продажи игр по платформам')"
   ]
  },
  {
   "cell_type": "code",
   "execution_count": 27,
   "metadata": {},
   "outputs": [],
   "source": [
    "# Первые шесть платформ визуально выделяются на фоне остальных\n",
    "# Построим по ним распределение по годам\n",
    "# Для начала сам список с платформами \n",
    "the_most_platforms = ['PS2','X360','PS3','Wii','DS','PS']\n",
    "# Отфильтрцем по списку\n",
    "df_for_lines = df.loc[df['platform'].isin(the_most_platforms)]"
   ]
  },
  {
   "cell_type": "code",
   "execution_count": 28,
   "metadata": {},
   "outputs": [
    {
     "data": {
      "text/plain": [
       "Text(0.5, 1.0, 'Суммарные продажи игр по годам в разрезе платформ')"
      ]
     },
     "execution_count": 28,
     "metadata": {},
     "output_type": "execute_result"
    },
    {
     "data": {
      "image/png": "[encoded data removed]",
      "text/plain": [
       "<Figure size 432x288 with 1 Axes>"
      ]
     },
     "metadata": {
      "needs_background": "light"
     },
     "output_type": "display_data"
    }
   ],
   "source": [
    "# Собирем с помощью сводной таблицы и визуализируем ее\n",
    "df_for_lines.pivot_table(index = 'year_of_release', values = 'all_sales', columns = 'platform',aggfunc='sum').plot()\n",
    "plt.title('Суммарные продажи игр по годам в разрезе платформ')"
   ]
  },
  {
   "cell_type": "markdown",
   "metadata": {},
   "source": [
    "По графику видно как каждая платформа росла и теряла в популярности. В среднем около 10 лет занимает появление, развитие и снижение популярности платформы"
   ]
  },
  {
   "cell_type": "markdown",
   "metadata": {},
   "source": [
    "Возьмите данные за соответствующий актуальный период. Актуальный период определите самостоятельно в результате исследования предыдущих вопросов. Основной фактор — эти данные помогут построить прогноз на 2017 год."
   ]
  },
  {
   "cell_type": "markdown",
   "metadata": {},
   "source": [
    "Отфильтруем данные по актуальности. За актуальный период берем данные с 2013 по 2016 гг, что взять только самую актуальную информацию и достоверно сделать прогноз"
   ]
  },
  {
   "cell_type": "code",
   "execution_count": 29,
   "metadata": {},
   "outputs": [
    {
     "data": {
      "text/html": [
       "<div>\n",
       "<style scoped>\n",
       "    .dataframe tbody tr th:only-of-type {\n",
       "        vertical-align: middle;\n",
       "    }\n",
       "\n",
       "    .dataframe tbody tr th {\n",
       "        vertical-align: top;\n",
       "    }\n",
       "\n",
       "    .dataframe thead th {\n",
       "        text-align: right;\n",
       "    }\n",
       "</style>\n",
       "<table border=\"1\" class=\"dataframe\">\n",
       "  <thead>\n",
       "    <tr style=\"text-align: right;\">\n",
       "      <th></th>\n",
       "      <th>name</th>\n",
       "      <th>platform</th>\n",
       "      <th>year_of_release</th>\n",
       "      <th>genre</th>\n",
       "      <th>na_sales</th>\n",
       "      <th>eu_sales</th>\n",
       "      <th>jp_sales</th>\n",
       "      <th>other_sales</th>\n",
       "      <th>critic_score</th>\n",
       "      <th>user_score</th>\n",
       "      <th>rating</th>\n",
       "      <th>all_sales</th>\n",
       "    </tr>\n",
       "  </thead>\n",
       "  <tbody>\n",
       "    <tr>\n",
       "      <td>16</td>\n",
       "      <td>Grand Theft Auto V</td>\n",
       "      <td>PS3</td>\n",
       "      <td>2013</td>\n",
       "      <td>Action</td>\n",
       "      <td>7.02</td>\n",
       "      <td>9.09</td>\n",
       "      <td>0.98</td>\n",
       "      <td>3.96</td>\n",
       "      <td>97</td>\n",
       "      <td>8.2</td>\n",
       "      <td>M</td>\n",
       "      <td>21.05</td>\n",
       "    </tr>\n",
       "    <tr>\n",
       "      <td>23</td>\n",
       "      <td>Grand Theft Auto V</td>\n",
       "      <td>X360</td>\n",
       "      <td>2013</td>\n",
       "      <td>Action</td>\n",
       "      <td>9.66</td>\n",
       "      <td>5.14</td>\n",
       "      <td>0.06</td>\n",
       "      <td>1.41</td>\n",
       "      <td>97</td>\n",
       "      <td>8.1</td>\n",
       "      <td>M</td>\n",
       "      <td>16.27</td>\n",
       "    </tr>\n",
       "    <tr>\n",
       "      <td>31</td>\n",
       "      <td>Call of Duty: Black Ops 3</td>\n",
       "      <td>PS4</td>\n",
       "      <td>2015</td>\n",
       "      <td>Shooter</td>\n",
       "      <td>6.03</td>\n",
       "      <td>5.86</td>\n",
       "      <td>0.36</td>\n",
       "      <td>2.38</td>\n",
       "      <td>0</td>\n",
       "      <td>0.0</td>\n",
       "      <td>unknown</td>\n",
       "      <td>14.63</td>\n",
       "    </tr>\n",
       "    <tr>\n",
       "      <td>33</td>\n",
       "      <td>Pokemon X/Pokemon Y</td>\n",
       "      <td>3DS</td>\n",
       "      <td>2013</td>\n",
       "      <td>Role-Playing</td>\n",
       "      <td>5.28</td>\n",
       "      <td>4.19</td>\n",
       "      <td>4.35</td>\n",
       "      <td>0.78</td>\n",
       "      <td>0</td>\n",
       "      <td>0.0</td>\n",
       "      <td>unknown</td>\n",
       "      <td>14.60</td>\n",
       "    </tr>\n",
       "    <tr>\n",
       "      <td>42</td>\n",
       "      <td>Grand Theft Auto V</td>\n",
       "      <td>PS4</td>\n",
       "      <td>2014</td>\n",
       "      <td>Action</td>\n",
       "      <td>3.96</td>\n",
       "      <td>6.31</td>\n",
       "      <td>0.38</td>\n",
       "      <td>1.97</td>\n",
       "      <td>97</td>\n",
       "      <td>8.3</td>\n",
       "      <td>M</td>\n",
       "      <td>12.62</td>\n",
       "    </tr>\n",
       "    <tr>\n",
       "      <td>...</td>\n",
       "      <td>...</td>\n",
       "      <td>...</td>\n",
       "      <td>...</td>\n",
       "      <td>...</td>\n",
       "      <td>...</td>\n",
       "      <td>...</td>\n",
       "      <td>...</td>\n",
       "      <td>...</td>\n",
       "      <td>...</td>\n",
       "      <td>...</td>\n",
       "      <td>...</td>\n",
       "      <td>...</td>\n",
       "    </tr>\n",
       "    <tr>\n",
       "      <td>16703</td>\n",
       "      <td>Strawberry Nauts</td>\n",
       "      <td>PSV</td>\n",
       "      <td>2016</td>\n",
       "      <td>Adventure</td>\n",
       "      <td>0.00</td>\n",
       "      <td>0.00</td>\n",
       "      <td>0.01</td>\n",
       "      <td>0.00</td>\n",
       "      <td>0</td>\n",
       "      <td>0.0</td>\n",
       "      <td>unknown</td>\n",
       "      <td>0.01</td>\n",
       "    </tr>\n",
       "    <tr>\n",
       "      <td>16707</td>\n",
       "      <td>Aiyoku no Eustia</td>\n",
       "      <td>PSV</td>\n",
       "      <td>2014</td>\n",
       "      <td>Misc</td>\n",
       "      <td>0.00</td>\n",
       "      <td>0.00</td>\n",
       "      <td>0.01</td>\n",
       "      <td>0.00</td>\n",
       "      <td>0</td>\n",
       "      <td>0.0</td>\n",
       "      <td>unknown</td>\n",
       "      <td>0.01</td>\n",
       "    </tr>\n",
       "    <tr>\n",
       "      <td>16710</td>\n",
       "      <td>Samurai Warriors: Sanada Maru</td>\n",
       "      <td>PS3</td>\n",
       "      <td>2016</td>\n",
       "      <td>Action</td>\n",
       "      <td>0.00</td>\n",
       "      <td>0.00</td>\n",
       "      <td>0.01</td>\n",
       "      <td>0.00</td>\n",
       "      <td>0</td>\n",
       "      <td>0.0</td>\n",
       "      <td>unknown</td>\n",
       "      <td>0.01</td>\n",
       "    </tr>\n",
       "    <tr>\n",
       "      <td>16712</td>\n",
       "      <td>Haitaka no Psychedelica</td>\n",
       "      <td>PSV</td>\n",
       "      <td>2016</td>\n",
       "      <td>Adventure</td>\n",
       "      <td>0.00</td>\n",
       "      <td>0.00</td>\n",
       "      <td>0.01</td>\n",
       "      <td>0.00</td>\n",
       "      <td>0</td>\n",
       "      <td>0.0</td>\n",
       "      <td>unknown</td>\n",
       "      <td>0.01</td>\n",
       "    </tr>\n",
       "    <tr>\n",
       "      <td>16714</td>\n",
       "      <td>Winning Post 8 2016</td>\n",
       "      <td>PSV</td>\n",
       "      <td>2016</td>\n",
       "      <td>Simulation</td>\n",
       "      <td>0.00</td>\n",
       "      <td>0.00</td>\n",
       "      <td>0.01</td>\n",
       "      <td>0.00</td>\n",
       "      <td>0</td>\n",
       "      <td>0.0</td>\n",
       "      <td>unknown</td>\n",
       "      <td>0.01</td>\n",
       "    </tr>\n",
       "  </tbody>\n",
       "</table>\n",
       "<p>2233 rows × 12 columns</p>\n",
       "</div>"
      ],
      "text/plain": [
       "                                name platform  year_of_release         genre  \\\n",
       "16                Grand Theft Auto V      PS3             2013        Action   \n",
       "23                Grand Theft Auto V     X360             2013        Action   \n",
       "31         Call of Duty: Black Ops 3      PS4             2015       Shooter   \n",
       "33               Pokemon X/Pokemon Y      3DS             2013  Role-Playing   \n",
       "42                Grand Theft Auto V      PS4             2014        Action   \n",
       "...                              ...      ...              ...           ...   \n",
       "16703               Strawberry Nauts      PSV             2016     Adventure   \n",
       "16707               Aiyoku no Eustia      PSV             2014          Misc   \n",
       "16710  Samurai Warriors: Sanada Maru      PS3             2016        Action   \n",
       "16712        Haitaka no Psychedelica      PSV             2016     Adventure   \n",
       "16714            Winning Post 8 2016      PSV             2016    Simulation   \n",
       "\n",
       "       na_sales  eu_sales  jp_sales  other_sales  critic_score  user_score  \\\n",
       "16         7.02      9.09      0.98         3.96            97         8.2   \n",
       "23         9.66      5.14      0.06         1.41            97         8.1   \n",
       "31         6.03      5.86      0.36         2.38             0         0.0   \n",
       "33         5.28      4.19      4.35         0.78             0         0.0   \n",
       "42         3.96      6.31      0.38         1.97            97         8.3   \n",
       "...         ...       ...       ...          ...           ...         ...   \n",
       "16703      0.00      0.00      0.01         0.00             0         0.0   \n",
       "16707      0.00      0.00      0.01         0.00             0         0.0   \n",
       "16710      0.00      0.00      0.01         0.00             0         0.0   \n",
       "16712      0.00      0.00      0.01         0.00             0         0.0   \n",
       "16714      0.00      0.00      0.01         0.00             0         0.0   \n",
       "\n",
       "        rating  all_sales  \n",
       "16           M      21.05  \n",
       "23           M      16.27  \n",
       "31     unknown      14.63  \n",
       "33     unknown      14.60  \n",
       "42           M      12.62  \n",
       "...        ...        ...  \n",
       "16703  unknown       0.01  \n",
       "16707  unknown       0.01  \n",
       "16710  unknown       0.01  \n",
       "16712  unknown       0.01  \n",
       "16714  unknown       0.01  \n",
       "\n",
       "[2233 rows x 12 columns]"
      ]
     },
     "execution_count": 29,
     "metadata": {},
     "output_type": "execute_result"
    }
   ],
   "source": [
    "# Создаем актуальный датафрейм\n",
    "df2 = df.loc[df['year_of_release']>2012]\n",
    "df2"
   ]
  },
  {
   "cell_type": "code",
   "execution_count": 30,
   "metadata": {},
   "outputs": [
    {
     "data": {
      "text/plain": [
       "Text(0.5, 1.0, 'Суммарные продажи игр по платформам, актуальный период')"
      ]
     },
     "execution_count": 30,
     "metadata": {},
     "output_type": "execute_result"
    },
    {
     "data": {
      "image/png": "[encoded data removed]",
      "text/plain": [
       "<Figure size 648x648 with 1 Axes>"
      ]
     },
     "metadata": {
      "needs_background": "light"
     },
     "output_type": "display_data"
    }
   ],
   "source": [
    "# Посмотрим продажи по платформам за актуальный период\n",
    "df2.groupby('platform')['all_sales'].sum().sort_values().plot(kind='bar',figsize = (9, 9))\n",
    "# Распределение среди платформ изменилось. Теперь самая прибыльная платформа - X360\n",
    "plt.title('Суммарные продажи игр по платформам, актуальный период')"
   ]
  },
  {
   "cell_type": "code",
   "execution_count": 31,
   "metadata": {},
   "outputs": [
    {
     "data": {
      "text/plain": [
       "<matplotlib.legend.Legend at 0x7fb8c0197350>"
      ]
     },
     "execution_count": 31,
     "metadata": {},
     "output_type": "execute_result"
    },
    {
     "data": {
      "image/png": "[encoded data removed]",
      "text/plain": [
       "<Figure size 648x576 with 1 Axes>"
      ]
     },
     "metadata": {
      "needs_background": "light"
     },
     "output_type": "display_data"
    }
   ],
   "source": [
    "# Необходимо выбрать потенциально прибыльные платформы\n",
    "# Для этого посмотрим по всем платформам кто еще не прошел десятилетный цикл\n",
    "\n",
    "df2.pivot_table(index = 'year_of_release', values = 'all_sales', columns = 'platform',aggfunc='sum').plot(figsize=(9,8))\n",
    "plt.title('Динамика суммарных продаж игр по платформам')\n",
    "plt.legend(ncol = 5)"
   ]
  },
  {
   "cell_type": "markdown",
   "metadata": {},
   "source": [
    "В целом по рынку игр наблюдается спад. Ни одна из платформ не показывает роста поэтому выбирая наиболее прибыльные платформы следует обратить внимание на их актуальность. Судя по графику следует обратить внимание на PS4 и X360 - они вышли в 2013 году и еще не прошли десятилетний цикл. Возможно еще обратить внимание на 3DS, так она наравне с выше назваными лидирует по продажам на момент 2016. Все остальные платформы, либо закончили цикл популярности, либо суммарные продажи по ним значительно ниже уровнем"
   ]
  },
  {
   "cell_type": "code",
   "execution_count": 32,
   "metadata": {},
   "outputs": [
    {
     "name": "stderr",
     "output_type": "stream",
     "text": [
      "/opt/conda/lib/python3.7/site-packages/numpy/core/_asarray.py:83: VisibleDeprecationWarning: Creating an ndarray from ragged nested sequences (which is a list-or-tuple of lists-or-tuples-or ndarrays with different lengths or shapes) is deprecated. If you meant to do this, you must specify 'dtype=object' when creating the ndarray\n",
      "  return array(a, dtype, copy=False, order=order)\n"
     ]
    },
    {
     "data": {
      "image/png": "[encoded data removed]",
      "text/plain": [
       "<Figure size 720x720 with 1 Axes>"
      ]
     },
     "metadata": {
      "needs_background": "light"
     },
     "output_type": "display_data"
    }
   ],
   "source": [
    "# Посмотрим как распределенны глобальные продажи в разрезе платформ по графике боксплот\n",
    "plot = df2.boxplot('all_sales', by='platform',figsize=(10,10))\n",
    "warnings.filterwarnings('ignore')"
   ]
  },
  {
   "cell_type": "markdown",
   "metadata": {},
   "source": [
    "Ничего не видно. У части платформ очень большие выбросы сверху -  Wii, PS, PS3 и X360 отдельно\n",
    "На данных платформ есть очень хорошо продаваемые игры, видимо хиты индустрии. Отмечаем для себя наличие таких хитов и для дальнейшего анализа смотрим без этих выбросов. Поставим произвольное ограничение в 5 млн копий. По графику видно, что самые значительные выбросы окажутся за этой чертой. "
   ]
  },
  {
   "cell_type": "code",
   "execution_count": 33,
   "metadata": {},
   "outputs": [],
   "source": [
    "df_for_boxplot = df2.loc[df['all_sales']<=5]"
   ]
  },
  {
   "cell_type": "code",
   "execution_count": 34,
   "metadata": {},
   "outputs": [
    {
     "data": {
      "image/png": "[encoded data removed]",
      "text/plain": [
       "<Figure size 720x720 with 1 Axes>"
      ]
     },
     "metadata": {
      "needs_background": "light"
     },
     "output_type": "display_data"
    }
   ],
   "source": [
    "plot = df_for_boxplot.boxplot('all_sales', by='platform',figsize=(10,10))"
   ]
  },
  {
   "cell_type": "markdown",
   "metadata": {},
   "source": [
    "По такому распределению можно сделать вывод что большая часть игр на всех платформах продается не более чем миллионом копий. Но для рынка игр характерно наличие большого количесво игр с гораздо большими продажами - большая часть выбросов лежит до границы в 20 миллионов копий. Отсюда можно сделать вывод, что выпускается большое количество средних игр и  только некоторые тановятся \"культовыми\". Так можно увидеть, что у некоторых платформ высота самого боксплота и его усов выше - это означает, что на таких платформах качество контента выше, так как в среднем случайная игра зарабатывает больше. К таким платформам можно отнести  PS3, PS4, XOne, X360"
   ]
  },
  {
   "cell_type": "markdown",
   "metadata": {},
   "source": [
    "Посмотрим, как влияют на продажи внутри одной популярной платформы отзывы пользователей и критиков. Например ps4. Для этого отберем нужные данные"
   ]
  },
  {
   "cell_type": "code",
   "execution_count": 35,
   "metadata": {},
   "outputs": [],
   "source": [
    "# Отбираем данные\n",
    "df_for_corr = df2.loc[df['platform']=='PS4']\n",
    "df_for_corr = df_for_corr[['critic_score','user_score','all_sales']]"
   ]
  },
  {
   "cell_type": "code",
   "execution_count": 36,
   "metadata": {},
   "outputs": [
    {
     "data": {
      "text/html": [
       "<div>\n",
       "<style scoped>\n",
       "    .dataframe tbody tr th:only-of-type {\n",
       "        vertical-align: middle;\n",
       "    }\n",
       "\n",
       "    .dataframe tbody tr th {\n",
       "        vertical-align: top;\n",
       "    }\n",
       "\n",
       "    .dataframe thead th {\n",
       "        text-align: right;\n",
       "    }\n",
       "</style>\n",
       "<table border=\"1\" class=\"dataframe\">\n",
       "  <thead>\n",
       "    <tr style=\"text-align: right;\">\n",
       "      <th></th>\n",
       "      <th>critic_score</th>\n",
       "      <th>user_score</th>\n",
       "      <th>all_sales</th>\n",
       "    </tr>\n",
       "  </thead>\n",
       "  <tbody>\n",
       "    <tr>\n",
       "      <td>critic_score</td>\n",
       "      <td>1.000000</td>\n",
       "      <td>0.557654</td>\n",
       "      <td>0.405895</td>\n",
       "    </tr>\n",
       "    <tr>\n",
       "      <td>user_score</td>\n",
       "      <td>0.557654</td>\n",
       "      <td>1.000000</td>\n",
       "      <td>-0.033625</td>\n",
       "    </tr>\n",
       "    <tr>\n",
       "      <td>all_sales</td>\n",
       "      <td>0.405895</td>\n",
       "      <td>-0.033625</td>\n",
       "      <td>1.000000</td>\n",
       "    </tr>\n",
       "  </tbody>\n",
       "</table>\n",
       "</div>"
      ],
      "text/plain": [
       "              critic_score  user_score  all_sales\n",
       "critic_score      1.000000    0.557654   0.405895\n",
       "user_score        0.557654    1.000000  -0.033625\n",
       "all_sales         0.405895   -0.033625   1.000000"
      ]
     },
     "execution_count": 36,
     "metadata": {},
     "output_type": "execute_result"
    }
   ],
   "source": [
    "# Уберем данные с нулями, что бы они не портили статистику\n",
    "df_for_corr = df_for_corr.loc[df['critic_score'] !=0]\n",
    "df_for_corr = df_for_corr.loc[df['user_score'] !=0]\n",
    "# Считаем корреляцию\n",
    "df_for_corr.corr()\n",
    "# Видимо оценки не слишком влияю на продажи, а вот оценки критиков и игроков между собой очень даже связаны\n",
    "# Но не забываем пропропуски, которые мы заполняли нулями. \n",
    "# Если нули есть и по оценки критиков и оценке игроков 0 это увеличивает корреляцию между ними"
   ]
  },
  {
   "cell_type": "code",
   "execution_count": 37,
   "metadata": {},
   "outputs": [
    {
     "data": {
      "text/plain": [
       "array([[<matplotlib.axes._subplots.AxesSubplot object at 0x7fb8be16eed0>,\n",
       "        <matplotlib.axes._subplots.AxesSubplot object at 0x7fb8be162d10>,\n",
       "        <matplotlib.axes._subplots.AxesSubplot object at 0x7fb8be1247d0>],\n",
       "       [<matplotlib.axes._subplots.AxesSubplot object at 0x7fb8be158e50>,\n",
       "        <matplotlib.axes._subplots.AxesSubplot object at 0x7fb8be099690>,\n",
       "        <matplotlib.axes._subplots.AxesSubplot object at 0x7fb8be0cfe90>],\n",
       "       [<matplotlib.axes._subplots.AxesSubplot object at 0x7fb8be08f6d0>,\n",
       "        <matplotlib.axes._subplots.AxesSubplot object at 0x7fb8be043ed0>,\n",
       "        <matplotlib.axes._subplots.AxesSubplot object at 0x7fb8be04da50>]],\n",
       "      dtype=object)"
      ]
     },
     "execution_count": 37,
     "metadata": {},
     "output_type": "execute_result"
    },
    {
     "data": {
      "image/png": "[encoded data removed]",
      "text/plain": [
       "<Figure size 648x648 with 9 Axes>"
      ]
     },
     "metadata": {
      "needs_background": "light"
     },
     "output_type": "display_data"
    }
   ],
   "source": [
    "# Посмотрим наглядно взаимосвязь\n",
    "pd.plotting.scatter_matrix(df_for_corr, figsize=(9, 9)) \n",
    "# Все-таки критики больше блияют на продажи, чем простые игроки"
   ]
  },
  {
   "cell_type": "code",
   "execution_count": 38,
   "metadata": {},
   "outputs": [
    {
     "data": {
      "text/html": [
       "<div>\n",
       "<style scoped>\n",
       "    .dataframe tbody tr th:only-of-type {\n",
       "        vertical-align: middle;\n",
       "    }\n",
       "\n",
       "    .dataframe tbody tr th {\n",
       "        vertical-align: top;\n",
       "    }\n",
       "\n",
       "    .dataframe thead th {\n",
       "        text-align: right;\n",
       "    }\n",
       "</style>\n",
       "<table border=\"1\" class=\"dataframe\">\n",
       "  <thead>\n",
       "    <tr style=\"text-align: right;\">\n",
       "      <th></th>\n",
       "      <th>critic_score</th>\n",
       "      <th>user_score</th>\n",
       "      <th>all_sales</th>\n",
       "    </tr>\n",
       "  </thead>\n",
       "  <tbody>\n",
       "    <tr>\n",
       "      <td>critic_score</td>\n",
       "      <td>1.000000</td>\n",
       "      <td>0.557654</td>\n",
       "      <td>0.405895</td>\n",
       "    </tr>\n",
       "    <tr>\n",
       "      <td>user_score</td>\n",
       "      <td>0.557654</td>\n",
       "      <td>1.000000</td>\n",
       "      <td>-0.033625</td>\n",
       "    </tr>\n",
       "    <tr>\n",
       "      <td>all_sales</td>\n",
       "      <td>0.405895</td>\n",
       "      <td>-0.033625</td>\n",
       "      <td>1.000000</td>\n",
       "    </tr>\n",
       "  </tbody>\n",
       "</table>\n",
       "</div>"
      ],
      "text/plain": [
       "              critic_score  user_score  all_sales\n",
       "critic_score      1.000000    0.557654   0.405895\n",
       "user_score        0.557654    1.000000  -0.033625\n",
       "all_sales         0.405895   -0.033625   1.000000"
      ]
     },
     "execution_count": 38,
     "metadata": {},
     "output_type": "execute_result"
    }
   ],
   "source": [
    "# Посмотрим в разрезе других платформ, например - X360\n",
    "\n",
    "df_for_corr2 = df2.loc[df['platform']=='X360']\n",
    "df_for_corr2 = df_for_corr[['critic_score','user_score','all_sales']]\n",
    "\n",
    "# Уберем данные с нулями, что бы они не портили статистику\n",
    "df_for_corr2 = df_for_corr.loc[df['critic_score'] !=0]\n",
    "df_for_corr2 = df_for_corr.loc[df['user_score'] !=0]\n",
    "\n",
    "df_for_corr2.corr()\n",
    "# Довольно схожие цифры"
   ]
  },
  {
   "cell_type": "markdown",
   "metadata": {},
   "source": [
    "Перейдем к анализу игр по жанрам. Посмотрим для начала  на распределение жанров по прибыли"
   ]
  },
  {
   "cell_type": "code",
   "execution_count": 39,
   "metadata": {},
   "outputs": [
    {
     "data": {
      "text/plain": [
       "Text(0.5, 1.0, 'Суммарные продажи игр по жанрам, актуальный период')"
      ]
     },
     "execution_count": 39,
     "metadata": {},
     "output_type": "execute_result"
    },
    {
     "data": {
      "image/png": "[encoded data removed]",
      "text/plain": [
       "<Figure size 648x648 with 1 Axes>"
      ]
     },
     "metadata": {
      "needs_background": "light"
     },
     "output_type": "display_data"
    }
   ],
   "source": [
    "# Посмотрим на суммарные продажи\n",
    "df2.groupby('genre')['all_sales'].sum().sort_values().plot(kind='bar',figsize = (9, 9))\n",
    "plt.title('Суммарные продажи игр по жанрам, актуальный период')"
   ]
  },
  {
   "cell_type": "markdown",
   "metadata": {},
   "source": [
    "Экш, спортивные игры и шутеры составляют тройку лидеров по суммарным продажам. Но в таком случае мы не видим прибыльность каждого жанра. Что бы сделать какие-то выводы нам нужно посмотреть на средние продажи по жанрам"
   ]
  },
  {
   "cell_type": "code",
   "execution_count": 40,
   "metadata": {},
   "outputs": [
    {
     "data": {
      "text/plain": [
       "Text(0.5, 1.0, 'Средние продажи игр по жанрам, актуальный период')"
      ]
     },
     "execution_count": 40,
     "metadata": {},
     "output_type": "execute_result"
    },
    {
     "data": {
      "image/png": "[encoded data removed]",
      "text/plain": [
       "<Figure size 648x648 with 1 Axes>"
      ]
     },
     "metadata": {
      "needs_background": "light"
     },
     "output_type": "display_data"
    }
   ],
   "source": [
    "# Выведем также на график\n",
    "df2.groupby('genre')['all_sales'].mean().sort_values().plot(kind='bar',figsize = (9, 9))\n",
    "plt.title('Средние продажи игр по жанрам, актуальный период')                                                           "
   ]
  },
  {
   "cell_type": "code",
   "execution_count": 41,
   "metadata": {},
   "outputs": [
    {
     "data": {
      "text/html": [
       "<div>\n",
       "<style scoped>\n",
       "    .dataframe tbody tr th:only-of-type {\n",
       "        vertical-align: middle;\n",
       "    }\n",
       "\n",
       "    .dataframe tbody tr th {\n",
       "        vertical-align: top;\n",
       "    }\n",
       "\n",
       "    .dataframe thead th {\n",
       "        text-align: right;\n",
       "    }\n",
       "</style>\n",
       "<table border=\"1\" class=\"dataframe\">\n",
       "  <thead>\n",
       "    <tr style=\"text-align: right;\">\n",
       "      <th></th>\n",
       "      <th>count</th>\n",
       "      <th>mean</th>\n",
       "      <th>median</th>\n",
       "      <th>sum</th>\n",
       "    </tr>\n",
       "    <tr>\n",
       "      <th>genre</th>\n",
       "      <th></th>\n",
       "      <th></th>\n",
       "      <th></th>\n",
       "      <th></th>\n",
       "    </tr>\n",
       "  </thead>\n",
       "  <tbody>\n",
       "    <tr>\n",
       "      <td>Adventure</td>\n",
       "      <td>245</td>\n",
       "      <td>0.096490</td>\n",
       "      <td>0.030</td>\n",
       "      <td>23.64</td>\n",
       "    </tr>\n",
       "    <tr>\n",
       "      <td>Strategy</td>\n",
       "      <td>56</td>\n",
       "      <td>0.180000</td>\n",
       "      <td>0.080</td>\n",
       "      <td>10.08</td>\n",
       "    </tr>\n",
       "    <tr>\n",
       "      <td>Puzzle</td>\n",
       "      <td>17</td>\n",
       "      <td>0.186471</td>\n",
       "      <td>0.060</td>\n",
       "      <td>3.17</td>\n",
       "    </tr>\n",
       "    <tr>\n",
       "      <td>Simulation</td>\n",
       "      <td>62</td>\n",
       "      <td>0.350968</td>\n",
       "      <td>0.100</td>\n",
       "      <td>21.76</td>\n",
       "    </tr>\n",
       "    <tr>\n",
       "      <td>Misc</td>\n",
       "      <td>155</td>\n",
       "      <td>0.405290</td>\n",
       "      <td>0.100</td>\n",
       "      <td>62.82</td>\n",
       "    </tr>\n",
       "    <tr>\n",
       "      <td>Action</td>\n",
       "      <td>766</td>\n",
       "      <td>0.420196</td>\n",
       "      <td>0.110</td>\n",
       "      <td>321.87</td>\n",
       "    </tr>\n",
       "    <tr>\n",
       "      <td>Fighting</td>\n",
       "      <td>80</td>\n",
       "      <td>0.441375</td>\n",
       "      <td>0.125</td>\n",
       "      <td>35.31</td>\n",
       "    </tr>\n",
       "    <tr>\n",
       "      <td>Racing</td>\n",
       "      <td>85</td>\n",
       "      <td>0.469294</td>\n",
       "      <td>0.120</td>\n",
       "      <td>39.89</td>\n",
       "    </tr>\n",
       "    <tr>\n",
       "      <td>Role-Playing</td>\n",
       "      <td>292</td>\n",
       "      <td>0.499623</td>\n",
       "      <td>0.125</td>\n",
       "      <td>145.89</td>\n",
       "    </tr>\n",
       "    <tr>\n",
       "      <td>Platform</td>\n",
       "      <td>74</td>\n",
       "      <td>0.576081</td>\n",
       "      <td>0.225</td>\n",
       "      <td>42.63</td>\n",
       "    </tr>\n",
       "    <tr>\n",
       "      <td>Sports</td>\n",
       "      <td>214</td>\n",
       "      <td>0.703972</td>\n",
       "      <td>0.240</td>\n",
       "      <td>150.65</td>\n",
       "    </tr>\n",
       "    <tr>\n",
       "      <td>Shooter</td>\n",
       "      <td>187</td>\n",
       "      <td>1.245882</td>\n",
       "      <td>0.450</td>\n",
       "      <td>232.98</td>\n",
       "    </tr>\n",
       "  </tbody>\n",
       "</table>\n",
       "</div>"
      ],
      "text/plain": [
       "              count      mean  median     sum\n",
       "genre                                        \n",
       "Adventure       245  0.096490   0.030   23.64\n",
       "Strategy         56  0.180000   0.080   10.08\n",
       "Puzzle           17  0.186471   0.060    3.17\n",
       "Simulation       62  0.350968   0.100   21.76\n",
       "Misc            155  0.405290   0.100   62.82\n",
       "Action          766  0.420196   0.110  321.87\n",
       "Fighting         80  0.441375   0.125   35.31\n",
       "Racing           85  0.469294   0.120   39.89\n",
       "Role-Playing    292  0.499623   0.125  145.89\n",
       "Platform         74  0.576081   0.225   42.63\n",
       "Sports          214  0.703972   0.240  150.65\n",
       "Shooter         187  1.245882   0.450  232.98"
      ]
     },
     "execution_count": 41,
     "metadata": {},
     "output_type": "execute_result"
    }
   ],
   "source": [
    "# Для сравнения посмотрим на эти показатели рядом\n",
    "df2.pivot_table(index='genre', values='all_sales', aggfunc= {'all_sales':['sum','mean','count','median']}).sort_values(by = 'mean')"
   ]
  },
  {
   "cell_type": "markdown",
   "metadata": {},
   "source": [
    "На основании графиков и сводной таблицы можно сделать следущие выводы: Больше всего продается жанр экшн, однако в среднем каждая игра продается 0,47 млн копий, что не является выдающимся результатом. Очевидно жанр экшн берет количеством. Шутеры, платформы и спортивные игры в среднем продаются больше в расчете на одну игру. Шутеры занимают высокие позиции на обоих графиках - это самый продаваемых жанр. Самые непопулярные жанры по обоим критериям - приключения, стратегии и пазлы"
   ]
  },
  {
   "cell_type": "markdown",
   "metadata": {},
   "source": [
    "# Шаг 4. Портрет пользователя по регионам"
   ]
  },
  {
   "cell_type": "markdown",
   "metadata": {},
   "source": [
    "Определите для пользователя каждого региона (NA, EU, JP):\n",
    "Самые популярные платформы (топ-5). Опишите различия в долях продаж.\n",
    "Самые популярные жанры (топ-5). Поясните разницу.\n",
    "\n",
    "Влияет ли рейтинг ESRB на продажи в отдельном регионе?"
   ]
  },
  {
   "cell_type": "code",
   "execution_count": 42,
   "metadata": {},
   "outputs": [
    {
     "data": {
      "text/plain": [
       "<matplotlib.axes._subplots.AxesSubplot at 0x7fb8be39b850>"
      ]
     },
     "execution_count": 42,
     "metadata": {},
     "output_type": "execute_result"
    },
    {
     "data": {
      "image/png": "[encoded data removed]",
      "text/plain": [
       "<Figure size 1800x432 with 3 Axes>"
      ]
     },
     "metadata": {
      "needs_background": "light"
     },
     "output_type": "display_data"
    }
   ],
   "source": [
    "# Посмотрим на популярность платформ по суммарным продажам копий игр в регионах\n",
    "fig, axes = plt.subplots(1, 3, figsize=(25,6))\n",
    "df2.groupby('genre').agg({'na_sales': 'sum'}).sort_values(by='na_sales',ascending=False)[:5].plot(kind='bar',ax=axes[0], title = 'Северная Америка')\n",
    "df2.groupby('genre').agg({'eu_sales': 'sum'}).sort_values(by='eu_sales',ascending=False)[:5].plot(kind='bar',ax=axes[1], title = 'Европа')\n",
    "df2.groupby('genre').agg({'jp_sales': 'sum'}).sort_values(by='jp_sales',ascending=False)[:5].plot(kind='bar',ax=axes[2], title = 'Япония')\n"
   ]
  },
  {
   "cell_type": "markdown",
   "metadata": {},
   "source": [
    "Можно сделать вывод о схожости продаж в Северной Америке и Европе. Четыре из пяти популярных жанра совпадают. А вот Япония отличается - вместо экшена японцы отдают предпочтения ролевым играм"
   ]
  },
  {
   "cell_type": "code",
   "execution_count": 43,
   "metadata": {},
   "outputs": [
    {
     "data": {
      "text/html": [
       "<div>\n",
       "<style scoped>\n",
       "    .dataframe tbody tr th:only-of-type {\n",
       "        vertical-align: middle;\n",
       "    }\n",
       "\n",
       "    .dataframe tbody tr th {\n",
       "        vertical-align: top;\n",
       "    }\n",
       "\n",
       "    .dataframe thead th {\n",
       "        text-align: right;\n",
       "    }\n",
       "</style>\n",
       "<table border=\"1\" class=\"dataframe\">\n",
       "  <thead>\n",
       "    <tr style=\"text-align: right;\">\n",
       "      <th></th>\n",
       "      <th>na_sales</th>\n",
       "      <th>eu_sales</th>\n",
       "      <th>jp_sales</th>\n",
       "    </tr>\n",
       "    <tr>\n",
       "      <th>genre</th>\n",
       "      <th></th>\n",
       "      <th></th>\n",
       "      <th></th>\n",
       "    </tr>\n",
       "  </thead>\n",
       "  <tbody>\n",
       "    <tr>\n",
       "      <td>Action</td>\n",
       "      <td>126.05</td>\n",
       "      <td>118.13</td>\n",
       "      <td>40.49</td>\n",
       "    </tr>\n",
       "    <tr>\n",
       "      <td>Shooter</td>\n",
       "      <td>109.74</td>\n",
       "      <td>87.86</td>\n",
       "      <td>6.61</td>\n",
       "    </tr>\n",
       "    <tr>\n",
       "      <td>Sports</td>\n",
       "      <td>65.27</td>\n",
       "      <td>60.52</td>\n",
       "      <td>5.41</td>\n",
       "    </tr>\n",
       "    <tr>\n",
       "      <td>Role-Playing</td>\n",
       "      <td>46.40</td>\n",
       "      <td>36.97</td>\n",
       "      <td>51.04</td>\n",
       "    </tr>\n",
       "    <tr>\n",
       "      <td>Misc</td>\n",
       "      <td>27.49</td>\n",
       "      <td>20.04</td>\n",
       "      <td>9.20</td>\n",
       "    </tr>\n",
       "    <tr>\n",
       "      <td>Platform</td>\n",
       "      <td>18.14</td>\n",
       "      <td>15.58</td>\n",
       "      <td>4.79</td>\n",
       "    </tr>\n",
       "    <tr>\n",
       "      <td>Fighting</td>\n",
       "      <td>15.55</td>\n",
       "      <td>8.55</td>\n",
       "      <td>7.65</td>\n",
       "    </tr>\n",
       "    <tr>\n",
       "      <td>Racing</td>\n",
       "      <td>12.96</td>\n",
       "      <td>20.19</td>\n",
       "      <td>2.30</td>\n",
       "    </tr>\n",
       "    <tr>\n",
       "      <td>Adventure</td>\n",
       "      <td>7.14</td>\n",
       "      <td>8.25</td>\n",
       "      <td>5.82</td>\n",
       "    </tr>\n",
       "    <tr>\n",
       "      <td>Simulation</td>\n",
       "      <td>4.86</td>\n",
       "      <td>10.92</td>\n",
       "      <td>4.52</td>\n",
       "    </tr>\n",
       "    <tr>\n",
       "      <td>Strategy</td>\n",
       "      <td>3.28</td>\n",
       "      <td>4.22</td>\n",
       "      <td>1.77</td>\n",
       "    </tr>\n",
       "    <tr>\n",
       "      <td>Puzzle</td>\n",
       "      <td>0.83</td>\n",
       "      <td>1.00</td>\n",
       "      <td>1.18</td>\n",
       "    </tr>\n",
       "  </tbody>\n",
       "</table>\n",
       "</div>"
      ],
      "text/plain": [
       "              na_sales  eu_sales  jp_sales\n",
       "genre                                     \n",
       "Action          126.05    118.13     40.49\n",
       "Shooter         109.74     87.86      6.61\n",
       "Sports           65.27     60.52      5.41\n",
       "Role-Playing     46.40     36.97     51.04\n",
       "Misc             27.49     20.04      9.20\n",
       "Platform         18.14     15.58      4.79\n",
       "Fighting         15.55      8.55      7.65\n",
       "Racing           12.96     20.19      2.30\n",
       "Adventure         7.14      8.25      5.82\n",
       "Simulation        4.86     10.92      4.52\n",
       "Strategy          3.28      4.22      1.77\n",
       "Puzzle            0.83      1.00      1.18"
      ]
     },
     "execution_count": 43,
     "metadata": {},
     "output_type": "execute_result"
    }
   ],
   "source": [
    "# Посмотрим в цифрах\n",
    "df2.groupby('genre').agg({'na_sales': 'sum','eu_sales': 'sum','jp_sales': 'sum'}).sort_values(by='na_sales',ascending=False)\n",
    "# Продажи в Японии на порядок ниже"
   ]
  },
  {
   "cell_type": "code",
   "execution_count": 44,
   "metadata": {},
   "outputs": [
    {
     "data": {
      "text/plain": [
       "<matplotlib.axes._subplots.AxesSubplot at 0x7fb8be639110>"
      ]
     },
     "execution_count": 44,
     "metadata": {},
     "output_type": "execute_result"
    },
    {
     "data": {
      "image/png": "[encoded data removed]",
      "text/plain": [
       "<Figure size 1800x432 with 3 Axes>"
      ]
     },
     "metadata": {
      "needs_background": "light"
     },
     "output_type": "display_data"
    }
   ],
   "source": [
    "# Посмотрим на платформы\n",
    "fig, axes = plt.subplots(1, 3, figsize=(25,6))\n",
    "df2.groupby('platform').agg({'na_sales': 'sum'}).sort_values(by='na_sales',ascending=False)[:5].plot(kind='bar',ax=axes[0], title = 'Северная Америка')\n",
    "df2.groupby('platform').agg({'eu_sales': 'sum'}).sort_values(by='eu_sales',ascending=False)[:5].plot(kind='bar',ax=axes[1], title = 'Европа')\n",
    "df2.groupby('platform').agg({'jp_sales': 'sum'}).sort_values(by='jp_sales',ascending=False)[:5].plot(kind='bar',ax=axes[2], title = 'Япония')\n"
   ]
  },
  {
   "cell_type": "code",
   "execution_count": 45,
   "metadata": {},
   "outputs": [
    {
     "data": {
      "text/html": [
       "<div>\n",
       "<style scoped>\n",
       "    .dataframe tbody tr th:only-of-type {\n",
       "        vertical-align: middle;\n",
       "    }\n",
       "\n",
       "    .dataframe tbody tr th {\n",
       "        vertical-align: top;\n",
       "    }\n",
       "\n",
       "    .dataframe thead th {\n",
       "        text-align: right;\n",
       "    }\n",
       "</style>\n",
       "<table border=\"1\" class=\"dataframe\">\n",
       "  <thead>\n",
       "    <tr style=\"text-align: right;\">\n",
       "      <th></th>\n",
       "      <th>na_sales</th>\n",
       "      <th>eu_sales</th>\n",
       "      <th>jp_sales</th>\n",
       "    </tr>\n",
       "    <tr>\n",
       "      <th>platform</th>\n",
       "      <th></th>\n",
       "      <th></th>\n",
       "      <th></th>\n",
       "    </tr>\n",
       "  </thead>\n",
       "  <tbody>\n",
       "    <tr>\n",
       "      <td>PS4</td>\n",
       "      <td>108.74</td>\n",
       "      <td>141.09</td>\n",
       "      <td>15.96</td>\n",
       "    </tr>\n",
       "    <tr>\n",
       "      <td>XOne</td>\n",
       "      <td>93.12</td>\n",
       "      <td>51.59</td>\n",
       "      <td>0.34</td>\n",
       "    </tr>\n",
       "    <tr>\n",
       "      <td>X360</td>\n",
       "      <td>81.66</td>\n",
       "      <td>42.52</td>\n",
       "      <td>0.51</td>\n",
       "    </tr>\n",
       "    <tr>\n",
       "      <td>PS3</td>\n",
       "      <td>63.50</td>\n",
       "      <td>67.81</td>\n",
       "      <td>23.35</td>\n",
       "    </tr>\n",
       "    <tr>\n",
       "      <td>3DS</td>\n",
       "      <td>38.20</td>\n",
       "      <td>30.96</td>\n",
       "      <td>67.81</td>\n",
       "    </tr>\n",
       "    <tr>\n",
       "      <td>WiiU</td>\n",
       "      <td>29.21</td>\n",
       "      <td>19.85</td>\n",
       "      <td>10.88</td>\n",
       "    </tr>\n",
       "    <tr>\n",
       "      <td>PC</td>\n",
       "      <td>11.11</td>\n",
       "      <td>25.36</td>\n",
       "      <td>0.00</td>\n",
       "    </tr>\n",
       "    <tr>\n",
       "      <td>Wii</td>\n",
       "      <td>6.56</td>\n",
       "      <td>5.93</td>\n",
       "      <td>0.05</td>\n",
       "    </tr>\n",
       "    <tr>\n",
       "      <td>PSV</td>\n",
       "      <td>5.04</td>\n",
       "      <td>6.10</td>\n",
       "      <td>18.59</td>\n",
       "    </tr>\n",
       "    <tr>\n",
       "      <td>DS</td>\n",
       "      <td>0.57</td>\n",
       "      <td>0.85</td>\n",
       "      <td>0.00</td>\n",
       "    </tr>\n",
       "    <tr>\n",
       "      <td>XB</td>\n",
       "      <td>0.00</td>\n",
       "      <td>0.00</td>\n",
       "      <td>0.00</td>\n",
       "    </tr>\n",
       "    <tr>\n",
       "      <td>TG16</td>\n",
       "      <td>0.00</td>\n",
       "      <td>0.00</td>\n",
       "      <td>0.00</td>\n",
       "    </tr>\n",
       "    <tr>\n",
       "      <td>SNES</td>\n",
       "      <td>0.00</td>\n",
       "      <td>0.00</td>\n",
       "      <td>0.00</td>\n",
       "    </tr>\n",
       "    <tr>\n",
       "      <td>SCD</td>\n",
       "      <td>0.00</td>\n",
       "      <td>0.00</td>\n",
       "      <td>0.00</td>\n",
       "    </tr>\n",
       "    <tr>\n",
       "      <td>SAT</td>\n",
       "      <td>0.00</td>\n",
       "      <td>0.00</td>\n",
       "      <td>0.00</td>\n",
       "    </tr>\n",
       "    <tr>\n",
       "      <td>PSP</td>\n",
       "      <td>0.00</td>\n",
       "      <td>0.17</td>\n",
       "      <td>3.29</td>\n",
       "    </tr>\n",
       "    <tr>\n",
       "      <td>WS</td>\n",
       "      <td>0.00</td>\n",
       "      <td>0.00</td>\n",
       "      <td>0.00</td>\n",
       "    </tr>\n",
       "    <tr>\n",
       "      <td>2600</td>\n",
       "      <td>0.00</td>\n",
       "      <td>0.00</td>\n",
       "      <td>0.00</td>\n",
       "    </tr>\n",
       "    <tr>\n",
       "      <td>PS2</td>\n",
       "      <td>0.00</td>\n",
       "      <td>0.00</td>\n",
       "      <td>0.00</td>\n",
       "    </tr>\n",
       "    <tr>\n",
       "      <td>3DO</td>\n",
       "      <td>0.00</td>\n",
       "      <td>0.00</td>\n",
       "      <td>0.00</td>\n",
       "    </tr>\n",
       "    <tr>\n",
       "      <td>PCFX</td>\n",
       "      <td>0.00</td>\n",
       "      <td>0.00</td>\n",
       "      <td>0.00</td>\n",
       "    </tr>\n",
       "    <tr>\n",
       "      <td>NG</td>\n",
       "      <td>0.00</td>\n",
       "      <td>0.00</td>\n",
       "      <td>0.00</td>\n",
       "    </tr>\n",
       "    <tr>\n",
       "      <td>NES</td>\n",
       "      <td>0.00</td>\n",
       "      <td>0.00</td>\n",
       "      <td>0.00</td>\n",
       "    </tr>\n",
       "    <tr>\n",
       "      <td>N64</td>\n",
       "      <td>0.00</td>\n",
       "      <td>0.00</td>\n",
       "      <td>0.00</td>\n",
       "    </tr>\n",
       "    <tr>\n",
       "      <td>GG</td>\n",
       "      <td>0.00</td>\n",
       "      <td>0.00</td>\n",
       "      <td>0.00</td>\n",
       "    </tr>\n",
       "    <tr>\n",
       "      <td>GEN</td>\n",
       "      <td>0.00</td>\n",
       "      <td>0.00</td>\n",
       "      <td>0.00</td>\n",
       "    </tr>\n",
       "    <tr>\n",
       "      <td>GC</td>\n",
       "      <td>0.00</td>\n",
       "      <td>0.00</td>\n",
       "      <td>0.00</td>\n",
       "    </tr>\n",
       "    <tr>\n",
       "      <td>GBA</td>\n",
       "      <td>0.00</td>\n",
       "      <td>0.00</td>\n",
       "      <td>0.00</td>\n",
       "    </tr>\n",
       "    <tr>\n",
       "      <td>GB</td>\n",
       "      <td>0.00</td>\n",
       "      <td>0.00</td>\n",
       "      <td>0.00</td>\n",
       "    </tr>\n",
       "    <tr>\n",
       "      <td>DC</td>\n",
       "      <td>0.00</td>\n",
       "      <td>0.00</td>\n",
       "      <td>0.00</td>\n",
       "    </tr>\n",
       "    <tr>\n",
       "      <td>PS</td>\n",
       "      <td>0.00</td>\n",
       "      <td>0.00</td>\n",
       "      <td>0.00</td>\n",
       "    </tr>\n",
       "  </tbody>\n",
       "</table>\n",
       "</div>"
      ],
      "text/plain": [
       "          na_sales  eu_sales  jp_sales\n",
       "platform                              \n",
       "PS4         108.74    141.09     15.96\n",
       "XOne         93.12     51.59      0.34\n",
       "X360         81.66     42.52      0.51\n",
       "PS3          63.50     67.81     23.35\n",
       "3DS          38.20     30.96     67.81\n",
       "WiiU         29.21     19.85     10.88\n",
       "PC           11.11     25.36      0.00\n",
       "Wii           6.56      5.93      0.05\n",
       "PSV           5.04      6.10     18.59\n",
       "DS            0.57      0.85      0.00\n",
       "XB            0.00      0.00      0.00\n",
       "TG16          0.00      0.00      0.00\n",
       "SNES          0.00      0.00      0.00\n",
       "SCD           0.00      0.00      0.00\n",
       "SAT           0.00      0.00      0.00\n",
       "PSP           0.00      0.17      3.29\n",
       "WS            0.00      0.00      0.00\n",
       "2600          0.00      0.00      0.00\n",
       "PS2           0.00      0.00      0.00\n",
       "3DO           0.00      0.00      0.00\n",
       "PCFX          0.00      0.00      0.00\n",
       "NG            0.00      0.00      0.00\n",
       "NES           0.00      0.00      0.00\n",
       "N64           0.00      0.00      0.00\n",
       "GG            0.00      0.00      0.00\n",
       "GEN           0.00      0.00      0.00\n",
       "GC            0.00      0.00      0.00\n",
       "GBA           0.00      0.00      0.00\n",
       "GB            0.00      0.00      0.00\n",
       "DC            0.00      0.00      0.00\n",
       "PS            0.00      0.00      0.00"
      ]
     },
     "execution_count": 45,
     "metadata": {},
     "output_type": "execute_result"
    }
   ],
   "source": [
    "df2.groupby('platform').agg({'na_sales': 'sum','eu_sales': 'sum','jp_sales': 'sum'}).sort_values(by='na_sales',ascending=False)"
   ]
  },
  {
   "cell_type": "markdown",
   "metadata": {},
   "source": [
    "Так в Северной Америке самая популярная платформа - x360, а в Европе ps3, однако в целом тройка лидеров схожа - x360,ps3,wii. А вот в Японии гораздо больше продаж приходится на ds и 3ds и только потом идет ps3, а x360 даже не входит в топ-5."
   ]
  },
  {
   "cell_type": "code",
   "execution_count": 46,
   "metadata": {},
   "outputs": [
    {
     "data": {
      "text/plain": [
       "<matplotlib.axes._subplots.AxesSubplot at 0x7fb8be704290>"
      ]
     },
     "execution_count": 46,
     "metadata": {},
     "output_type": "execute_result"
    },
    {
     "data": {
      "image/png": "[encoded data removed]",
      "text/plain": [
       "<Figure size 1800x432 with 3 Axes>"
      ]
     },
     "metadata": {
      "needs_background": "light"
     },
     "output_type": "display_data"
    }
   ],
   "source": [
    "# Аналогично посмотрим на рейтинги\n",
    "fig, axes = plt.subplots(1, 3, figsize=(25,6))\n",
    "df2.groupby('rating').agg({'na_sales': 'sum'}).sort_values(by='na_sales',ascending=False)[:5].plot(kind='bar',ax=axes[0], title = 'Северная Америка')\n",
    "df2.groupby('rating').agg({'eu_sales': 'sum'}).sort_values(by='eu_sales',ascending=False)[:5].plot(kind='bar',ax=axes[1], title = 'Европа')\n",
    "df2.groupby('rating').agg({'jp_sales': 'sum'}).sort_values(by='jp_sales',ascending=False)[:5].plot(kind='bar',ax=axes[2], title = 'Япония')"
   ]
  },
  {
   "cell_type": "markdown",
   "metadata": {},
   "source": [
    "Опять же в Северной Америке и Европе ситуация схожа - самые популярные рейтинги E, M и T. И ситуация в Японии отличается. На первом месте игры без рейтинга. Может в Японии не всем играм ставятся рейтинги? В любом случае однозначно можно сделать вывод, что средний портрет пользователя Северной Америки и Европы схож, а в Японии оотличается. Предположу, что на японском рынке продаются какие-то характерные игры, которые не выходят на остальной мир и рейтинг им не проставляется"
   ]
  },
  {
   "cell_type": "markdown",
   "metadata": {},
   "source": [
    "# Шаг 5. Проверка гипотез"
   ]
  },
  {
   "cell_type": "markdown",
   "metadata": {},
   "source": [
    "У нас есть две гипотезы. Для обех используем t-тест - st.ttest_ind, так как у нас выборки не зависимы друг от друга: пользователи разных платфор не зависят друг от друга также как и игроки в разные жанры"
   ]
  },
  {
   "cell_type": "code",
   "execution_count": 47,
   "metadata": {},
   "outputs": [],
   "source": [
    "# Задаем стандартное значение альфа\n",
    "alpha = 0.05"
   ]
  },
  {
   "cell_type": "code",
   "execution_count": 48,
   "metadata": {},
   "outputs": [],
   "source": [
    "# Убирем нулевые рейтинги, что бы они нам не мешали и не оказывали влияния на тесты\n",
    "df3 = df2[df2['user_score'] != 0]"
   ]
  },
  {
   "cell_type": "markdown",
   "metadata": {},
   "source": [
    "5.1 Средние пользовательские рейтинги платформ Xbox One и PC одинаковые;\n"
   ]
  },
  {
   "cell_type": "markdown",
   "metadata": {},
   "source": [
    "Н0 (нулевая гипотеза) - средние пользовательские рейтинги платформ Xbox One и PC одинаковые.\n",
    "Н1 (альтернативная гипотеза) - средние пользовательские рейтинги платформ Xbox One и PC отличаются между собой"
   ]
  },
  {
   "cell_type": "code",
   "execution_count": 49,
   "metadata": {},
   "outputs": [],
   "source": [
    "# Создаем выборки для теста\n",
    "X0ne = df3[df3['platform'] == 'XOne']['user_score']\n",
    "PC = df3[df3['platform'] == 'PC']['user_score']"
   ]
  },
  {
   "cell_type": "code",
   "execution_count": 50,
   "metadata": {},
   "outputs": [
    {
     "name": "stdout",
     "output_type": "stream",
     "text": [
      "6.521428571428572\n",
      "6.2696774193548395\n"
     ]
    }
   ],
   "source": [
    "# Посмотрим, а на средние значения\n",
    "print(X0ne.mean())\n",
    "print(PC.mean())\n",
    "# Пользовательская оценка игр на PC выше\n",
    "# А теперь проверим не случайно ли это различие"
   ]
  },
  {
   "cell_type": "code",
   "execution_count": 51,
   "metadata": {},
   "outputs": [],
   "source": [
    "# Проводим сам тест\n",
    "results = st.ttest_ind(X0ne, PC)"
   ]
  },
  {
   "cell_type": "code",
   "execution_count": 52,
   "metadata": {},
   "outputs": [
    {
     "name": "stdout",
     "output_type": "stream",
     "text": [
      "p-значение: 0.14012658403611647\n",
      "Не получилось отвергнуть нулевую гипотезу\n"
     ]
    }
   ],
   "source": [
    "print('p-значение:', results.pvalue)\n",
    "\n",
    "if (results.pvalue < alpha):\n",
    "    print(\"Отвергаем нулевую гипотезу\")\n",
    "else:\n",
    "    print(\"Не получилось отвергнуть нулевую гипотезу\")"
   ]
  },
  {
   "cell_type": "markdown",
   "metadata": {},
   "source": [
    "Вывод: различия между пользовательскими оценками пользователей XOne и PC статистически значимы"
   ]
  },
  {
   "cell_type": "markdown",
   "metadata": {},
   "source": [
    "5.2 Средние пользовательские рейтинги жанров Action (англ. «действие», экшен-игры) и Sports (англ. «спортивные соревнования») разные."
   ]
  },
  {
   "cell_type": "markdown",
   "metadata": {},
   "source": [
    "Н0 (нулевая гипотеза) - средние пользовательские рейтинги жанров экшн и спорт одинаковые.\n",
    "Н1 (альтернативная гипотеза) - средние пользовательские рейтинги жанров экшн и спорт отличаются между собой"
   ]
  },
  {
   "cell_type": "code",
   "execution_count": 53,
   "metadata": {},
   "outputs": [],
   "source": [
    "# Создаем выборки для теста\n",
    "action = df3[df3['genre'] == 'Action']['user_score']\n",
    "sports = df3[df3['genre'] == 'Sports']['user_score']"
   ]
  },
  {
   "cell_type": "code",
   "execution_count": 54,
   "metadata": {},
   "outputs": [
    {
     "name": "stdout",
     "output_type": "stream",
     "text": [
      "6.837532133676092\n",
      "5.238124999999999\n"
     ]
    }
   ],
   "source": [
    "# Посмотрим на сами средние значения\n",
    "print(action.mean())\n",
    "print(sports.mean())\n",
    "# Есть некоторое отличие в пользу экшн игр"
   ]
  },
  {
   "cell_type": "code",
   "execution_count": 55,
   "metadata": {},
   "outputs": [],
   "source": [
    "# Проводим сам тест\n",
    "results2 = st.ttest_ind(action, sports)"
   ]
  },
  {
   "cell_type": "code",
   "execution_count": 58,
   "metadata": {},
   "outputs": [
    {
     "name": "stdout",
     "output_type": "stream",
     "text": [
      "p-значение: 1.0517832389140023e-27\n",
      "Отвергаем нулевую гипотезу\n"
     ]
    }
   ],
   "source": [
    "print('p-значение:', results2.pvalue)\n",
    "\n",
    "if (results2.pvalue < alpha):\n",
    "    print(\"Отвергаем нулевую гипотезу\")\n",
    "else:\n",
    "    print(\"Не получилось отвергнуть нулевую гипотезу\")"
   ]
  },
  {
   "cell_type": "markdown",
   "metadata": {},
   "source": [
    "Различия в оценках случайно. Средние оценки игр экшн не отличаются от игр спорт"
   ]
  },
  {
   "cell_type": "markdown",
   "metadata": {},
   "source": [
    "# Шаг 6. Вывод"
   ]
  },
  {
   "cell_type": "markdown",
   "metadata": {},
   "source": [
    "Продажи игр развивались более 30 лет и уже пережили пик своей популярности в середине двухтысячных. На данный момент имеется тенденция к снижению объемов продаж игр. Можно прогнозировать дальнейший спад продаж. На рынке существует множество платформ они появляются, развиваются и затухают. В среднем для одной платформы на это требуется 10 лет. Одни платформы явно популярнее других - например, PS2,X360,PS3,Wii,DS,PS. Для каждой платформы выходят разнообразные игры разных жанров и разных рейтингов. Соответственно такие игры продаются с разной успешностью. Для продаж игр характерно большое наличие игр со средней оценкой, некое \"штампование\" продукта. Только отдельные игры-выбросы становятся действительно популярны и продаются большим числом копий. Однако некоторые платформы \"устойчивее\" и предлагают больше качественного контента -  PS3, PS4, XOne, X360. Игры могут получать оценки от критиков и игроков, однако большая часть игр не получает никаких оценок. Нет какой-либо влиятельной связи оценок на продажи, но есть довольно значимая взаимосвяь оценок между собой. Игры продаются на разных рынках. Успешнее всего в Северной Америке и Европе - игроки этих регионов схожи по предпочтениям в жанрах, рейтингах и платформах. Японски"
   ]
  }
 ],
 "metadata": {
  "ExecuteTimeLog": [
   {
    "duration": 1557,
    "start_time": "2021-06-08T14:58:44.960Z"
   },
   {
    "duration": 80,
    "start_time": "2021-06-08T14:58:46.519Z"
   },
   {
    "duration": 15,
    "start_time": "2021-06-08T14:58:46.603Z"
   },
   {
    "duration": 64,
    "start_time": "2021-06-08T14:58:46.621Z"
   },
   {
    "duration": 29,
    "start_time": "2021-06-08T14:58:46.688Z"
   },
   {
    "duration": 16,
    "start_time": "2021-06-08T14:58:46.719Z"
   },
   {
    "duration": 19,
    "start_time": "2021-06-08T14:58:46.755Z"
   },
   {
    "duration": 17,
    "start_time": "2021-06-08T14:58:46.778Z"
   },
   {
    "duration": 31,
    "start_time": "2021-06-08T14:58:46.798Z"
   },
   {
    "duration": 9,
    "start_time": "2021-06-08T14:58:46.855Z"
   },
   {
    "duration": 39,
    "start_time": "2021-06-08T14:58:46.866Z"
   },
   {
    "duration": 7,
    "start_time": "2021-06-08T14:58:46.908Z"
   },
   {
    "duration": 20,
    "start_time": "2021-06-08T14:58:46.918Z"
   },
   {
    "duration": 43,
    "start_time": "2021-06-08T14:58:46.941Z"
   },
   {
    "duration": 7,
    "start_time": "2021-06-08T14:58:46.986Z"
   },
   {
    "duration": 14,
    "start_time": "2021-06-08T14:58:46.996Z"
   },
   {
    "duration": 20,
    "start_time": "2021-06-08T14:58:47.012Z"
   },
   {
    "duration": 48,
    "start_time": "2021-06-08T14:58:47.034Z"
   },
   {
    "duration": 6,
    "start_time": "2021-06-08T14:58:47.084Z"
   },
   {
    "duration": 9,
    "start_time": "2021-06-08T14:58:47.092Z"
   },
   {
    "duration": 19,
    "start_time": "2021-06-08T14:58:47.104Z"
   },
   {
    "duration": 51,
    "start_time": "2021-06-08T14:58:47.125Z"
   },
   {
    "duration": 618,
    "start_time": "2021-06-08T14:58:47.180Z"
   },
   {
    "duration": 1020,
    "start_time": "2021-06-08T14:58:47.800Z"
   },
   {
    "duration": 919,
    "start_time": "2021-06-08T14:58:48.824Z"
   },
   {
    "duration": 15,
    "start_time": "2021-06-08T14:58:49.746Z"
   },
   {
    "duration": 406,
    "start_time": "2021-06-08T14:58:49.765Z"
   },
   {
    "duration": 49,
    "start_time": "2021-06-08T15:01:59.343Z"
   },
   {
    "duration": 605,
    "start_time": "2021-06-08T15:04:49.106Z"
   },
   {
    "duration": 392,
    "start_time": "2021-06-08T15:04:54.216Z"
   },
   {
    "duration": 485,
    "start_time": "2021-06-08T15:05:31.618Z"
   },
   {
    "duration": 412,
    "start_time": "2021-06-08T15:10:08.862Z"
   },
   {
    "duration": 7,
    "start_time": "2021-06-08T15:10:50.164Z"
   },
   {
    "duration": 6,
    "start_time": "2021-06-08T15:11:17.610Z"
   },
   {
    "duration": 8,
    "start_time": "2021-06-08T15:11:30.551Z"
   },
   {
    "duration": 463,
    "start_time": "2021-06-08T15:13:47.770Z"
   },
   {
    "duration": 1520,
    "start_time": "2021-06-08T15:19:01.050Z"
   },
   {
    "duration": 610,
    "start_time": "2021-06-08T15:19:11.498Z"
   },
   {
    "duration": 614,
    "start_time": "2021-06-08T15:19:54.376Z"
   },
   {
    "duration": 613,
    "start_time": "2021-06-08T15:19:59.505Z"
   },
   {
    "duration": 438,
    "start_time": "2021-06-08T15:21:19.203Z"
   },
   {
    "duration": 546,
    "start_time": "2021-06-08T15:21:41.589Z"
   },
   {
    "duration": 709,
    "start_time": "2021-06-08T15:26:05.922Z"
   },
   {
    "duration": 728,
    "start_time": "2021-06-08T15:26:14.900Z"
   },
   {
    "duration": 475,
    "start_time": "2021-06-08T15:28:11.606Z"
   },
   {
    "duration": 319,
    "start_time": "2021-06-08T15:28:15.940Z"
   },
   {
    "duration": 481,
    "start_time": "2021-06-08T15:30:00.854Z"
   },
   {
    "duration": 537,
    "start_time": "2021-06-08T15:30:09.780Z"
   },
   {
    "duration": 491,
    "start_time": "2021-06-08T15:30:16.039Z"
   },
   {
    "duration": 614,
    "start_time": "2021-06-08T15:30:24.718Z"
   },
   {
    "duration": 563,
    "start_time": "2021-06-08T15:30:39.094Z"
   },
   {
    "duration": 490,
    "start_time": "2021-06-08T15:31:38.812Z"
   },
   {
    "duration": 475,
    "start_time": "2021-06-08T15:31:45.318Z"
   },
   {
    "duration": 483,
    "start_time": "2021-06-08T15:31:49.734Z"
   },
   {
    "duration": 589,
    "start_time": "2021-06-08T15:32:13.533Z"
   },
   {
    "duration": 797,
    "start_time": "2021-06-08T15:47:18.351Z"
   },
   {
    "duration": 1132,
    "start_time": "2021-06-08T15:47:52.700Z"
   },
   {
    "duration": 981,
    "start_time": "2021-06-08T15:48:13.087Z"
   },
   {
    "duration": 22,
    "start_time": "2021-06-08T15:50:39.377Z"
   },
   {
    "duration": 9,
    "start_time": "2021-06-08T15:52:34.533Z"
   },
   {
    "duration": 835,
    "start_time": "2021-06-08T15:52:49.264Z"
   },
   {
    "duration": 9,
    "start_time": "2021-06-08T16:02:48.514Z"
   },
   {
    "duration": 782,
    "start_time": "2021-06-08T16:02:53.393Z"
   },
   {
    "duration": 7,
    "start_time": "2021-06-08T16:04:12.951Z"
   },
   {
    "duration": 784,
    "start_time": "2021-06-08T16:04:15.084Z"
   },
   {
    "duration": 8,
    "start_time": "2021-06-08T16:04:34.830Z"
   },
   {
    "duration": 806,
    "start_time": "2021-06-08T16:04:40.155Z"
   },
   {
    "duration": 9,
    "start_time": "2021-06-08T16:04:57.462Z"
   },
   {
    "duration": 984,
    "start_time": "2021-06-08T16:05:05.954Z"
   },
   {
    "duration": 8,
    "start_time": "2021-06-08T16:05:43.291Z"
   },
   {
    "duration": 773,
    "start_time": "2021-06-08T16:05:45.487Z"
   },
   {
    "duration": 36,
    "start_time": "2021-06-08T16:24:34.382Z"
   },
   {
    "duration": 15,
    "start_time": "2021-06-08T16:26:41.226Z"
   },
   {
    "duration": 18,
    "start_time": "2021-06-08T16:27:13.550Z"
   },
   {
    "duration": 19,
    "start_time": "2021-06-08T16:27:26.551Z"
   },
   {
    "duration": 250,
    "start_time": "2021-06-08T16:27:51.446Z"
   },
   {
    "duration": 1332,
    "start_time": "2021-06-08T16:29:43.577Z"
   },
   {
    "duration": 72,
    "start_time": "2021-06-08T16:29:44.912Z"
   },
   {
    "duration": 15,
    "start_time": "2021-06-08T16:29:44.987Z"
   },
   {
    "duration": 63,
    "start_time": "2021-06-08T16:29:45.005Z"
   },
   {
    "duration": 31,
    "start_time": "2021-06-08T16:29:45.072Z"
   },
   {
    "duration": 31,
    "start_time": "2021-06-08T16:29:45.105Z"
   },
   {
    "duration": 35,
    "start_time": "2021-06-08T16:29:45.139Z"
   },
   {
    "duration": 10,
    "start_time": "2021-06-08T16:29:45.180Z"
   },
   {
    "duration": 66,
    "start_time": "2021-06-08T16:29:45.194Z"
   },
   {
    "duration": 11,
    "start_time": "2021-06-08T16:29:45.263Z"
   },
   {
    "duration": 35,
    "start_time": "2021-06-08T16:29:45.276Z"
   },
   {
    "duration": 8,
    "start_time": "2021-06-08T16:29:45.313Z"
   },
   {
    "duration": 5,
    "start_time": "2021-06-08T16:29:45.354Z"
   },
   {
    "duration": 35,
    "start_time": "2021-06-08T16:29:45.362Z"
   },
   {
    "duration": 7,
    "start_time": "2021-06-08T16:29:45.399Z"
   },
   {
    "duration": 12,
    "start_time": "2021-06-08T16:29:45.408Z"
   },
   {
    "duration": 6,
    "start_time": "2021-06-08T16:29:45.454Z"
   },
   {
    "duration": 34,
    "start_time": "2021-06-08T16:29:45.463Z"
   },
   {
    "duration": 6,
    "start_time": "2021-06-08T16:29:45.499Z"
   },
   {
    "duration": 10,
    "start_time": "2021-06-08T16:29:45.508Z"
   },
   {
    "duration": 36,
    "start_time": "2021-06-08T16:29:45.521Z"
   },
   {
    "duration": 39,
    "start_time": "2021-06-08T16:29:45.560Z"
   },
   {
    "duration": 658,
    "start_time": "2021-06-08T16:29:45.604Z"
   },
   {
    "duration": 792,
    "start_time": "2021-06-08T16:29:46.265Z"
   },
   {
    "duration": 737,
    "start_time": "2021-06-08T16:29:47.060Z"
   },
   {
    "duration": 8,
    "start_time": "2021-06-08T16:29:47.800Z"
   },
   {
    "duration": 374,
    "start_time": "2021-06-08T16:29:47.810Z"
   },
   {
    "duration": 34,
    "start_time": "2021-06-08T16:29:48.187Z"
   },
   {
    "duration": 444,
    "start_time": "2021-06-08T16:29:48.223Z"
   },
   {
    "duration": 599,
    "start_time": "2021-06-08T16:29:48.669Z"
   },
   {
    "duration": 849,
    "start_time": "2021-06-08T16:29:49.271Z"
   },
   {
    "duration": 10,
    "start_time": "2021-06-08T16:29:50.123Z"
   },
   {
    "duration": 802,
    "start_time": "2021-06-08T16:29:50.135Z"
   },
   {
    "duration": 27,
    "start_time": "2021-06-08T16:29:50.939Z"
   },
   {
    "duration": 8,
    "start_time": "2021-06-08T16:29:50.969Z"
   },
   {
    "duration": 9,
    "start_time": "2021-06-08T16:31:28.504Z"
   },
   {
    "duration": 12,
    "start_time": "2021-06-08T16:31:32.840Z"
   },
   {
    "duration": 1480,
    "start_time": "2021-06-08T16:32:08.071Z"
   },
   {
    "duration": 419,
    "start_time": "2021-06-08T16:42:41.348Z"
   },
   {
    "duration": 270,
    "start_time": "2021-06-08T16:42:54.319Z"
   },
   {
    "duration": 30,
    "start_time": "2021-06-08T16:43:05.807Z"
   },
   {
    "duration": 33,
    "start_time": "2021-06-08T16:43:27.235Z"
   },
   {
    "duration": 22,
    "start_time": "2021-06-08T16:44:38.541Z"
   },
   {
    "duration": 19,
    "start_time": "2021-06-08T16:47:10.522Z"
   },
   {
    "duration": 17,
    "start_time": "2021-06-08T16:47:26.828Z"
   },
   {
    "duration": 18,
    "start_time": "2021-06-08T16:48:16.633Z"
   },
   {
    "duration": 404,
    "start_time": "2021-06-08T16:50:41.671Z"
   },
   {
    "duration": 394,
    "start_time": "2021-06-08T16:53:40.992Z"
   },
   {
    "duration": 450,
    "start_time": "2021-06-08T16:54:07.421Z"
   },
   {
    "duration": 793,
    "start_time": "2021-06-08T16:54:29.747Z"
   },
   {
    "duration": 437,
    "start_time": "2021-06-08T16:56:56.117Z"
   },
   {
    "duration": 4,
    "start_time": "2021-06-08T16:57:04.399Z"
   },
   {
    "duration": 479,
    "start_time": "2021-06-08T16:57:40.356Z"
   },
   {
    "duration": 720,
    "start_time": "2021-06-08T16:59:26.421Z"
   },
   {
    "duration": 725,
    "start_time": "2021-06-08T17:00:14.636Z"
   },
   {
    "duration": 584,
    "start_time": "2021-06-08T17:00:38.089Z"
   },
   {
    "duration": 581,
    "start_time": "2021-06-08T17:01:27.993Z"
   },
   {
    "duration": 913,
    "start_time": "2021-06-08T17:02:04.324Z"
   },
   {
    "duration": 910,
    "start_time": "2021-06-08T17:02:56.358Z"
   },
   {
    "duration": 1631,
    "start_time": "2021-06-08T17:04:14.240Z"
   },
   {
    "duration": 83,
    "start_time": "2021-06-08T17:05:44.126Z"
   },
   {
    "duration": 95,
    "start_time": "2021-06-08T17:05:53.792Z"
   },
   {
    "duration": 1786,
    "start_time": "2021-06-08T17:06:03.488Z"
   },
   {
    "duration": 94,
    "start_time": "2021-06-08T17:06:05.277Z"
   },
   {
    "duration": 14,
    "start_time": "2021-06-08T17:06:05.375Z"
   },
   {
    "duration": 64,
    "start_time": "2021-06-08T17:06:05.392Z"
   },
   {
    "duration": 30,
    "start_time": "2021-06-08T17:06:05.458Z"
   },
   {
    "duration": 25,
    "start_time": "2021-06-08T17:06:05.490Z"
   },
   {
    "duration": 36,
    "start_time": "2021-06-08T17:06:05.518Z"
   },
   {
    "duration": 9,
    "start_time": "2021-06-08T17:06:05.558Z"
   },
   {
    "duration": 42,
    "start_time": "2021-06-08T17:06:05.570Z"
   },
   {
    "duration": 22,
    "start_time": "2021-06-08T17:06:05.615Z"
   },
   {
    "duration": 56,
    "start_time": "2021-06-08T17:06:05.639Z"
   },
   {
    "duration": 8,
    "start_time": "2021-06-08T17:06:05.697Z"
   },
   {
    "duration": 18,
    "start_time": "2021-06-08T17:06:05.707Z"
   },
   {
    "duration": 45,
    "start_time": "2021-06-08T17:06:05.727Z"
   },
   {
    "duration": 7,
    "start_time": "2021-06-08T17:06:05.774Z"
   },
   {
    "duration": 22,
    "start_time": "2021-06-08T17:06:05.783Z"
   },
   {
    "duration": 21,
    "start_time": "2021-06-08T17:06:05.807Z"
   },
   {
    "duration": 54,
    "start_time": "2021-06-08T17:06:05.831Z"
   },
   {
    "duration": 6,
    "start_time": "2021-06-08T17:06:05.888Z"
   },
   {
    "duration": 23,
    "start_time": "2021-06-08T17:06:05.896Z"
   },
   {
    "duration": 20,
    "start_time": "2021-06-08T17:06:05.921Z"
   },
   {
    "duration": 52,
    "start_time": "2021-06-08T17:06:05.943Z"
   },
   {
    "duration": 638,
    "start_time": "2021-06-08T17:06:06.000Z"
   },
   {
    "duration": 626,
    "start_time": "2021-06-08T17:06:06.640Z"
   },
   {
    "duration": 561,
    "start_time": "2021-06-08T17:06:07.269Z"
   },
   {
    "duration": 8,
    "start_time": "2021-06-08T17:06:07.833Z"
   },
   {
    "duration": 374,
    "start_time": "2021-06-08T17:06:07.854Z"
   },
   {
    "duration": 52,
    "start_time": "2021-06-08T17:06:08.232Z"
   },
   {
    "duration": 448,
    "start_time": "2021-06-08T17:06:08.287Z"
   },
   {
    "duration": 625,
    "start_time": "2021-06-08T17:06:08.738Z"
   },
   {
    "duration": 918,
    "start_time": "2021-06-08T17:06:09.366Z"
   },
   {
    "duration": 11,
    "start_time": "2021-06-08T17:06:10.287Z"
   },
   {
    "duration": 809,
    "start_time": "2021-06-08T17:06:10.301Z"
   },
   {
    "duration": 9,
    "start_time": "2021-06-08T17:06:11.112Z"
   },
   {
    "duration": 36,
    "start_time": "2021-06-08T17:06:11.124Z"
   },
   {
    "duration": 1435,
    "start_time": "2021-06-08T17:06:11.163Z"
   },
   {
    "duration": 19,
    "start_time": "2021-06-08T17:06:12.600Z"
   },
   {
    "duration": 454,
    "start_time": "2021-06-08T17:06:12.622Z"
   },
   {
    "duration": 80,
    "start_time": "2021-06-08T17:06:13.078Z"
   },
   {
    "duration": 672,
    "start_time": "2021-06-08T17:06:27.789Z"
   },
   {
    "duration": 402,
    "start_time": "2021-06-08T17:06:40.025Z"
   },
   {
    "duration": 490,
    "start_time": "2021-06-09T14:49:22.045Z"
   },
   {
    "duration": 1488,
    "start_time": "2021-06-09T14:49:33.885Z"
   },
   {
    "duration": 68,
    "start_time": "2021-06-09T14:49:35.375Z"
   },
   {
    "duration": 15,
    "start_time": "2021-06-09T14:49:35.446Z"
   },
   {
    "duration": 70,
    "start_time": "2021-06-09T14:49:35.464Z"
   },
   {
    "duration": 33,
    "start_time": "2021-06-09T14:49:35.537Z"
   },
   {
    "duration": 36,
    "start_time": "2021-06-09T14:49:35.572Z"
   },
   {
    "duration": 19,
    "start_time": "2021-06-09T14:49:35.611Z"
   },
   {
    "duration": 10,
    "start_time": "2021-06-09T14:49:35.634Z"
   },
   {
    "duration": 61,
    "start_time": "2021-06-09T14:49:35.648Z"
   },
   {
    "duration": 11,
    "start_time": "2021-06-09T14:49:35.711Z"
   },
   {
    "duration": 32,
    "start_time": "2021-06-09T14:49:35.725Z"
   },
   {
    "duration": 6,
    "start_time": "2021-06-09T14:49:35.760Z"
   },
   {
    "duration": 41,
    "start_time": "2021-06-09T14:49:35.769Z"
   },
   {
    "duration": 31,
    "start_time": "2021-06-09T14:49:35.812Z"
   },
   {
    "duration": 6,
    "start_time": "2021-06-09T14:49:35.846Z"
   },
   {
    "duration": 8,
    "start_time": "2021-06-09T14:49:35.855Z"
   },
   {
    "duration": 44,
    "start_time": "2021-06-09T14:49:35.865Z"
   },
   {
    "duration": 36,
    "start_time": "2021-06-09T14:49:35.912Z"
   },
   {
    "duration": 6,
    "start_time": "2021-06-09T14:49:35.951Z"
   },
   {
    "duration": 16,
    "start_time": "2021-06-09T14:49:35.959Z"
   },
   {
    "duration": 36,
    "start_time": "2021-06-09T14:49:35.978Z"
   },
   {
    "duration": 56,
    "start_time": "2021-06-09T14:49:36.017Z"
   },
   {
    "duration": 905,
    "start_time": "2021-06-09T14:49:36.079Z"
   },
   {
    "duration": 871,
    "start_time": "2021-06-09T14:49:36.987Z"
   },
   {
    "duration": 552,
    "start_time": "2021-06-09T14:49:37.860Z"
   },
   {
    "duration": 8,
    "start_time": "2021-06-09T14:49:38.414Z"
   },
   {
    "duration": 413,
    "start_time": "2021-06-09T14:49:38.425Z"
   },
   {
    "duration": 35,
    "start_time": "2021-06-09T14:49:38.840Z"
   },
   {
    "duration": 449,
    "start_time": "2021-06-09T14:49:38.878Z"
   },
   {
    "duration": 633,
    "start_time": "2021-06-09T14:49:39.329Z"
   },
   {
    "duration": 915,
    "start_time": "2021-06-09T14:49:39.965Z"
   },
   {
    "duration": 8,
    "start_time": "2021-06-09T14:49:40.882Z"
   },
   {
    "duration": 1814,
    "start_time": "2021-06-09T14:49:40.892Z"
   },
   {
    "duration": 8,
    "start_time": "2021-06-09T14:49:42.709Z"
   },
   {
    "duration": 14,
    "start_time": "2021-06-09T14:49:42.720Z"
   },
   {
    "duration": 1485,
    "start_time": "2021-06-09T14:49:42.736Z"
   },
   {
    "duration": 22,
    "start_time": "2021-06-09T14:49:44.224Z"
   },
   {
    "duration": 615,
    "start_time": "2021-06-09T14:49:44.249Z"
   },
   {
    "duration": 49,
    "start_time": "2021-06-09T14:49:44.867Z"
   },
   {
    "duration": 411,
    "start_time": "2021-06-09T14:49:44.918Z"
   },
   {
    "duration": 496,
    "start_time": "2021-06-09T14:52:05.963Z"
   },
   {
    "duration": 1304,
    "start_time": "2021-06-09T14:54:16.998Z"
   },
   {
    "duration": 1046,
    "start_time": "2021-06-09T14:59:29.552Z"
   },
   {
    "duration": 26,
    "start_time": "2021-06-09T15:04:02.644Z"
   },
   {
    "duration": 27,
    "start_time": "2021-06-09T15:04:15.494Z"
   },
   {
    "duration": 8647,
    "start_time": "2021-06-09T15:05:18.935Z"
   },
   {
    "duration": 9610,
    "start_time": "2021-06-09T15:05:38.421Z"
   },
   {
    "duration": 27,
    "start_time": "2021-06-09T15:09:51.792Z"
   },
   {
    "duration": 10,
    "start_time": "2021-06-09T15:11:54.067Z"
   },
   {
    "duration": 9,
    "start_time": "2021-06-09T15:12:11.552Z"
   },
   {
    "duration": 8118,
    "start_time": "2021-06-09T15:12:23.961Z"
   },
   {
    "duration": 642,
    "start_time": "2021-06-09T15:14:28.958Z"
   },
   {
    "duration": 584,
    "start_time": "2021-06-09T15:14:44.594Z"
   },
   {
    "duration": 585,
    "start_time": "2021-06-09T15:15:51.598Z"
   },
   {
    "duration": 26,
    "start_time": "2021-06-09T15:15:57.711Z"
   },
   {
    "duration": 379,
    "start_time": "2021-06-09T15:17:06.894Z"
   },
   {
    "duration": 24,
    "start_time": "2021-06-09T15:17:17.957Z"
   },
   {
    "duration": 32,
    "start_time": "2021-06-09T15:25:45.214Z"
   },
   {
    "duration": 34,
    "start_time": "2021-06-09T15:37:44.807Z"
   },
   {
    "duration": 24,
    "start_time": "2021-06-09T15:39:43.566Z"
   },
   {
    "duration": 13,
    "start_time": "2021-06-09T15:46:25.285Z"
   },
   {
    "duration": 246,
    "start_time": "2021-06-09T15:46:39.453Z"
   },
   {
    "duration": 307,
    "start_time": "2021-06-09T15:46:52.648Z"
   },
   {
    "duration": 247,
    "start_time": "2021-06-09T15:47:03.438Z"
   },
   {
    "duration": 366,
    "start_time": "2021-06-09T15:50:22.966Z"
   },
   {
    "duration": 331,
    "start_time": "2021-06-09T15:50:27.505Z"
   },
   {
    "duration": 141,
    "start_time": "2021-06-09T15:51:34.213Z"
   },
   {
    "duration": 327,
    "start_time": "2021-06-09T15:51:43.040Z"
   },
   {
    "duration": 320,
    "start_time": "2021-06-09T15:51:59.013Z"
   },
   {
    "duration": 760,
    "start_time": "2021-06-09T15:52:37.577Z"
   },
   {
    "duration": 733,
    "start_time": "2021-06-09T15:52:48.739Z"
   },
   {
    "duration": 1444,
    "start_time": "2021-06-09T15:53:49.350Z"
   },
   {
    "duration": 980,
    "start_time": "2021-06-09T15:55:03.785Z"
   },
   {
    "duration": 837,
    "start_time": "2021-06-09T16:01:34.714Z"
   },
   {
    "duration": 858,
    "start_time": "2021-06-09T16:02:33.939Z"
   },
   {
    "duration": 1448,
    "start_time": "2021-06-09T16:03:15.265Z"
   },
   {
    "duration": 883,
    "start_time": "2021-06-09T16:06:39.518Z"
   },
   {
    "duration": 35,
    "start_time": "2021-06-09T16:09:33.180Z"
   },
   {
    "duration": 17,
    "start_time": "2021-06-09T16:10:18.160Z"
   },
   {
    "duration": 18,
    "start_time": "2021-06-09T16:17:34.696Z"
   },
   {
    "duration": 853,
    "start_time": "2021-06-09T16:19:17.420Z"
   },
   {
    "duration": 18,
    "start_time": "2021-06-09T16:25:12.817Z"
   },
   {
    "duration": 861,
    "start_time": "2021-06-09T16:30:46.948Z"
   },
   {
    "duration": 4,
    "start_time": "2021-06-09T16:42:59.456Z"
   },
   {
    "duration": 4,
    "start_time": "2021-06-09T16:44:59.195Z"
   },
   {
    "duration": 387,
    "start_time": "2021-06-09T16:49:53.370Z"
   },
   {
    "duration": 6,
    "start_time": "2021-06-09T16:49:59.786Z"
   },
   {
    "duration": 37,
    "start_time": "2021-06-09T16:50:02.016Z"
   },
   {
    "duration": 36,
    "start_time": "2021-06-09T16:50:13.422Z"
   },
   {
    "duration": 9,
    "start_time": "2021-06-09T16:50:20.592Z"
   },
   {
    "duration": 13,
    "start_time": "2021-06-09T16:51:06.621Z"
   },
   {
    "duration": 9,
    "start_time": "2021-06-09T16:51:32.062Z"
   },
   {
    "duration": 5,
    "start_time": "2021-06-09T16:52:05.901Z"
   },
   {
    "duration": 6,
    "start_time": "2021-06-09T16:52:20.401Z"
   },
   {
    "duration": 121,
    "start_time": "2021-06-09T16:53:12.091Z"
   },
   {
    "duration": 6,
    "start_time": "2021-06-09T16:54:09.642Z"
   },
   {
    "duration": 6,
    "start_time": "2021-06-09T16:54:22.081Z"
   },
   {
    "duration": 1295,
    "start_time": "2021-06-10T13:34:33.330Z"
   },
   {
    "duration": 71,
    "start_time": "2021-06-10T13:34:34.628Z"
   },
   {
    "duration": 16,
    "start_time": "2021-06-10T13:34:34.703Z"
   },
   {
    "duration": 69,
    "start_time": "2021-06-10T13:34:34.722Z"
   },
   {
    "duration": 29,
    "start_time": "2021-06-10T13:34:34.794Z"
   },
   {
    "duration": 40,
    "start_time": "2021-06-10T13:34:34.825Z"
   },
   {
    "duration": 19,
    "start_time": "2021-06-10T13:34:34.868Z"
   },
   {
    "duration": 9,
    "start_time": "2021-06-10T13:34:34.893Z"
   },
   {
    "duration": 71,
    "start_time": "2021-06-10T13:34:34.907Z"
   },
   {
    "duration": 9,
    "start_time": "2021-06-10T13:34:34.981Z"
   },
   {
    "duration": 28,
    "start_time": "2021-06-10T13:34:34.993Z"
   },
   {
    "duration": 34,
    "start_time": "2021-06-10T13:34:35.023Z"
   },
   {
    "duration": 7,
    "start_time": "2021-06-10T13:34:35.060Z"
   },
   {
    "duration": 31,
    "start_time": "2021-06-10T13:34:35.069Z"
   },
   {
    "duration": 6,
    "start_time": "2021-06-10T13:34:35.102Z"
   },
   {
    "duration": 8,
    "start_time": "2021-06-10T13:34:35.110Z"
   },
   {
    "duration": 38,
    "start_time": "2021-06-10T13:34:35.121Z"
   },
   {
    "duration": 41,
    "start_time": "2021-06-10T13:34:35.163Z"
   },
   {
    "duration": 7,
    "start_time": "2021-06-10T13:34:35.208Z"
   },
   {
    "duration": 38,
    "start_time": "2021-06-10T13:34:35.218Z"
   },
   {
    "duration": 11,
    "start_time": "2021-06-10T13:34:35.258Z"
   },
   {
    "duration": 35,
    "start_time": "2021-06-10T13:34:35.272Z"
   },
   {
    "duration": 592,
    "start_time": "2021-06-10T13:34:35.313Z"
   },
   {
    "duration": 602,
    "start_time": "2021-06-10T13:34:35.910Z"
   },
   {
    "duration": 512,
    "start_time": "2021-06-10T13:34:36.515Z"
   },
   {
    "duration": 8,
    "start_time": "2021-06-10T13:34:37.029Z"
   },
   {
    "duration": 354,
    "start_time": "2021-06-10T13:34:37.039Z"
   },
   {
    "duration": 32,
    "start_time": "2021-06-10T13:34:37.395Z"
   },
   {
    "duration": 415,
    "start_time": "2021-06-10T13:34:37.429Z"
   },
   {
    "duration": 531,
    "start_time": "2021-06-10T13:34:37.846Z"
   },
   {
    "duration": 799,
    "start_time": "2021-06-10T13:34:38.379Z"
   },
   {
    "duration": 8,
    "start_time": "2021-06-10T13:34:39.180Z"
   },
   {
    "duration": 739,
    "start_time": "2021-06-10T13:34:39.191Z"
   },
   {
    "duration": 9,
    "start_time": "2021-06-10T13:34:39.932Z"
   },
   {
    "duration": 11,
    "start_time": "2021-06-10T13:34:39.955Z"
   },
   {
    "duration": 1365,
    "start_time": "2021-06-10T13:34:39.969Z"
   },
   {
    "duration": 30,
    "start_time": "2021-06-10T13:34:41.337Z"
   },
   {
    "duration": 401,
    "start_time": "2021-06-10T13:34:41.370Z"
   },
   {
    "duration": 394,
    "start_time": "2021-06-10T13:34:41.774Z"
   },
   {
    "duration": 28,
    "start_time": "2021-06-10T13:34:42.171Z"
   },
   {
    "duration": 917,
    "start_time": "2021-06-10T13:34:42.202Z"
   },
   {
    "duration": 36,
    "start_time": "2021-06-10T13:34:43.122Z"
   },
   {
    "duration": 805,
    "start_time": "2021-06-10T13:34:43.161Z"
   },
   {
    "duration": 19,
    "start_time": "2021-06-10T13:34:43.969Z"
   },
   {
    "duration": 797,
    "start_time": "2021-06-10T13:34:43.991Z"
   },
   {
    "duration": 3,
    "start_time": "2021-06-10T13:34:44.791Z"
   },
   {
    "duration": 12,
    "start_time": "2021-06-10T13:34:44.797Z"
   },
   {
    "duration": 14,
    "start_time": "2021-06-10T13:34:44.811Z"
   },
   {
    "duration": 31,
    "start_time": "2021-06-10T13:34:44.827Z"
   },
   {
    "duration": 9,
    "start_time": "2021-06-10T13:34:44.860Z"
   },
   {
    "duration": 11,
    "start_time": "2021-06-10T13:34:44.871Z"
   },
   {
    "duration": 90,
    "start_time": "2021-06-10T13:38:32.429Z"
   },
   {
    "duration": 10,
    "start_time": "2021-06-10T13:38:38.582Z"
   },
   {
    "duration": 6,
    "start_time": "2021-06-10T13:39:17.610Z"
   },
   {
    "duration": 5,
    "start_time": "2021-06-10T13:40:42.811Z"
   },
   {
    "duration": 5,
    "start_time": "2021-06-10T13:40:45.324Z"
   },
   {
    "duration": 1480,
    "start_time": "2021-06-11T09:30:20.887Z"
   },
   {
    "duration": 69,
    "start_time": "2021-06-11T09:30:22.370Z"
   },
   {
    "duration": 23,
    "start_time": "2021-06-11T09:30:22.441Z"
   },
   {
    "duration": 42,
    "start_time": "2021-06-11T09:30:22.466Z"
   },
   {
    "duration": 58,
    "start_time": "2021-06-11T09:30:22.511Z"
   },
   {
    "duration": 14,
    "start_time": "2021-06-11T09:30:22.571Z"
   },
   {
    "duration": 18,
    "start_time": "2021-06-11T09:30:22.588Z"
   },
   {
    "duration": 51,
    "start_time": "2021-06-11T09:30:22.611Z"
   },
   {
    "duration": 31,
    "start_time": "2021-06-11T09:30:22.665Z"
   },
   {
    "duration": 11,
    "start_time": "2021-06-11T09:30:22.698Z"
   },
   {
    "duration": 71,
    "start_time": "2021-06-11T09:30:22.711Z"
   },
   {
    "duration": 7,
    "start_time": "2021-06-11T09:30:22.784Z"
   },
   {
    "duration": 4,
    "start_time": "2021-06-11T09:30:22.794Z"
   },
   {
    "duration": 64,
    "start_time": "2021-06-11T09:30:22.801Z"
   },
   {
    "duration": 7,
    "start_time": "2021-06-11T09:30:22.867Z"
   },
   {
    "duration": 8,
    "start_time": "2021-06-11T09:30:22.876Z"
   },
   {
    "duration": 9,
    "start_time": "2021-06-11T09:30:22.886Z"
   },
   {
    "duration": 68,
    "start_time": "2021-06-11T09:30:22.898Z"
   },
   {
    "duration": 7,
    "start_time": "2021-06-11T09:30:22.968Z"
   },
   {
    "duration": 7,
    "start_time": "2021-06-11T09:30:22.978Z"
   },
   {
    "duration": 9,
    "start_time": "2021-06-11T09:30:22.988Z"
   },
   {
    "duration": 79,
    "start_time": "2021-06-11T09:30:22.999Z"
   },
   {
    "duration": 634,
    "start_time": "2021-06-11T09:30:23.084Z"
   },
   {
    "duration": 629,
    "start_time": "2021-06-11T09:30:23.723Z"
   },
   {
    "duration": 564,
    "start_time": "2021-06-11T09:30:24.361Z"
   },
   {
    "duration": 7,
    "start_time": "2021-06-11T09:30:24.928Z"
   },
   {
    "duration": 391,
    "start_time": "2021-06-11T09:30:24.938Z"
   },
   {
    "duration": 47,
    "start_time": "2021-06-11T09:30:25.332Z"
   },
   {
    "duration": 448,
    "start_time": "2021-06-11T09:30:25.381Z"
   },
   {
    "duration": 613,
    "start_time": "2021-06-11T09:30:25.831Z"
   },
   {
    "duration": 873,
    "start_time": "2021-06-11T09:30:26.446Z"
   },
   {
    "duration": 11,
    "start_time": "2021-06-11T09:30:27.323Z"
   },
   {
    "duration": 838,
    "start_time": "2021-06-11T09:30:27.336Z"
   },
   {
    "duration": 14,
    "start_time": "2021-06-11T09:30:28.177Z"
   },
   {
    "duration": 25,
    "start_time": "2021-06-11T09:30:28.194Z"
   },
   {
    "duration": 2055,
    "start_time": "2021-06-11T09:30:28.223Z"
   },
   {
    "duration": 19,
    "start_time": "2021-06-11T09:30:30.281Z"
   },
   {
    "duration": 452,
    "start_time": "2021-06-11T09:30:30.302Z"
   },
   {
    "duration": 608,
    "start_time": "2021-06-11T09:30:30.762Z"
   },
   {
    "duration": 43,
    "start_time": "2021-06-11T09:30:31.374Z"
   },
   {
    "duration": 1041,
    "start_time": "2021-06-11T09:30:31.420Z"
   },
   {
    "duration": 17,
    "start_time": "2021-06-11T09:30:32.464Z"
   },
   {
    "duration": 927,
    "start_time": "2021-06-11T09:30:32.484Z"
   },
   {
    "duration": 19,
    "start_time": "2021-06-11T09:30:33.413Z"
   },
   {
    "duration": 897,
    "start_time": "2021-06-11T09:30:33.435Z"
   },
   {
    "duration": 3,
    "start_time": "2021-06-11T09:30:34.334Z"
   },
   {
    "duration": 23,
    "start_time": "2021-06-11T09:30:34.340Z"
   },
   {
    "duration": 8,
    "start_time": "2021-06-11T09:30:34.366Z"
   },
   {
    "duration": 11,
    "start_time": "2021-06-11T09:30:34.376Z"
   },
   {
    "duration": 5,
    "start_time": "2021-06-11T09:30:34.391Z"
   },
   {
    "duration": 9,
    "start_time": "2021-06-11T09:30:34.398Z"
   },
   {
    "duration": 12,
    "start_time": "2021-06-11T09:30:34.409Z"
   },
   {
    "duration": 42,
    "start_time": "2021-06-11T09:30:34.423Z"
   },
   {
    "duration": 7,
    "start_time": "2021-06-11T09:30:34.468Z"
   },
   {
    "duration": 10,
    "start_time": "2021-06-11T09:30:34.478Z"
   },
   {
    "duration": 319,
    "start_time": "2021-06-11T11:44:08.824Z"
   },
   {
    "duration": 1523,
    "start_time": "2021-06-11T11:44:19.916Z"
   },
   {
    "duration": 67,
    "start_time": "2021-06-11T11:44:21.442Z"
   },
   {
    "duration": 14,
    "start_time": "2021-06-11T11:44:21.512Z"
   },
   {
    "duration": 42,
    "start_time": "2021-06-11T11:44:21.529Z"
   },
   {
    "duration": 38,
    "start_time": "2021-06-11T11:44:21.574Z"
   },
   {
    "duration": 12,
    "start_time": "2021-06-11T11:44:21.615Z"
   },
   {
    "duration": 22,
    "start_time": "2021-06-11T11:44:21.630Z"
   },
   {
    "duration": 18,
    "start_time": "2021-06-11T11:44:21.655Z"
   },
   {
    "duration": 31,
    "start_time": "2021-06-11T11:44:21.682Z"
   },
   {
    "duration": 13,
    "start_time": "2021-06-11T11:44:21.715Z"
   },
   {
    "duration": 29,
    "start_time": "2021-06-11T11:44:21.731Z"
   },
   {
    "duration": 7,
    "start_time": "2021-06-11T11:44:21.763Z"
   },
   {
    "duration": 9,
    "start_time": "2021-06-11T11:44:21.783Z"
   },
   {
    "duration": 42,
    "start_time": "2021-06-11T11:44:21.795Z"
   },
   {
    "duration": 6,
    "start_time": "2021-06-11T11:44:21.840Z"
   },
   {
    "duration": 10,
    "start_time": "2021-06-11T11:44:21.849Z"
   },
   {
    "duration": 11,
    "start_time": "2021-06-11T11:44:21.862Z"
   },
   {
    "duration": 37,
    "start_time": "2021-06-11T11:44:21.875Z"
   },
   {
    "duration": 6,
    "start_time": "2021-06-11T11:44:21.915Z"
   },
   {
    "duration": 8,
    "start_time": "2021-06-11T11:44:21.923Z"
   },
   {
    "duration": 24,
    "start_time": "2021-06-11T11:44:21.934Z"
   },
   {
    "duration": 59,
    "start_time": "2021-06-11T11:44:21.960Z"
   },
   {
    "duration": 816,
    "start_time": "2021-06-11T11:44:22.024Z"
   },
   {
    "duration": 629,
    "start_time": "2021-06-11T11:44:22.843Z"
   },
   {
    "duration": 548,
    "start_time": "2021-06-11T11:44:23.475Z"
   },
   {
    "duration": 8,
    "start_time": "2021-06-11T11:44:24.026Z"
   },
   {
    "duration": 376,
    "start_time": "2021-06-11T11:44:24.037Z"
   },
   {
    "duration": 41,
    "start_time": "2021-06-11T11:44:24.415Z"
   },
   {
    "duration": 566,
    "start_time": "2021-06-11T11:44:24.458Z"
   },
   {
    "duration": 562,
    "start_time": "2021-06-11T11:44:25.026Z"
   },
   {
    "duration": 1211,
    "start_time": "2021-06-11T11:44:25.590Z"
   },
   {
    "duration": 10,
    "start_time": "2021-06-11T11:44:26.803Z"
   },
   {
    "duration": 1159,
    "start_time": "2021-06-11T11:44:26.816Z"
   },
   {
    "duration": 10,
    "start_time": "2021-06-11T11:44:27.982Z"
   },
   {
    "duration": 12,
    "start_time": "2021-06-11T11:44:27.995Z"
   },
   {
    "duration": 1366,
    "start_time": "2021-06-11T11:44:28.010Z"
   },
   {
    "duration": 15,
    "start_time": "2021-06-11T11:44:29.379Z"
   },
   {
    "duration": 427,
    "start_time": "2021-06-11T11:44:29.396Z"
   },
   {
    "duration": 492,
    "start_time": "2021-06-11T11:44:29.825Z"
   },
   {
    "duration": 31,
    "start_time": "2021-06-11T11:44:30.320Z"
   },
   {
    "duration": 887,
    "start_time": "2021-06-11T11:44:30.354Z"
   },
   {
    "duration": 18,
    "start_time": "2021-06-11T11:44:31.244Z"
   },
   {
    "duration": 870,
    "start_time": "2021-06-11T11:44:31.264Z"
   },
   {
    "duration": 20,
    "start_time": "2021-06-11T11:44:32.137Z"
   },
   {
    "duration": 823,
    "start_time": "2021-06-11T11:44:32.160Z"
   },
   {
    "duration": 3,
    "start_time": "2021-06-11T11:44:32.985Z"
   },
   {
    "duration": 10,
    "start_time": "2021-06-11T11:44:32.991Z"
   },
   {
    "duration": 10,
    "start_time": "2021-06-11T11:44:33.003Z"
   },
   {
    "duration": 6,
    "start_time": "2021-06-11T11:44:33.016Z"
   },
   {
    "duration": 7,
    "start_time": "2021-06-11T11:44:33.024Z"
   },
   {
    "duration": 11,
    "start_time": "2021-06-11T11:44:33.034Z"
   },
   {
    "duration": 9,
    "start_time": "2021-06-11T11:44:33.084Z"
   },
   {
    "duration": 20,
    "start_time": "2021-06-11T11:44:33.096Z"
   },
   {
    "duration": 12,
    "start_time": "2021-06-11T11:44:33.119Z"
   },
   {
    "duration": 9,
    "start_time": "2021-06-11T11:44:33.134Z"
   },
   {
    "duration": 12,
    "start_time": "2021-06-11T11:45:19.895Z"
   },
   {
    "duration": 23,
    "start_time": "2021-06-11T11:45:46.272Z"
   },
   {
    "duration": 39,
    "start_time": "2021-06-11T11:47:05.626Z"
   },
   {
    "duration": 538,
    "start_time": "2021-06-11T11:47:18.899Z"
   },
   {
    "duration": 520,
    "start_time": "2021-06-11T11:47:40.703Z"
   },
   {
    "duration": 1207,
    "start_time": "2021-06-11T11:48:05.607Z"
   },
   {
    "duration": 1103,
    "start_time": "2021-06-11T11:48:16.432Z"
   },
   {
    "duration": 1121,
    "start_time": "2021-06-11T11:50:10.844Z"
   },
   {
    "duration": 35,
    "start_time": "2021-06-11T12:38:28.613Z"
   },
   {
    "duration": 17,
    "start_time": "2021-06-11T12:42:17.704Z"
   },
   {
    "duration": 1422,
    "start_time": "2021-06-11T12:42:40.264Z"
   },
   {
    "duration": 23,
    "start_time": "2021-06-11T12:44:23.092Z"
   },
   {
    "duration": 1296,
    "start_time": "2021-06-11T12:45:18.933Z"
   },
   {
    "duration": 67,
    "start_time": "2021-06-11T12:45:20.231Z"
   },
   {
    "duration": 14,
    "start_time": "2021-06-11T12:45:20.301Z"
   },
   {
    "duration": 41,
    "start_time": "2021-06-11T12:45:20.317Z"
   },
   {
    "duration": 51,
    "start_time": "2021-06-11T12:45:20.361Z"
   },
   {
    "duration": 13,
    "start_time": "2021-06-11T12:45:20.414Z"
   },
   {
    "duration": 20,
    "start_time": "2021-06-11T12:45:20.430Z"
   },
   {
    "duration": 9,
    "start_time": "2021-06-11T12:45:20.483Z"
   },
   {
    "duration": 31,
    "start_time": "2021-06-11T12:45:20.497Z"
   },
   {
    "duration": 12,
    "start_time": "2021-06-11T12:45:20.531Z"
   },
   {
    "duration": 61,
    "start_time": "2021-06-11T12:45:20.545Z"
   },
   {
    "duration": 7,
    "start_time": "2021-06-11T12:45:20.609Z"
   },
   {
    "duration": 6,
    "start_time": "2021-06-11T12:45:20.618Z"
   },
   {
    "duration": 59,
    "start_time": "2021-06-11T12:45:20.626Z"
   },
   {
    "duration": 7,
    "start_time": "2021-06-11T12:45:20.687Z"
   },
   {
    "duration": 10,
    "start_time": "2021-06-11T12:45:20.697Z"
   },
   {
    "duration": 7,
    "start_time": "2021-06-11T12:45:20.709Z"
   },
   {
    "duration": 34,
    "start_time": "2021-06-11T12:45:20.719Z"
   },
   {
    "duration": 31,
    "start_time": "2021-06-11T12:45:20.755Z"
   },
   {
    "duration": 11,
    "start_time": "2021-06-11T12:45:20.788Z"
   },
   {
    "duration": 34,
    "start_time": "2021-06-11T12:45:20.802Z"
   },
   {
    "duration": 53,
    "start_time": "2021-06-11T12:45:20.838Z"
   },
   {
    "duration": 25,
    "start_time": "2021-06-11T12:45:20.894Z"
   },
   {
    "duration": 630,
    "start_time": "2021-06-11T12:45:20.922Z"
   },
   {
    "duration": 607,
    "start_time": "2021-06-11T12:45:21.555Z"
   },
   {
    "duration": 547,
    "start_time": "2021-06-11T12:45:22.164Z"
   },
   {
    "duration": 8,
    "start_time": "2021-06-11T12:45:22.716Z"
   },
   {
    "duration": 371,
    "start_time": "2021-06-11T12:45:22.727Z"
   },
   {
    "duration": 41,
    "start_time": "2021-06-11T12:45:23.100Z"
   },
   {
    "duration": 553,
    "start_time": "2021-06-11T12:45:23.144Z"
   },
   {
    "duration": 534,
    "start_time": "2021-06-11T12:45:23.699Z"
   },
   {
    "duration": 1177,
    "start_time": "2021-06-11T12:45:24.236Z"
   },
   {
    "duration": 8,
    "start_time": "2021-06-11T12:45:25.415Z"
   },
   {
    "duration": 1109,
    "start_time": "2021-06-11T12:45:25.425Z"
   },
   {
    "duration": 10,
    "start_time": "2021-06-11T12:45:26.536Z"
   },
   {
    "duration": 36,
    "start_time": "2021-06-11T12:45:26.548Z"
   },
   {
    "duration": 1329,
    "start_time": "2021-06-11T12:45:26.587Z"
   },
   {
    "duration": 20,
    "start_time": "2021-06-11T12:45:27.919Z"
   },
   {
    "duration": 516,
    "start_time": "2021-06-11T12:45:27.942Z"
   },
   {
    "duration": 409,
    "start_time": "2021-06-11T12:45:28.460Z"
   },
   {
    "duration": 42,
    "start_time": "2021-06-11T12:45:28.871Z"
   },
   {
    "duration": 917,
    "start_time": "2021-06-11T12:45:28.915Z"
   },
   {
    "duration": 19,
    "start_time": "2021-06-11T12:45:29.834Z"
   },
   {
    "duration": 832,
    "start_time": "2021-06-11T12:45:29.855Z"
   },
   {
    "duration": 27,
    "start_time": "2021-06-11T12:45:30.690Z"
   },
   {
    "duration": 831,
    "start_time": "2021-06-11T12:45:30.720Z"
   },
   {
    "duration": 4,
    "start_time": "2021-06-11T12:45:31.553Z"
   },
   {
    "duration": 31,
    "start_time": "2021-06-11T12:45:31.559Z"
   },
   {
    "duration": 30,
    "start_time": "2021-06-11T12:45:31.593Z"
   },
   {
    "duration": 14,
    "start_time": "2021-06-11T12:45:31.626Z"
   },
   {
    "duration": 9,
    "start_time": "2021-06-11T12:45:31.642Z"
   },
   {
    "duration": 11,
    "start_time": "2021-06-11T12:45:31.653Z"
   },
   {
    "duration": 14,
    "start_time": "2021-06-11T12:45:31.666Z"
   },
   {
    "duration": 10,
    "start_time": "2021-06-11T12:45:31.682Z"
   },
   {
    "duration": 22,
    "start_time": "2021-06-11T12:45:31.694Z"
   },
   {
    "duration": 11,
    "start_time": "2021-06-11T12:45:31.719Z"
   },
   {
    "duration": 357,
    "start_time": "2021-06-12T08:20:32.362Z"
   },
   {
    "duration": 1328,
    "start_time": "2021-06-12T08:20:41.547Z"
   },
   {
    "duration": 71,
    "start_time": "2021-06-12T08:20:42.878Z"
   },
   {
    "duration": 16,
    "start_time": "2021-06-12T08:20:42.953Z"
   },
   {
    "duration": 60,
    "start_time": "2021-06-12T08:20:42.972Z"
   },
   {
    "duration": 27,
    "start_time": "2021-06-12T08:20:43.035Z"
   },
   {
    "duration": 38,
    "start_time": "2021-06-12T08:20:43.065Z"
   },
   {
    "duration": 19,
    "start_time": "2021-06-12T08:20:43.105Z"
   },
   {
    "duration": 10,
    "start_time": "2021-06-12T08:20:43.128Z"
   },
   {
    "duration": 30,
    "start_time": "2021-06-12T08:20:43.141Z"
   },
   {
    "duration": 10,
    "start_time": "2021-06-12T08:20:43.201Z"
   },
   {
    "duration": 29,
    "start_time": "2021-06-12T08:20:43.214Z"
   },
   {
    "duration": 7,
    "start_time": "2021-06-12T08:20:43.245Z"
   },
   {
    "duration": 6,
    "start_time": "2021-06-12T08:20:43.254Z"
   },
   {
    "duration": 32,
    "start_time": "2021-06-12T08:20:43.302Z"
   },
   {
    "duration": 6,
    "start_time": "2021-06-12T08:20:43.337Z"
   },
   {
    "duration": 10,
    "start_time": "2021-06-12T08:20:43.346Z"
   },
   {
    "duration": 7,
    "start_time": "2021-06-12T08:20:43.359Z"
   },
   {
    "duration": 61,
    "start_time": "2021-06-12T08:20:43.368Z"
   },
   {
    "duration": 6,
    "start_time": "2021-06-12T08:20:43.432Z"
   },
   {
    "duration": 8,
    "start_time": "2021-06-12T08:20:43.440Z"
   },
   {
    "duration": 54,
    "start_time": "2021-06-12T08:20:43.450Z"
   },
   {
    "duration": 44,
    "start_time": "2021-06-12T08:20:43.506Z"
   },
   {
    "duration": 24,
    "start_time": "2021-06-12T08:20:43.556Z"
   },
   {
    "duration": 601,
    "start_time": "2021-06-12T08:20:43.601Z"
   },
   {
    "duration": 600,
    "start_time": "2021-06-12T08:20:44.205Z"
   },
   {
    "duration": 551,
    "start_time": "2021-06-12T08:20:44.808Z"
   },
   {
    "duration": 9,
    "start_time": "2021-06-12T08:20:45.361Z"
   },
   {
    "duration": 378,
    "start_time": "2021-06-12T08:20:45.372Z"
   },
   {
    "duration": 56,
    "start_time": "2021-06-12T08:20:45.753Z"
   },
   {
    "duration": 543,
    "start_time": "2021-06-12T08:20:45.812Z"
   },
   {
    "duration": 533,
    "start_time": "2021-06-12T08:20:46.357Z"
   },
   {
    "duration": 1199,
    "start_time": "2021-06-12T08:20:46.893Z"
   },
   {
    "duration": 12,
    "start_time": "2021-06-12T08:20:48.094Z"
   },
   {
    "duration": 1225,
    "start_time": "2021-06-12T08:20:48.109Z"
   },
   {
    "duration": 9,
    "start_time": "2021-06-12T08:20:49.337Z"
   },
   {
    "duration": 19,
    "start_time": "2021-06-12T08:20:49.349Z"
   },
   {
    "duration": 1323,
    "start_time": "2021-06-12T08:20:49.370Z"
   },
   {
    "duration": 32,
    "start_time": "2021-06-12T08:20:50.696Z"
   },
   {
    "duration": 462,
    "start_time": "2021-06-12T08:20:50.730Z"
   },
   {
    "duration": 454,
    "start_time": "2021-06-12T08:20:51.195Z"
   },
   {
    "duration": 32,
    "start_time": "2021-06-12T08:20:51.652Z"
   },
   {
    "duration": 1016,
    "start_time": "2021-06-12T08:20:51.687Z"
   },
   {
    "duration": 22,
    "start_time": "2021-06-12T08:20:52.707Z"
   },
   {
    "duration": 880,
    "start_time": "2021-06-12T08:20:52.732Z"
   },
   {
    "duration": 20,
    "start_time": "2021-06-12T08:20:53.615Z"
   },
   {
    "duration": 835,
    "start_time": "2021-06-12T08:20:53.637Z"
   },
   {
    "duration": 4,
    "start_time": "2021-06-12T08:20:54.475Z"
   },
   {
    "duration": 22,
    "start_time": "2021-06-12T08:20:54.481Z"
   },
   {
    "duration": 9,
    "start_time": "2021-06-12T08:20:54.505Z"
   },
   {
    "duration": 5,
    "start_time": "2021-06-12T08:20:54.517Z"
   },
   {
    "duration": 7,
    "start_time": "2021-06-12T08:20:54.525Z"
   },
   {
    "duration": 11,
    "start_time": "2021-06-12T08:20:54.535Z"
   },
   {
    "duration": 12,
    "start_time": "2021-06-12T08:20:54.548Z"
   },
   {
    "duration": 43,
    "start_time": "2021-06-12T08:20:54.563Z"
   },
   {
    "duration": 15,
    "start_time": "2021-06-12T08:20:54.608Z"
   },
   {
    "duration": 538,
    "start_time": "2021-06-12T08:20:54.625Z"
   },
   {
    "duration": 393,
    "start_time": "2021-06-12T08:21:06.912Z"
   },
   {
    "duration": 6,
    "start_time": "2021-06-12T08:21:14.427Z"
   }
  ],
  "kernelspec": {
   "display_name": "Python 3",
   "language": "python",
   "name": "python3"
  },
  "language_info": {
   "codemirror_mode": {
    "name": "ipython",
    "version": 3
   },
   "file_extension": ".py",
   "mimetype": "text/x-python",
   "name": "python",
   "nbconvert_exporter": "python",
   "pygments_lexer": "ipython3",
   "version": "3.8.3"
  },
  "toc": {
   "base_numbering": 1,
   "nav_menu": {},
   "number_sections": true,
   "sideBar": true,
   "skip_h1_title": true,
   "title_cell": "Table of Contents",
   "title_sidebar": "Contents",
   "toc_cell": false,
   "toc_position": {},
   "toc_section_display": true,
   "toc_window_display": false
  }
 },
 "nbformat": 4,
 "nbformat_minor": 2
}
