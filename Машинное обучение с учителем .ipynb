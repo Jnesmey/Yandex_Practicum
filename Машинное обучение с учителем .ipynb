{
 "cells": [
  {
   "cell_type": "markdown",
   "metadata": {
    "toc": true
   },
   "source": [
    "<h1>Содержание<span class=\"tocSkip\"></span></h1>\n",
    "<div class=\"toc\"><ul class=\"toc-item\"><li><span><a href=\"#Подготовка-данных\" data-toc-modified-id=\"Подготовка-данных-1\"><span class=\"toc-item-num\">1&nbsp;&nbsp;</span>Подготовка данных</a></span></li><li><span><a href=\"#Исследование-задачи\" data-toc-modified-id=\"Исследование-задачи-2\"><span class=\"toc-item-num\">2&nbsp;&nbsp;</span>Исследование задачи</a></span></li><li><span><a href=\"#Борьба-с-дисбалансом\" data-toc-modified-id=\"Борьба-с-дисбалансом-3\"><span class=\"toc-item-num\">3&nbsp;&nbsp;</span>Борьба с дисбалансом</a></span></li><li><span><a href=\"#Тестирование-модели\" data-toc-modified-id=\"Тестирование-модели-4\"><span class=\"toc-item-num\">4&nbsp;&nbsp;</span>Тестирование модели</a></span></li><li><span><a href=\"#Чек-лист-готовности-проекта\" data-toc-modified-id=\"Чек-лист-готовности-проекта-5\"><span class=\"toc-item-num\">5&nbsp;&nbsp;</span>Чек-лист готовности проекта</a></span></li></ul></div>"
   ]
  },
  {
   "cell_type": "markdown",
   "metadata": {},
   "source": [
    "# Отток клиентов"
   ]
  },
  {
   "cell_type": "markdown",
   "metadata": {},
   "source": [
    "Из «Бета-Банка» стали уходить клиенты. Каждый месяц. Немного, но заметно. Банковские маркетологи посчитали: сохранять текущих клиентов дешевле, чем привлекать новых.\n",
    "\n",
    "Нужно спрогнозировать, уйдёт клиент из банка в ближайшее время или нет. Вам предоставлены исторические данные о поведении клиентов и расторжении договоров с банком. \n",
    "\n",
    "Постройте модель с предельно большим значением *F1*-меры. Чтобы сдать проект успешно, нужно довести метрику до 0.59. Проверьте *F1*-меру на тестовой выборке самостоятельно.\n",
    "\n",
    "Дополнительно измеряйте *AUC-ROC*, сравнивайте её значение с *F1*-мерой.\n",
    "\n",
    "Источник данных: [https://www.kaggle.com/barelydedicated/bank-customer-churn-modeling](https://www.kaggle.com/barelydedicated/bank-customer-churn-modeling)"
   ]
  },
  {
   "cell_type": "markdown",
   "metadata": {},
   "source": [
    "## Подготовка данных"
   ]
  },
  {
   "cell_type": "markdown",
   "metadata": {},
   "source": [
    "Загрузите и подготовьте данные. Поясните порядок действий.\n",
    "Исследуйте баланс классов, обучите модель без учёта дисбаланса. Кратко опишите выводы.\n",
    "Улучшите качество модели, учитывая дисбаланс классов. Обучите разные модели и найдите лучшую. Кратко опишите выводы.\n",
    "Проведите финальное тестирование."
   ]
  },
  {
   "cell_type": "code",
   "execution_count": 1,
   "metadata": {},
   "outputs": [],
   "source": [
    "# Импортируем все необходимое\n",
    "\n",
    "import pandas as pd\n",
    "from sklearn.preprocessing import StandardScaler \n",
    "from sklearn.model_selection import train_test_split, GridSearchCV\n",
    "from sklearn.tree import DecisionTreeClassifier\n",
    "from sklearn.linear_model import LogisticRegression\n",
    "from sklearn.ensemble import RandomForestClassifier\n",
    "from sklearn.metrics import accuracy_score, f1_score\n",
    "from sklearn.metrics import roc_auc_score \n",
    "from sklearn.utils import shuffle"
   ]
  },
  {
   "cell_type": "code",
   "execution_count": 2,
   "metadata": {},
   "outputs": [
    {
     "data": {
      "text/html": [
       "<div>\n",
       "<style scoped>\n",
       "    .dataframe tbody tr th:only-of-type {\n",
       "        vertical-align: middle;\n",
       "    }\n",
       "\n",
       "    .dataframe tbody tr th {\n",
       "        vertical-align: top;\n",
       "    }\n",
       "\n",
       "    .dataframe thead th {\n",
       "        text-align: right;\n",
       "    }\n",
       "</style>\n",
       "<table border=\"1\" class=\"dataframe\">\n",
       "  <thead>\n",
       "    <tr style=\"text-align: right;\">\n",
       "      <th></th>\n",
       "      <th>RowNumber</th>\n",
       "      <th>CustomerId</th>\n",
       "      <th>Surname</th>\n",
       "      <th>CreditScore</th>\n",
       "      <th>Geography</th>\n",
       "      <th>Gender</th>\n",
       "      <th>Age</th>\n",
       "      <th>Tenure</th>\n",
       "      <th>Balance</th>\n",
       "      <th>NumOfProducts</th>\n",
       "      <th>HasCrCard</th>\n",
       "      <th>IsActiveMember</th>\n",
       "      <th>EstimatedSalary</th>\n",
       "      <th>Exited</th>\n",
       "    </tr>\n",
       "  </thead>\n",
       "  <tbody>\n",
       "    <tr>\n",
       "      <td>0</td>\n",
       "      <td>1</td>\n",
       "      <td>15634602</td>\n",
       "      <td>Hargrave</td>\n",
       "      <td>619</td>\n",
       "      <td>France</td>\n",
       "      <td>Female</td>\n",
       "      <td>42</td>\n",
       "      <td>2.0</td>\n",
       "      <td>0.00</td>\n",
       "      <td>1</td>\n",
       "      <td>1</td>\n",
       "      <td>1</td>\n",
       "      <td>101348.88</td>\n",
       "      <td>1</td>\n",
       "    </tr>\n",
       "    <tr>\n",
       "      <td>1</td>\n",
       "      <td>2</td>\n",
       "      <td>15647311</td>\n",
       "      <td>Hill</td>\n",
       "      <td>608</td>\n",
       "      <td>Spain</td>\n",
       "      <td>Female</td>\n",
       "      <td>41</td>\n",
       "      <td>1.0</td>\n",
       "      <td>83807.86</td>\n",
       "      <td>1</td>\n",
       "      <td>0</td>\n",
       "      <td>1</td>\n",
       "      <td>112542.58</td>\n",
       "      <td>0</td>\n",
       "    </tr>\n",
       "    <tr>\n",
       "      <td>2</td>\n",
       "      <td>3</td>\n",
       "      <td>15619304</td>\n",
       "      <td>Onio</td>\n",
       "      <td>502</td>\n",
       "      <td>France</td>\n",
       "      <td>Female</td>\n",
       "      <td>42</td>\n",
       "      <td>8.0</td>\n",
       "      <td>159660.80</td>\n",
       "      <td>3</td>\n",
       "      <td>1</td>\n",
       "      <td>0</td>\n",
       "      <td>113931.57</td>\n",
       "      <td>1</td>\n",
       "    </tr>\n",
       "    <tr>\n",
       "      <td>3</td>\n",
       "      <td>4</td>\n",
       "      <td>15701354</td>\n",
       "      <td>Boni</td>\n",
       "      <td>699</td>\n",
       "      <td>France</td>\n",
       "      <td>Female</td>\n",
       "      <td>39</td>\n",
       "      <td>1.0</td>\n",
       "      <td>0.00</td>\n",
       "      <td>2</td>\n",
       "      <td>0</td>\n",
       "      <td>0</td>\n",
       "      <td>93826.63</td>\n",
       "      <td>0</td>\n",
       "    </tr>\n",
       "    <tr>\n",
       "      <td>4</td>\n",
       "      <td>5</td>\n",
       "      <td>15737888</td>\n",
       "      <td>Mitchell</td>\n",
       "      <td>850</td>\n",
       "      <td>Spain</td>\n",
       "      <td>Female</td>\n",
       "      <td>43</td>\n",
       "      <td>2.0</td>\n",
       "      <td>125510.82</td>\n",
       "      <td>1</td>\n",
       "      <td>1</td>\n",
       "      <td>1</td>\n",
       "      <td>79084.10</td>\n",
       "      <td>0</td>\n",
       "    </tr>\n",
       "  </tbody>\n",
       "</table>\n",
       "</div>"
      ],
      "text/plain": [
       "   RowNumber  CustomerId   Surname  CreditScore Geography  Gender  Age  \\\n",
       "0          1    15634602  Hargrave          619    France  Female   42   \n",
       "1          2    15647311      Hill          608     Spain  Female   41   \n",
       "2          3    15619304      Onio          502    France  Female   42   \n",
       "3          4    15701354      Boni          699    France  Female   39   \n",
       "4          5    15737888  Mitchell          850     Spain  Female   43   \n",
       "\n",
       "   Tenure    Balance  NumOfProducts  HasCrCard  IsActiveMember  \\\n",
       "0     2.0       0.00              1          1               1   \n",
       "1     1.0   83807.86              1          0               1   \n",
       "2     8.0  159660.80              3          1               0   \n",
       "3     1.0       0.00              2          0               0   \n",
       "4     2.0  125510.82              1          1               1   \n",
       "\n",
       "   EstimatedSalary  Exited  \n",
       "0        101348.88       1  \n",
       "1        112542.58       0  \n",
       "2        113931.57       1  \n",
       "3         93826.63       0  \n",
       "4         79084.10       0  "
      ]
     },
     "execution_count": 2,
     "metadata": {},
     "output_type": "execute_result"
    }
   ],
   "source": [
    "# Создаем исходный датафрейм\n",
    "\n",
    "data = pd.read_csv('/datasets/Churn.csv')\n",
    "data.head()"
   ]
  },
  {
   "cell_type": "code",
   "execution_count": 3,
   "metadata": {},
   "outputs": [
    {
     "name": "stdout",
     "output_type": "stream",
     "text": [
      "<class 'pandas.core.frame.DataFrame'>\n",
      "RangeIndex: 10000 entries, 0 to 9999\n",
      "Data columns (total 14 columns):\n",
      "RowNumber          10000 non-null int64\n",
      "CustomerId         10000 non-null int64\n",
      "Surname            10000 non-null object\n",
      "CreditScore        10000 non-null int64\n",
      "Geography          10000 non-null object\n",
      "Gender             10000 non-null object\n",
      "Age                10000 non-null int64\n",
      "Tenure             9091 non-null float64\n",
      "Balance            10000 non-null float64\n",
      "NumOfProducts      10000 non-null int64\n",
      "HasCrCard          10000 non-null int64\n",
      "IsActiveMember     10000 non-null int64\n",
      "EstimatedSalary    10000 non-null float64\n",
      "Exited             10000 non-null int64\n",
      "dtypes: float64(3), int64(8), object(3)\n",
      "memory usage: 1.1+ MB\n"
     ]
    }
   ],
   "source": [
    "# Посмотрим на информацию о датасете\n",
    "data.info()\n",
    "# 14 столбцов и 10000 строк"
   ]
  },
  {
   "cell_type": "code",
   "execution_count": 4,
   "metadata": {},
   "outputs": [
    {
     "data": {
      "text/html": [
       "<div>\n",
       "<style scoped>\n",
       "    .dataframe tbody tr th:only-of-type {\n",
       "        vertical-align: middle;\n",
       "    }\n",
       "\n",
       "    .dataframe tbody tr th {\n",
       "        vertical-align: top;\n",
       "    }\n",
       "\n",
       "    .dataframe thead th {\n",
       "        text-align: right;\n",
       "    }\n",
       "</style>\n",
       "<table border=\"1\" class=\"dataframe\">\n",
       "  <thead>\n",
       "    <tr style=\"text-align: right;\">\n",
       "      <th></th>\n",
       "      <th>RowNumber</th>\n",
       "      <th>CustomerId</th>\n",
       "      <th>CreditScore</th>\n",
       "      <th>Age</th>\n",
       "      <th>Tenure</th>\n",
       "      <th>Balance</th>\n",
       "      <th>NumOfProducts</th>\n",
       "      <th>HasCrCard</th>\n",
       "      <th>IsActiveMember</th>\n",
       "      <th>EstimatedSalary</th>\n",
       "      <th>Exited</th>\n",
       "    </tr>\n",
       "  </thead>\n",
       "  <tbody>\n",
       "    <tr>\n",
       "      <td>count</td>\n",
       "      <td>10000.00000</td>\n",
       "      <td>1.000000e+04</td>\n",
       "      <td>10000.000000</td>\n",
       "      <td>10000.000000</td>\n",
       "      <td>9091.000000</td>\n",
       "      <td>10000.000000</td>\n",
       "      <td>10000.000000</td>\n",
       "      <td>10000.00000</td>\n",
       "      <td>10000.000000</td>\n",
       "      <td>10000.000000</td>\n",
       "      <td>10000.000000</td>\n",
       "    </tr>\n",
       "    <tr>\n",
       "      <td>mean</td>\n",
       "      <td>5000.50000</td>\n",
       "      <td>1.569094e+07</td>\n",
       "      <td>650.528800</td>\n",
       "      <td>38.921800</td>\n",
       "      <td>4.997690</td>\n",
       "      <td>76485.889288</td>\n",
       "      <td>1.530200</td>\n",
       "      <td>0.70550</td>\n",
       "      <td>0.515100</td>\n",
       "      <td>100090.239881</td>\n",
       "      <td>0.203700</td>\n",
       "    </tr>\n",
       "    <tr>\n",
       "      <td>std</td>\n",
       "      <td>2886.89568</td>\n",
       "      <td>7.193619e+04</td>\n",
       "      <td>96.653299</td>\n",
       "      <td>10.487806</td>\n",
       "      <td>2.894723</td>\n",
       "      <td>62397.405202</td>\n",
       "      <td>0.581654</td>\n",
       "      <td>0.45584</td>\n",
       "      <td>0.499797</td>\n",
       "      <td>57510.492818</td>\n",
       "      <td>0.402769</td>\n",
       "    </tr>\n",
       "    <tr>\n",
       "      <td>min</td>\n",
       "      <td>1.00000</td>\n",
       "      <td>1.556570e+07</td>\n",
       "      <td>350.000000</td>\n",
       "      <td>18.000000</td>\n",
       "      <td>0.000000</td>\n",
       "      <td>0.000000</td>\n",
       "      <td>1.000000</td>\n",
       "      <td>0.00000</td>\n",
       "      <td>0.000000</td>\n",
       "      <td>11.580000</td>\n",
       "      <td>0.000000</td>\n",
       "    </tr>\n",
       "    <tr>\n",
       "      <td>25%</td>\n",
       "      <td>2500.75000</td>\n",
       "      <td>1.562853e+07</td>\n",
       "      <td>584.000000</td>\n",
       "      <td>32.000000</td>\n",
       "      <td>2.000000</td>\n",
       "      <td>0.000000</td>\n",
       "      <td>1.000000</td>\n",
       "      <td>0.00000</td>\n",
       "      <td>0.000000</td>\n",
       "      <td>51002.110000</td>\n",
       "      <td>0.000000</td>\n",
       "    </tr>\n",
       "    <tr>\n",
       "      <td>50%</td>\n",
       "      <td>5000.50000</td>\n",
       "      <td>1.569074e+07</td>\n",
       "      <td>652.000000</td>\n",
       "      <td>37.000000</td>\n",
       "      <td>5.000000</td>\n",
       "      <td>97198.540000</td>\n",
       "      <td>1.000000</td>\n",
       "      <td>1.00000</td>\n",
       "      <td>1.000000</td>\n",
       "      <td>100193.915000</td>\n",
       "      <td>0.000000</td>\n",
       "    </tr>\n",
       "    <tr>\n",
       "      <td>75%</td>\n",
       "      <td>7500.25000</td>\n",
       "      <td>1.575323e+07</td>\n",
       "      <td>718.000000</td>\n",
       "      <td>44.000000</td>\n",
       "      <td>7.000000</td>\n",
       "      <td>127644.240000</td>\n",
       "      <td>2.000000</td>\n",
       "      <td>1.00000</td>\n",
       "      <td>1.000000</td>\n",
       "      <td>149388.247500</td>\n",
       "      <td>0.000000</td>\n",
       "    </tr>\n",
       "    <tr>\n",
       "      <td>max</td>\n",
       "      <td>10000.00000</td>\n",
       "      <td>1.581569e+07</td>\n",
       "      <td>850.000000</td>\n",
       "      <td>92.000000</td>\n",
       "      <td>10.000000</td>\n",
       "      <td>250898.090000</td>\n",
       "      <td>4.000000</td>\n",
       "      <td>1.00000</td>\n",
       "      <td>1.000000</td>\n",
       "      <td>199992.480000</td>\n",
       "      <td>1.000000</td>\n",
       "    </tr>\n",
       "  </tbody>\n",
       "</table>\n",
       "</div>"
      ],
      "text/plain": [
       "         RowNumber    CustomerId   CreditScore           Age       Tenure  \\\n",
       "count  10000.00000  1.000000e+04  10000.000000  10000.000000  9091.000000   \n",
       "mean    5000.50000  1.569094e+07    650.528800     38.921800     4.997690   \n",
       "std     2886.89568  7.193619e+04     96.653299     10.487806     2.894723   \n",
       "min        1.00000  1.556570e+07    350.000000     18.000000     0.000000   \n",
       "25%     2500.75000  1.562853e+07    584.000000     32.000000     2.000000   \n",
       "50%     5000.50000  1.569074e+07    652.000000     37.000000     5.000000   \n",
       "75%     7500.25000  1.575323e+07    718.000000     44.000000     7.000000   \n",
       "max    10000.00000  1.581569e+07    850.000000     92.000000    10.000000   \n",
       "\n",
       "             Balance  NumOfProducts    HasCrCard  IsActiveMember  \\\n",
       "count   10000.000000   10000.000000  10000.00000    10000.000000   \n",
       "mean    76485.889288       1.530200      0.70550        0.515100   \n",
       "std     62397.405202       0.581654      0.45584        0.499797   \n",
       "min         0.000000       1.000000      0.00000        0.000000   \n",
       "25%         0.000000       1.000000      0.00000        0.000000   \n",
       "50%     97198.540000       1.000000      1.00000        1.000000   \n",
       "75%    127644.240000       2.000000      1.00000        1.000000   \n",
       "max    250898.090000       4.000000      1.00000        1.000000   \n",
       "\n",
       "       EstimatedSalary        Exited  \n",
       "count     10000.000000  10000.000000  \n",
       "mean     100090.239881      0.203700  \n",
       "std       57510.492818      0.402769  \n",
       "min          11.580000      0.000000  \n",
       "25%       51002.110000      0.000000  \n",
       "50%      100193.915000      0.000000  \n",
       "75%      149388.247500      0.000000  \n",
       "max      199992.480000      1.000000  "
      ]
     },
     "execution_count": 4,
     "metadata": {},
     "output_type": "execute_result"
    }
   ],
   "source": [
    "# Все числовые столбцы выглядят адекватно, выбросов похоже нет\n",
    "data.describe()"
   ]
  },
  {
   "cell_type": "markdown",
   "metadata": {},
   "source": [
    "Признаки:\n",
    "<ol>RowNumber — индекс строки в данных</ol>\n",
    "<ol>CustomerId — уникальный идентификатор клиента</ol>\n",
    "<ol>Surname — фамилия</ol>\n",
    "<ol>CreditScore — кредитный рейтинг</ol>\n",
    "<ol>Geography — страна проживания</ol>\n",
    "<ol>Gender — пол</ol>\n",
    "<ol>Age — возраст</ol>\n",
    "<ol>Tenure — сколько лет человек является клиентом банка</ol>\n",
    "<ol>Balance — баланс на счёте</ol>\n",
    "<ol>NumOfProducts — количество продуктов банка, используемых клиентом</ol>\n",
    "<ol>HasCrCard — наличие кредитной карты</ol>\n",
    "<ol>IsActiveMember — активность клиента</ol>\n",
    "<ol>EstimatedSalary — предполагаемая зарплата</ol>\n",
    "<ol>Exited — факт ухода клиента</ol>"
   ]
  },
  {
   "cell_type": "code",
   "execution_count": 5,
   "metadata": {},
   "outputs": [],
   "source": [
    "# В данных имеются пропуски по столбцу Tenure - сколько лет человек является клиентом банка\n",
    "data['Tenure'].isnull().sum()\n",
    "# 909 строк - удалим их, что бы они не мешали моделям. Оставшихся строк хватит для моделей\n",
    "data = data.drop(data[data['Tenure'].isnull()].index)"
   ]
  },
  {
   "cell_type": "code",
   "execution_count": 6,
   "metadata": {},
   "outputs": [
    {
     "data": {
      "text/plain": [
       "0.2039379606204001"
      ]
     },
     "execution_count": 6,
     "metadata": {},
     "output_type": "execute_result"
    }
   ],
   "source": [
    "# Проверим на дисбаланс классов\n",
    "sum(data[\"Exited\"]/len(data))\n",
    "# Положительных значений всего 20%"
   ]
  },
  {
   "cell_type": "code",
   "execution_count": 7,
   "metadata": {},
   "outputs": [],
   "source": [
    "# Удалим лишние столбцы, которые не пригодятся для модели\n",
    "data.drop([\"RowNumber\", \"CustomerId\", \"Surname\"], axis=1, inplace=True)"
   ]
  },
  {
   "cell_type": "code",
   "execution_count": 8,
   "metadata": {},
   "outputs": [],
   "source": [
    "# Применим технику OHE для столбцов с гендером и страной клиента\n",
    "data = pd.get_dummies(data, drop_first=True)"
   ]
  },
  {
   "cell_type": "code",
   "execution_count": 9,
   "metadata": {},
   "outputs": [],
   "source": [
    "# разделяем тестовые данные на признаки и результативную переменную\n",
    "features = data.drop(['Exited'], axis=1)\n",
    "target = data['Exited']"
   ]
  },
  {
   "cell_type": "code",
   "execution_count": 10,
   "metadata": {},
   "outputs": [],
   "source": [
    "# Разделим выборки на тестовую, обучающую и валидационную\n",
    "features_train, features_1, target_train, target_1 = train_test_split(features, target, \n",
    "                                                                              test_size=0.25, \n",
    "                                                                              random_state=42)"
   ]
  },
  {
   "cell_type": "code",
   "execution_count": 11,
   "metadata": {},
   "outputs": [],
   "source": [
    "features_valid, features_test, target_valid, target_test = train_test_split(features_1, target_1, \n",
    "                                                                              test_size=0.5, \n",
    "                                                                              random_state=42)"
   ]
  },
  {
   "cell_type": "code",
   "execution_count": 12,
   "metadata": {},
   "outputs": [
    {
     "data": {
      "text/plain": [
       "((6818, 11), (1136, 11), (1137, 11))"
      ]
     },
     "execution_count": 12,
     "metadata": {},
     "output_type": "execute_result"
    }
   ],
   "source": [
    "# Проверим разделение на адекватность\n",
    "features_train.shape, features_valid.shape, features_test.shape"
   ]
  },
  {
   "cell_type": "code",
   "execution_count": 13,
   "metadata": {},
   "outputs": [
    {
     "data": {
      "text/html": [
       "<div>\n",
       "<style scoped>\n",
       "    .dataframe tbody tr th:only-of-type {\n",
       "        vertical-align: middle;\n",
       "    }\n",
       "\n",
       "    .dataframe tbody tr th {\n",
       "        vertical-align: top;\n",
       "    }\n",
       "\n",
       "    .dataframe thead th {\n",
       "        text-align: right;\n",
       "    }\n",
       "</style>\n",
       "<table border=\"1\" class=\"dataframe\">\n",
       "  <thead>\n",
       "    <tr style=\"text-align: right;\">\n",
       "      <th></th>\n",
       "      <th>CreditScore</th>\n",
       "      <th>Age</th>\n",
       "      <th>Tenure</th>\n",
       "      <th>Balance</th>\n",
       "      <th>NumOfProducts</th>\n",
       "      <th>HasCrCard</th>\n",
       "      <th>IsActiveMember</th>\n",
       "      <th>EstimatedSalary</th>\n",
       "      <th>Geography_Germany</th>\n",
       "      <th>Geography_Spain</th>\n",
       "      <th>Gender_Male</th>\n",
       "    </tr>\n",
       "  </thead>\n",
       "  <tbody>\n",
       "    <tr>\n",
       "      <td>7749</td>\n",
       "      <td>785</td>\n",
       "      <td>38</td>\n",
       "      <td>1.0</td>\n",
       "      <td>0.00</td>\n",
       "      <td>1</td>\n",
       "      <td>1</td>\n",
       "      <td>0</td>\n",
       "      <td>134964.85</td>\n",
       "      <td>0</td>\n",
       "      <td>0</td>\n",
       "      <td>0</td>\n",
       "    </tr>\n",
       "    <tr>\n",
       "      <td>3308</td>\n",
       "      <td>813</td>\n",
       "      <td>62</td>\n",
       "      <td>10.0</td>\n",
       "      <td>64667.95</td>\n",
       "      <td>2</td>\n",
       "      <td>0</td>\n",
       "      <td>1</td>\n",
       "      <td>140454.14</td>\n",
       "      <td>0</td>\n",
       "      <td>0</td>\n",
       "      <td>0</td>\n",
       "    </tr>\n",
       "    <tr>\n",
       "      <td>3406</td>\n",
       "      <td>632</td>\n",
       "      <td>29</td>\n",
       "      <td>7.0</td>\n",
       "      <td>80922.75</td>\n",
       "      <td>1</td>\n",
       "      <td>1</td>\n",
       "      <td>0</td>\n",
       "      <td>7820.78</td>\n",
       "      <td>0</td>\n",
       "      <td>1</td>\n",
       "      <td>0</td>\n",
       "    </tr>\n",
       "    <tr>\n",
       "      <td>1364</td>\n",
       "      <td>850</td>\n",
       "      <td>39</td>\n",
       "      <td>3.0</td>\n",
       "      <td>124548.99</td>\n",
       "      <td>2</td>\n",
       "      <td>1</td>\n",
       "      <td>1</td>\n",
       "      <td>120380.12</td>\n",
       "      <td>1</td>\n",
       "      <td>0</td>\n",
       "      <td>1</td>\n",
       "    </tr>\n",
       "    <tr>\n",
       "      <td>9929</td>\n",
       "      <td>755</td>\n",
       "      <td>38</td>\n",
       "      <td>4.0</td>\n",
       "      <td>111096.91</td>\n",
       "      <td>1</td>\n",
       "      <td>1</td>\n",
       "      <td>1</td>\n",
       "      <td>19762.88</td>\n",
       "      <td>1</td>\n",
       "      <td>0</td>\n",
       "      <td>1</td>\n",
       "    </tr>\n",
       "    <tr>\n",
       "      <td>...</td>\n",
       "      <td>...</td>\n",
       "      <td>...</td>\n",
       "      <td>...</td>\n",
       "      <td>...</td>\n",
       "      <td>...</td>\n",
       "      <td>...</td>\n",
       "      <td>...</td>\n",
       "      <td>...</td>\n",
       "      <td>...</td>\n",
       "      <td>...</td>\n",
       "      <td>...</td>\n",
       "    </tr>\n",
       "    <tr>\n",
       "      <td>6312</td>\n",
       "      <td>658</td>\n",
       "      <td>28</td>\n",
       "      <td>9.0</td>\n",
       "      <td>152812.58</td>\n",
       "      <td>1</td>\n",
       "      <td>1</td>\n",
       "      <td>0</td>\n",
       "      <td>166682.57</td>\n",
       "      <td>1</td>\n",
       "      <td>0</td>\n",
       "      <td>0</td>\n",
       "    </tr>\n",
       "    <tr>\n",
       "      <td>5722</td>\n",
       "      <td>681</td>\n",
       "      <td>34</td>\n",
       "      <td>3.0</td>\n",
       "      <td>0.00</td>\n",
       "      <td>2</td>\n",
       "      <td>0</td>\n",
       "      <td>0</td>\n",
       "      <td>55816.20</td>\n",
       "      <td>0</td>\n",
       "      <td>0</td>\n",
       "      <td>1</td>\n",
       "    </tr>\n",
       "    <tr>\n",
       "      <td>5940</td>\n",
       "      <td>849</td>\n",
       "      <td>41</td>\n",
       "      <td>6.0</td>\n",
       "      <td>0.00</td>\n",
       "      <td>2</td>\n",
       "      <td>1</td>\n",
       "      <td>1</td>\n",
       "      <td>169203.51</td>\n",
       "      <td>0</td>\n",
       "      <td>0</td>\n",
       "      <td>0</td>\n",
       "    </tr>\n",
       "    <tr>\n",
       "      <td>966</td>\n",
       "      <td>563</td>\n",
       "      <td>34</td>\n",
       "      <td>6.0</td>\n",
       "      <td>139810.34</td>\n",
       "      <td>1</td>\n",
       "      <td>1</td>\n",
       "      <td>1</td>\n",
       "      <td>152417.79</td>\n",
       "      <td>0</td>\n",
       "      <td>0</td>\n",
       "      <td>0</td>\n",
       "    </tr>\n",
       "    <tr>\n",
       "      <td>8005</td>\n",
       "      <td>634</td>\n",
       "      <td>36</td>\n",
       "      <td>1.0</td>\n",
       "      <td>69518.95</td>\n",
       "      <td>1</td>\n",
       "      <td>1</td>\n",
       "      <td>0</td>\n",
       "      <td>116238.39</td>\n",
       "      <td>0</td>\n",
       "      <td>0</td>\n",
       "      <td>0</td>\n",
       "    </tr>\n",
       "  </tbody>\n",
       "</table>\n",
       "<p>6818 rows × 11 columns</p>\n",
       "</div>"
      ],
      "text/plain": [
       "      CreditScore  Age  Tenure    Balance  NumOfProducts  HasCrCard  \\\n",
       "7749          785   38     1.0       0.00              1          1   \n",
       "3308          813   62    10.0   64667.95              2          0   \n",
       "3406          632   29     7.0   80922.75              1          1   \n",
       "1364          850   39     3.0  124548.99              2          1   \n",
       "9929          755   38     4.0  111096.91              1          1   \n",
       "...           ...  ...     ...        ...            ...        ...   \n",
       "6312          658   28     9.0  152812.58              1          1   \n",
       "5722          681   34     3.0       0.00              2          0   \n",
       "5940          849   41     6.0       0.00              2          1   \n",
       "966           563   34     6.0  139810.34              1          1   \n",
       "8005          634   36     1.0   69518.95              1          1   \n",
       "\n",
       "      IsActiveMember  EstimatedSalary  Geography_Germany  Geography_Spain  \\\n",
       "7749               0        134964.85                  0                0   \n",
       "3308               1        140454.14                  0                0   \n",
       "3406               0          7820.78                  0                1   \n",
       "1364               1        120380.12                  1                0   \n",
       "9929               1         19762.88                  1                0   \n",
       "...              ...              ...                ...              ...   \n",
       "6312               0        166682.57                  1                0   \n",
       "5722               0         55816.20                  0                0   \n",
       "5940               1        169203.51                  0                0   \n",
       "966                1        152417.79                  0                0   \n",
       "8005               0        116238.39                  0                0   \n",
       "\n",
       "      Gender_Male  \n",
       "7749            0  \n",
       "3308            0  \n",
       "3406            0  \n",
       "1364            1  \n",
       "9929            1  \n",
       "...           ...  \n",
       "6312            0  \n",
       "5722            1  \n",
       "5940            0  \n",
       "966             0  \n",
       "8005            0  \n",
       "\n",
       "[6818 rows x 11 columns]"
      ]
     },
     "execution_count": 13,
     "metadata": {},
     "output_type": "execute_result"
    }
   ],
   "source": [
    "features_train"
   ]
  },
  {
   "cell_type": "code",
   "execution_count": 14,
   "metadata": {},
   "outputs": [],
   "source": [
    "# Спрячем предупреждения\n",
    "pd.options.mode.chained_assignment = None"
   ]
  },
  {
   "cell_type": "code",
   "execution_count": 15,
   "metadata": {},
   "outputs": [],
   "source": [
    "# Приведем данные к одному масштабу\n",
    "numeric = ['CreditScore', 'Age', 'Tenure', 'Balance','NumOfProducts','EstimatedSalary']\n",
    "scaler = StandardScaler()\n",
    "scaler.fit(features_train[numeric])\n",
    "features_train[numeric] = scaler.transform(features_train[numeric])\n",
    "features_valid[numeric] = scaler.transform(features_valid[numeric])\n",
    "features_test[numeric] = scaler.transform(features_test[numeric])\n",
    "pd.options.mode.chained_assignment = None"
   ]
  },
  {
   "cell_type": "markdown",
   "metadata": {},
   "source": [
    "## Исследование задачи"
   ]
  },
  {
   "cell_type": "code",
   "execution_count": 16,
   "metadata": {},
   "outputs": [
    {
     "name": "stderr",
     "output_type": "stream",
     "text": [
      "/opt/conda/lib/python3.7/site-packages/sklearn/linear_model/logistic.py:432: FutureWarning: Default solver will be changed to 'lbfgs' in 0.22. Specify a solver to silence this warning.\n",
      "  FutureWarning)\n"
     ]
    },
    {
     "data": {
      "text/plain": [
       "LogisticRegression(C=1.0, class_weight=None, dual=False, fit_intercept=True,\n",
       "                   intercept_scaling=1, l1_ratio=None, max_iter=100,\n",
       "                   multi_class='warn', n_jobs=None, penalty='l2',\n",
       "                   random_state=None, solver='warn', tol=0.0001, verbose=0,\n",
       "                   warm_start=False)"
      ]
     },
     "execution_count": 16,
     "metadata": {},
     "output_type": "execute_result"
    }
   ],
   "source": [
    "# Обучим модели\n",
    "# Сначала логистическая регрессия\n",
    "model_lr = LogisticRegression()\n",
    "model_lr.fit(features_train, target_train)"
   ]
  },
  {
   "cell_type": "code",
   "execution_count": 17,
   "metadata": {},
   "outputs": [
    {
     "name": "stdout",
     "output_type": "stream",
     "text": [
      "Accuracy: 0.7992957746478874\n",
      "F1: 0.3090909090909091\n"
     ]
    }
   ],
   "source": [
    "# Получаем небольшое значение F1-меры\n",
    "predictions = model_lr.predict(features_valid)\n",
    "print(\"Accuracy:\", accuracy_score(predictions, target_valid))\n",
    "print(\"F1:\", f1_score(predictions, target_valid))"
   ]
  },
  {
   "cell_type": "code",
   "execution_count": 18,
   "metadata": {},
   "outputs": [
    {
     "name": "stdout",
     "output_type": "stream",
     "text": [
      "Auc_roc: 0.7673414341761117\n"
     ]
    }
   ],
   "source": [
    "# Добавим метрику площиди под кривой auc_roc\n",
    "probabilities_valid = model_lr.predict_proba(features_valid)\n",
    "probabilities_one_valid = probabilities_valid[:, 1]\n",
    "auc_roc= roc_auc_score(target_valid, probabilities_one_valid)\n",
    "print(\"Auc_roc:\", auc_roc)"
   ]
  },
  {
   "cell_type": "code",
   "execution_count": 19,
   "metadata": {},
   "outputs": [],
   "source": [
    "# Посмотрим на лес\n",
    "# Создаем модель\n",
    "model_rfc = RandomForestClassifier()\n",
    "# Создаем словарь для перебора параметров\n",
    "param_grid = { \n",
    "    'n_estimators': [10, 20, 30, 40, 50],\n",
    "    'max_depth' : [5,7,9,11,13,15],\n",
    "}"
   ]
  },
  {
   "cell_type": "code",
   "execution_count": 20,
   "metadata": {},
   "outputs": [
    {
     "data": {
      "text/plain": [
       "GridSearchCV(cv=5, error_score='raise-deprecating',\n",
       "             estimator=RandomForestClassifier(bootstrap=True, class_weight=None,\n",
       "                                              criterion='gini', max_depth=None,\n",
       "                                              max_features='auto',\n",
       "                                              max_leaf_nodes=None,\n",
       "                                              min_impurity_decrease=0.0,\n",
       "                                              min_impurity_split=None,\n",
       "                                              min_samples_leaf=1,\n",
       "                                              min_samples_split=2,\n",
       "                                              min_weight_fraction_leaf=0.0,\n",
       "                                              n_estimators='warn', n_jobs=None,\n",
       "                                              oob_score=False,\n",
       "                                              random_state=None, verbose=0,\n",
       "                                              warm_start=False),\n",
       "             iid='warn', n_jobs=None,\n",
       "             param_grid={'max_depth': [5, 7, 9, 11, 13, 15],\n",
       "                         'n_estimators': [10, 20, 30, 40, 50]},\n",
       "             pre_dispatch='2*n_jobs', refit=True, return_train_score=False,\n",
       "             scoring=None, verbose=0)"
      ]
     },
     "execution_count": 20,
     "metadata": {},
     "output_type": "execute_result"
    }
   ],
   "source": [
    "# Перебираем параметры\n",
    "CV_rfc = GridSearchCV(estimator=model_rfc, param_grid=param_grid, cv=5)\n",
    "CV_rfc.fit(features_train, target_train)"
   ]
  },
  {
   "cell_type": "code",
   "execution_count": 21,
   "metadata": {},
   "outputs": [
    {
     "name": "stdout",
     "output_type": "stream",
     "text": [
      "accuracy: 0.8389084507042254\n",
      "F1: 0.49863013698630126\n"
     ]
    }
   ],
   "source": [
    "# Предсказываем на основании лучшей модели\n",
    "# Получаем результат немного лучше, чем у регрессии\n",
    "predictions = CV_rfc.best_estimator_.predict(features_valid)\n",
    "print(\"accuracy:\", accuracy_score(predictions, target_valid))\n",
    "print(\"F1:\", f1_score(predictions, target_valid))"
   ]
  },
  {
   "cell_type": "code",
   "execution_count": 22,
   "metadata": {
    "scrolled": false
   },
   "outputs": [
    {
     "name": "stdout",
     "output_type": "stream",
     "text": [
      "Auc_roc: 0.8521732417901773\n"
     ]
    }
   ],
   "source": [
    "# Добавим метрику площиди под кривой auc_roc\n",
    "probabilities_valid = CV_rfc.best_estimator_.predict_proba(features_valid)\n",
    "probabilities_one_valid = probabilities_valid[:, 1]\n",
    "auc_roc= roc_auc_score(target_valid, probabilities_one_valid)\n",
    "print(\"Auc_roc:\", auc_roc)"
   ]
  },
  {
   "cell_type": "markdown",
   "metadata": {},
   "source": [
    "## Борьба с дисбалансом"
   ]
  },
  {
   "cell_type": "code",
   "execution_count": 23,
   "metadata": {},
   "outputs": [],
   "source": [
    "# Будем бороться с дисбалансом техникой upsampling\n",
    "\n",
    "def upsample(features, target, repeat):\n",
    "    features_zeros = features[target == 0]\n",
    "    features_ones = features[target == 1]\n",
    "    target_zeros = target[target == 0]\n",
    "    target_ones = target[target == 1]\n",
    "\n",
    "    features_upsampled = pd.concat([features_zeros] + [features_ones] * repeat)\n",
    "    target_upsampled = pd.concat([target_zeros] + [target_ones] * repeat)\n",
    "    \n",
    "    features_upsampled, target_upsampled = shuffle(\n",
    "        features_upsampled, target_upsampled, random_state=12345)\n",
    "    \n",
    "    return features_upsampled, target_upsampled\n"
   ]
  },
  {
   "cell_type": "code",
   "execution_count": 24,
   "metadata": {},
   "outputs": [],
   "source": [
    "features_upsampled, target_upsampled = upsample(features_train, target_train, 4)"
   ]
  },
  {
   "cell_type": "code",
   "execution_count": 25,
   "metadata": {},
   "outputs": [
    {
     "name": "stdout",
     "output_type": "stream",
     "text": [
      "F1: 0.5114285714285715\n",
      "Accuracy: 0.698943661971831\n"
     ]
    }
   ],
   "source": [
    "# Проверяем логистическую регрессию\n",
    "model = LogisticRegression(random_state=12345, solver='liblinear')\n",
    "model.fit(features_upsampled,target_upsampled)\n",
    "predicted_valid = model.predict(features_valid)\n",
    "print(\"F1:\", f1_score(target_valid, predicted_valid))\n",
    "print(\"Accuracy:\", accuracy_score(predicted_valid, target_valid))"
   ]
  },
  {
   "cell_type": "code",
   "execution_count": 26,
   "metadata": {},
   "outputs": [],
   "source": [
    "# Проверяем лес\n",
    "model_rfc = RandomForestClassifier()\n",
    "# Создаем словарь для перебора параметров\n",
    "param_grid = { \n",
    "    'n_estimators': [10, 20, 30, 40, 50, 60],\n",
    "    'max_depth' : [5,7,9,11,13,15,17],\n",
    "    'criterion':['gini','entropy']\n",
    "}"
   ]
  },
  {
   "cell_type": "code",
   "execution_count": 27,
   "metadata": {},
   "outputs": [
    {
     "data": {
      "text/plain": [
       "GridSearchCV(cv=7, error_score='raise-deprecating',\n",
       "             estimator=RandomForestClassifier(bootstrap=True, class_weight=None,\n",
       "                                              criterion='gini', max_depth=None,\n",
       "                                              max_features='auto',\n",
       "                                              max_leaf_nodes=None,\n",
       "                                              min_impurity_decrease=0.0,\n",
       "                                              min_impurity_split=None,\n",
       "                                              min_samples_leaf=1,\n",
       "                                              min_samples_split=2,\n",
       "                                              min_weight_fraction_leaf=0.0,\n",
       "                                              n_estimators='warn', n_jobs=None,\n",
       "                                              oob_score=False,\n",
       "                                              random_state=None, verbose=0,\n",
       "                                              warm_start=False),\n",
       "             iid='warn', n_jobs=None,\n",
       "             param_grid={'criterion': ['gini', 'entropy'],\n",
       "                         'max_depth': [5, 7, 9, 11, 13, 15, 17],\n",
       "                         'n_estimators': [10, 20, 30, 40, 50, 60]},\n",
       "             pre_dispatch='2*n_jobs', refit=True, return_train_score=False,\n",
       "             scoring=None, verbose=0)"
      ]
     },
     "execution_count": 27,
     "metadata": {},
     "output_type": "execute_result"
    }
   ],
   "source": [
    "# Перебираем параметры\n",
    "CV_rfc = GridSearchCV(estimator=model_rfc, param_grid=param_grid, cv=7)\n",
    "CV_rfc.fit(features_train, target_train)"
   ]
  },
  {
   "cell_type": "code",
   "execution_count": 28,
   "metadata": {},
   "outputs": [
    {
     "data": {
      "text/plain": [
       "{'criterion': 'gini', 'max_depth': 11, 'n_estimators': 40}"
      ]
     },
     "execution_count": 28,
     "metadata": {},
     "output_type": "execute_result"
    }
   ],
   "source": [
    "CV_rfc.best_params_"
   ]
  },
  {
   "cell_type": "code",
   "execution_count": 29,
   "metadata": {},
   "outputs": [
    {
     "name": "stdout",
     "output_type": "stream",
     "text": [
      "accuracy: 0.8088315464292204\n",
      "F1: 0.7699037620297463\n"
     ]
    }
   ],
   "source": [
    "# Предсказываем на основании лучшей модели\n",
    "# Получаем результат лучше, чем у регрессии\n",
    "predictions = CV_rfc.best_estimator_.predict(features_upsampled)\n",
    "print(\"accuracy:\", accuracy_score(predictions, target_upsampled))\n",
    "print(\"F1:\", f1_score(predictions, target_upsampled))"
   ]
  },
  {
   "cell_type": "markdown",
   "metadata": {},
   "source": [
    "# Добавила случайный лес через цикл и технику уменьшения выборки"
   ]
  },
  {
   "cell_type": "code",
   "execution_count": 30,
   "metadata": {},
   "outputs": [
    {
     "name": "stdout",
     "output_type": "stream",
     "text": [
      "Глубина дерева: 8     Количество деревьев: 15   Качество: 0.8283450704225352 F1: 0.6408839779005525\n"
     ]
    }
   ],
   "source": [
    "# Случайный лес с помощью цикла\n",
    "best_accuracy = 0\n",
    "best_depth = 0\n",
    "best_f1 = 0\n",
    "for depth in range(1,15):\n",
    "    for est in range(5,50,5):\n",
    "        model = RandomForestClassifier(max_depth=depth, n_estimators=est, random_state=42)\n",
    "        model.fit(features_upsampled,target_upsampled)\n",
    "        predictions = model.predict(features_valid)\n",
    "        accuracy = accuracy_score(predictions, target_valid)\n",
    "        f1 = f1_score(predictions, target_valid)\n",
    "        if f1 > best_f1:\n",
    "            best_f1 = f1\n",
    "            best_accuracy = accuracy\n",
    "            best_depth = depth\n",
    "            best_est = est\n",
    "print(\"Глубина дерева:\", best_depth, \"    Количество деревьев:\", best_est,  \"  Качество:\", best_accuracy, 'F1:', best_f1 )"
   ]
  },
  {
   "cell_type": "code",
   "execution_count": 31,
   "metadata": {},
   "outputs": [],
   "source": [
    "#  Борьба с дисбалансом классов путем уменьшения выборки\n",
    "\n",
    "def downsample(features, target, fraction):\n",
    "    features_zeros = features[target == 0]\n",
    "    features_ones = features[target == 1]\n",
    "    target_zeros = target[target == 0]\n",
    "    target_ones = target[target == 1]\n",
    "\n",
    "    features_downsampled = pd.concat(\n",
    "        [features_zeros.sample(frac=fraction, random_state=12345)] + [features_ones])\n",
    "    target_downsampled = pd.concat(\n",
    "        [target_zeros.sample(frac=fraction, random_state=12345)] + [target_ones])\n",
    "    \n",
    "    features_downsampled, target_downsampled = shuffle(\n",
    "        features_downsampled, target_downsampled, random_state=12345)\n",
    "    \n",
    "    return features_downsampled, target_downsampled\n",
    "\n"
   ]
  },
  {
   "cell_type": "code",
   "execution_count": 32,
   "metadata": {},
   "outputs": [],
   "source": [
    "features_downsampled, target_downsampled = downsample(features_train, target_train, 0.5)"
   ]
  },
  {
   "cell_type": "code",
   "execution_count": 33,
   "metadata": {},
   "outputs": [
    {
     "name": "stdout",
     "output_type": "stream",
     "text": [
      "F1: 0.4978165938864629\n",
      "Accuracy: 0.7975352112676056\n"
     ]
    }
   ],
   "source": [
    "# Проверяем логистическую регрессию\n",
    "model = LogisticRegression(random_state=12345, solver='liblinear')\n",
    "model.fit(features_downsampled,target_downsampled)\n",
    "predicted_valid = model.predict(features_valid)\n",
    "print(\"F1:\", f1_score(target_valid, predicted_valid))\n",
    "print(\"Accuracy:\", accuracy_score(predicted_valid, target_valid))"
   ]
  },
  {
   "cell_type": "code",
   "execution_count": 34,
   "metadata": {},
   "outputs": [
    {
     "name": "stderr",
     "output_type": "stream",
     "text": [
      "/opt/conda/lib/python3.7/site-packages/sklearn/metrics/classification.py:1439: UndefinedMetricWarning: F-score is ill-defined and being set to 0.0 due to no true samples.\n",
      "  'recall', 'true', average, warn_for)\n"
     ]
    },
    {
     "name": "stdout",
     "output_type": "stream",
     "text": [
      "Глубина дерева: 13     Количество деревьев: 110   Качество: 0.8556338028169014 F1: 0.645021645021645\n",
      "Auc_roc: 0.8540054671607091\n"
     ]
    }
   ],
   "source": [
    "# Случайный лес с помощью цикла\n",
    "best_accuracy = 0\n",
    "best_depth = 0\n",
    "best_f1 = 0\n",
    "for depth in range(1,30):\n",
    "    for est in range(5,160,5):\n",
    "        model = RandomForestClassifier(max_depth=depth, n_estimators=est, random_state=42)\n",
    "        model.fit(features_downsampled,target_downsampled)\n",
    "        predictions = model.predict(features_valid)\n",
    "        accuracy = accuracy_score(predictions, target_valid)\n",
    "        f1 = f1_score(predictions, target_valid)\n",
    "        if f1 > best_f1:\n",
    "            best_f1 = f1\n",
    "            best_accuracy = accuracy\n",
    "            best_depth = depth\n",
    "            best_est = est\n",
    "print(\"Глубина дерева:\", best_depth, \"    Количество деревьев:\", best_est,  \"  Качество:\", best_accuracy, 'F1:', best_f1 )\n",
    "\n",
    "# ПРИ ТАКОМ ПЕРЕБОРЕ ВСЕ РАВНО ПАРАМЕТРЫ 13 И 110 НЕ ПОКАЗЫВАЮТ НУЖНОГО РЕЗУЛЬТАТА НА ТЕСТОВОЙ ВЫБОРКЕ\n",
    "\n",
    "# Добавим значение площади под кривой\n",
    "probabilities_valid = model.predict_proba(features_valid)\n",
    "probabilities_one_valid = probabilities_valid[:, 1]\n",
    "auc_roc= roc_auc_score(target_valid, probabilities_one_valid)\n",
    "print(\"Auc_roc:\", auc_roc)"
   ]
  },
  {
   "cell_type": "markdown",
   "metadata": {},
   "source": [
    "## Тестирование модели"
   ]
  },
  {
   "cell_type": "code",
   "execution_count": 35,
   "metadata": {
    "scrolled": true
   },
   "outputs": [
    {
     "name": "stdout",
     "output_type": "stream",
     "text": [
      "Accuracy: 0.8531222515391381\n",
      "F1: 0.6033254156769596\n",
      "Auc_roc: 0.8381466070786459\n"
     ]
    }
   ],
   "source": [
    "# Тестируем лучшую модель на тестовой выборке\n",
    "model = RandomForestClassifier(max_depth=15, n_estimators=150, random_state=42)\n",
    "model.fit(features_downsampled,target_downsampled)\n",
    "predictions = model.predict(features_test)\n",
    "print(\"Accuracy:\", accuracy_score(predictions, target_test))\n",
    "print(\"F1:\", f1_score(predictions, target_test))\n",
    "\n",
    "probabilities_valid = model.predict_proba(features_test)\n",
    "probabilities_one_valid = probabilities_valid[:, 1]\n",
    "auc_roc= roc_auc_score(target_test, probabilities_one_valid)\n",
    "print(\"Auc_roc:\", auc_roc)"
   ]
  },
  {
   "cell_type": "markdown",
   "metadata": {},
   "source": [
    "    Вывод: Модели с устраненным дисбалансом классов работают лучше. Лучший результат достугнут на случайном лесе при параметрах максимальная глубина дерева - 15 и число деревьев - 150"
   ]
  },
  {
   "cell_type": "markdown",
   "metadata": {},
   "source": [
    "## Чек-лист готовности проекта"
   ]
  },
  {
   "cell_type": "markdown",
   "metadata": {},
   "source": [
    "Поставьте 'x' в выполненных пунктах. Далее нажмите Shift+Enter."
   ]
  },
  {
   "cell_type": "markdown",
   "metadata": {},
   "source": [
    "- [x]  Jupyter Notebook открыт\n",
    "- [ ]  Весь код выполняется без ошибок\n",
    "- [ ]  Ячейки с кодом расположены в порядке исполнения\n",
    "- [ ]  Выполнен шаг 1: данные подготовлены\n",
    "- [ ]  Выполнен шаг 2: задача исследована\n",
    "    - [ ]  Исследован баланс классов\n",
    "    - [ ]  Изучены модели без учёта дисбаланса\n",
    "    - [ ]  Написаны выводы по результатам исследования\n",
    "- [ ]  Выполнен шаг 3: учтён дисбаланс\n",
    "    - [ ]  Применено несколько способов борьбы с дисбалансом\n",
    "    - [ ]  Написаны выводы по результатам исследования\n",
    "- [ ]  Выполнен шаг 4: проведено тестирование\n",
    "- [ ]  Удалось достичь *F1*-меры не менее 0.59\n",
    "- [ ]  Исследована метрика *AUC-ROC*"
   ]
  },
  {
   "cell_type": "code",
   "execution_count": null,
   "metadata": {},
   "outputs": [],
   "source": []
  }
 ],
 "metadata": {
  "ExecuteTimeLog": [
   {
    "duration": 564,
    "start_time": "2021-07-06T19:27:29.808Z"
   },
   {
    "duration": 274,
    "start_time": "2021-07-06T19:29:42.960Z"
   },
   {
    "duration": 29,
    "start_time": "2021-07-06T19:29:44.980Z"
   },
   {
    "duration": 8,
    "start_time": "2021-07-06T19:29:46.659Z"
   },
   {
    "duration": 258,
    "start_time": "2021-07-06T19:30:53.301Z"
   },
   {
    "duration": 42,
    "start_time": "2021-07-06T19:30:55.846Z"
   },
   {
    "duration": 197,
    "start_time": "2021-07-06T19:44:09.777Z"
   },
   {
    "duration": 261,
    "start_time": "2021-07-06T19:48:24.623Z"
   },
   {
    "duration": 5,
    "start_time": "2021-07-06T19:48:30.393Z"
   },
   {
    "duration": 458,
    "start_time": "2021-07-07T17:24:48.272Z"
   },
   {
    "duration": 509,
    "start_time": "2021-07-07T17:24:53.145Z"
   },
   {
    "duration": 45,
    "start_time": "2021-07-07T17:24:54.236Z"
   },
   {
    "duration": 9,
    "start_time": "2021-07-07T17:24:56.493Z"
   },
   {
    "duration": 39,
    "start_time": "2021-07-07T17:24:58.445Z"
   },
   {
    "duration": 8,
    "start_time": "2021-07-07T17:29:29.255Z"
   },
   {
    "duration": 4,
    "start_time": "2021-07-07T17:29:42.407Z"
   },
   {
    "duration": 4,
    "start_time": "2021-07-07T17:30:08.816Z"
   },
   {
    "duration": 7,
    "start_time": "2021-07-07T17:30:55.647Z"
   },
   {
    "duration": 7,
    "start_time": "2021-07-07T17:31:19.120Z"
   },
   {
    "duration": 23,
    "start_time": "2021-07-07T17:33:00.658Z"
   },
   {
    "duration": 7,
    "start_time": "2021-07-07T17:41:48.587Z"
   },
   {
    "duration": 190,
    "start_time": "2021-07-07T17:45:49.334Z"
   },
   {
    "duration": 7,
    "start_time": "2021-07-07T17:45:58.660Z"
   },
   {
    "duration": 5,
    "start_time": "2021-07-07T17:46:00.333Z"
   },
   {
    "duration": 7,
    "start_time": "2021-07-07T17:46:32.876Z"
   },
   {
    "duration": 8,
    "start_time": "2021-07-07T17:46:34.276Z"
   },
   {
    "duration": 5,
    "start_time": "2021-07-07T17:51:33.630Z"
   },
   {
    "duration": 11,
    "start_time": "2021-07-07T17:51:48.342Z"
   },
   {
    "duration": 4295,
    "start_time": "2021-07-07T17:55:33.865Z"
   },
   {
    "duration": 10,
    "start_time": "2021-07-07T17:55:51.047Z"
   },
   {
    "duration": 10,
    "start_time": "2021-07-07T17:55:53.151Z"
   },
   {
    "duration": 8,
    "start_time": "2021-07-07T17:56:35.120Z"
   },
   {
    "duration": 3,
    "start_time": "2021-07-07T17:56:42.431Z"
   },
   {
    "duration": 38,
    "start_time": "2021-07-07T17:56:43.543Z"
   },
   {
    "duration": 8,
    "start_time": "2021-07-07T17:57:15.688Z"
   },
   {
    "duration": 42,
    "start_time": "2021-07-07T17:57:18.024Z"
   },
   {
    "duration": 7,
    "start_time": "2021-07-07T17:57:20.864Z"
   },
   {
    "duration": 5,
    "start_time": "2021-07-07T17:57:21.952Z"
   },
   {
    "duration": 13,
    "start_time": "2021-07-07T17:57:23.136Z"
   },
   {
    "duration": 18,
    "start_time": "2021-07-07T17:57:25.008Z"
   },
   {
    "duration": 6,
    "start_time": "2021-07-07T18:03:48.624Z"
   },
   {
    "duration": 17,
    "start_time": "2021-07-07T18:03:57.770Z"
   },
   {
    "duration": 5,
    "start_time": "2021-07-07T18:04:05.195Z"
   },
   {
    "duration": 239,
    "start_time": "2021-07-07T18:11:10.694Z"
   },
   {
    "duration": 438,
    "start_time": "2021-07-07T18:11:30.380Z"
   },
   {
    "duration": 204,
    "start_time": "2021-07-07T18:11:33.805Z"
   },
   {
    "duration": 5,
    "start_time": "2021-07-07T18:11:40.812Z"
   },
   {
    "duration": 7,
    "start_time": "2021-07-07T18:11:42.405Z"
   },
   {
    "duration": 6,
    "start_time": "2021-07-07T18:11:56.357Z"
   },
   {
    "duration": 210,
    "start_time": "2021-07-07T18:12:28.852Z"
   },
   {
    "duration": 5,
    "start_time": "2021-07-07T18:12:41.109Z"
   },
   {
    "duration": 4,
    "start_time": "2021-07-07T18:13:06.173Z"
   },
   {
    "duration": 3,
    "start_time": "2021-07-07T18:14:45.542Z"
   },
   {
    "duration": 7,
    "start_time": "2021-07-07T18:17:34.207Z"
   },
   {
    "duration": 15,
    "start_time": "2021-07-07T18:17:59.311Z"
   },
   {
    "duration": 1263,
    "start_time": "2021-07-11T15:22:33.322Z"
   },
   {
    "duration": 59,
    "start_time": "2021-07-11T15:22:37.193Z"
   },
   {
    "duration": 11,
    "start_time": "2021-07-11T15:22:39.141Z"
   },
   {
    "duration": 61,
    "start_time": "2021-07-11T15:22:41.654Z"
   },
   {
    "duration": 9,
    "start_time": "2021-07-11T15:22:46.541Z"
   },
   {
    "duration": 7,
    "start_time": "2021-07-11T15:22:50.725Z"
   },
   {
    "duration": 19,
    "start_time": "2021-07-11T15:22:55.589Z"
   },
   {
    "duration": 7,
    "start_time": "2021-07-11T15:22:59.021Z"
   },
   {
    "duration": 9,
    "start_time": "2021-07-11T15:23:02.789Z"
   },
   {
    "duration": 7,
    "start_time": "2021-07-11T15:23:05.774Z"
   },
   {
    "duration": 5,
    "start_time": "2021-07-11T15:23:07.885Z"
   },
   {
    "duration": 25,
    "start_time": "2021-07-11T15:23:12.278Z"
   },
   {
    "duration": 41,
    "start_time": "2021-07-11T15:28:07.326Z"
   },
   {
    "duration": 45,
    "start_time": "2021-07-11T15:28:25.142Z"
   },
   {
    "duration": 30,
    "start_time": "2021-07-11T15:28:46.782Z"
   },
   {
    "duration": 26,
    "start_time": "2021-07-11T15:29:21.159Z"
   },
   {
    "duration": 34,
    "start_time": "2021-07-11T15:32:34.695Z"
   },
   {
    "duration": 507,
    "start_time": "2021-07-11T15:33:45.480Z"
   },
   {
    "duration": 4,
    "start_time": "2021-07-11T15:34:21.433Z"
   },
   {
    "duration": 14,
    "start_time": "2021-07-11T15:34:26.232Z"
   },
   {
    "duration": 292,
    "start_time": "2021-07-11T15:37:29.257Z"
   },
   {
    "duration": 5,
    "start_time": "2021-07-11T15:37:56.497Z"
   },
   {
    "duration": 287,
    "start_time": "2021-07-11T15:38:00.593Z"
   },
   {
    "duration": 670,
    "start_time": "2021-07-11T15:38:45.010Z"
   },
   {
    "duration": 295,
    "start_time": "2021-07-11T15:38:57.786Z"
   },
   {
    "duration": 101,
    "start_time": "2021-07-11T15:40:41.651Z"
   },
   {
    "duration": 92,
    "start_time": "2021-07-11T15:40:45.083Z"
   },
   {
    "duration": 96,
    "start_time": "2021-07-11T15:41:38.788Z"
   },
   {
    "duration": 13,
    "start_time": "2021-07-11T15:41:46.642Z"
   },
   {
    "duration": 279,
    "start_time": "2021-07-11T15:44:55.612Z"
   },
   {
    "duration": 4,
    "start_time": "2021-07-11T15:44:57.707Z"
   },
   {
    "duration": 269,
    "start_time": "2021-07-11T15:44:59.427Z"
   },
   {
    "duration": 4,
    "start_time": "2021-07-11T15:45:24.291Z"
   },
   {
    "duration": 34309,
    "start_time": "2021-07-11T15:45:29.387Z"
   },
   {
    "duration": 25,
    "start_time": "2021-07-11T15:46:03.698Z"
   },
   {
    "duration": 25,
    "start_time": "2021-07-11T15:47:06.571Z"
   },
   {
    "duration": 301,
    "start_time": "2021-07-11T15:49:10.644Z"
   },
   {
    "duration": 12,
    "start_time": "2021-07-11T15:49:23.236Z"
   },
   {
    "duration": 5,
    "start_time": "2021-07-11T15:53:05.910Z"
   },
   {
    "duration": 673,
    "start_time": "2021-07-11T15:53:11.845Z"
   },
   {
    "duration": 9,
    "start_time": "2021-07-11T15:53:27.230Z"
   },
   {
    "duration": 6,
    "start_time": "2021-07-11T15:53:32.701Z"
   },
   {
    "duration": 16,
    "start_time": "2021-07-11T15:53:37.101Z"
   },
   {
    "duration": 44,
    "start_time": "2021-07-11T15:54:30.614Z"
   },
   {
    "duration": 84,
    "start_time": "2021-07-11T16:01:05.973Z"
   },
   {
    "duration": 4,
    "start_time": "2021-07-11T16:01:10.317Z"
   },
   {
    "duration": 34021,
    "start_time": "2021-07-11T16:01:11.965Z"
   },
   {
    "duration": 27,
    "start_time": "2021-07-11T16:02:51.606Z"
   },
   {
    "duration": 1297,
    "start_time": "2021-07-11T16:03:52.897Z"
   },
   {
    "duration": 59,
    "start_time": "2021-07-11T16:03:54.197Z"
   },
   {
    "duration": 15,
    "start_time": "2021-07-11T16:03:54.260Z"
   },
   {
    "duration": 80,
    "start_time": "2021-07-11T16:03:54.278Z"
   },
   {
    "duration": 10,
    "start_time": "2021-07-11T16:03:54.361Z"
   },
   {
    "duration": 10,
    "start_time": "2021-07-11T16:03:54.375Z"
   },
   {
    "duration": 21,
    "start_time": "2021-07-11T16:03:54.388Z"
   },
   {
    "duration": 48,
    "start_time": "2021-07-11T16:03:54.411Z"
   },
   {
    "duration": 9,
    "start_time": "2021-07-11T16:03:54.465Z"
   },
   {
    "duration": 10,
    "start_time": "2021-07-11T16:03:54.478Z"
   },
   {
    "duration": 10,
    "start_time": "2021-07-11T16:03:54.490Z"
   },
   {
    "duration": 7,
    "start_time": "2021-07-11T16:03:54.502Z"
   },
   {
    "duration": 72,
    "start_time": "2021-07-11T16:03:54.512Z"
   },
   {
    "duration": 4,
    "start_time": "2021-07-11T16:03:54.587Z"
   },
   {
    "duration": 65,
    "start_time": "2021-07-11T16:03:54.594Z"
   },
   {
    "duration": 37,
    "start_time": "2021-07-11T16:03:54.663Z"
   },
   {
    "duration": 73,
    "start_time": "2021-07-11T16:03:54.702Z"
   },
   {
    "duration": 14,
    "start_time": "2021-07-11T16:03:54.859Z"
   },
   {
    "duration": 90,
    "start_time": "2021-07-11T16:03:54.876Z"
   },
   {
    "duration": 33773,
    "start_time": "2021-07-11T16:03:54.975Z"
   },
   {
    "duration": 26,
    "start_time": "2021-07-11T16:04:28.756Z"
   },
   {
    "duration": 21,
    "start_time": "2021-07-11T16:04:28.785Z"
   },
   {
    "duration": 5,
    "start_time": "2021-07-11T16:04:28.808Z"
   },
   {
    "duration": 53,
    "start_time": "2021-07-11T16:04:28.815Z"
   },
   {
    "duration": 89,
    "start_time": "2021-07-11T16:04:28.871Z"
   },
   {
    "duration": 6,
    "start_time": "2021-07-11T16:04:28.962Z"
   },
   {
    "duration": 34771,
    "start_time": "2021-07-11T16:04:28.974Z"
   },
   {
    "duration": 90,
    "start_time": "2021-07-11T16:05:03.747Z"
   },
   {
    "duration": 43,
    "start_time": "2021-07-11T16:05:03.839Z"
   },
   {
    "duration": 4,
    "start_time": "2021-07-11T16:05:59.330Z"
   },
   {
    "duration": 55709,
    "start_time": "2021-07-11T16:06:02.426Z"
   },
   {
    "duration": 98,
    "start_time": "2021-07-11T16:07:33.538Z"
   },
   {
    "duration": 29,
    "start_time": "2021-07-11T16:07:37.243Z"
   },
   {
    "duration": 80537,
    "start_time": "2021-07-11T16:09:36.635Z"
   },
   {
    "duration": 5,
    "start_time": "2021-07-11T16:11:10.212Z"
   },
   {
    "duration": 126,
    "start_time": "2021-07-11T16:11:15.962Z"
   },
   {
    "duration": 33,
    "start_time": "2021-07-11T16:11:20.547Z"
   },
   {
    "duration": 5,
    "start_time": "2021-07-11T16:12:03.996Z"
   },
   {
    "duration": 179444,
    "start_time": "2021-07-11T16:12:08.572Z"
   },
   {
    "duration": 5,
    "start_time": "2021-07-11T16:15:16.009Z"
   },
   {
    "duration": 92,
    "start_time": "2021-07-11T16:15:20.397Z"
   },
   {
    "duration": 38,
    "start_time": "2021-07-11T16:15:32.181Z"
   },
   {
    "duration": 1339,
    "start_time": "2021-07-11T16:15:44.030Z"
   },
   {
    "duration": 57,
    "start_time": "2021-07-11T16:15:45.372Z"
   },
   {
    "duration": 12,
    "start_time": "2021-07-11T16:15:45.431Z"
   },
   {
    "duration": 72,
    "start_time": "2021-07-11T16:15:45.445Z"
   },
   {
    "duration": 8,
    "start_time": "2021-07-11T16:15:45.519Z"
   },
   {
    "duration": 40,
    "start_time": "2021-07-11T16:15:45.529Z"
   },
   {
    "duration": 7,
    "start_time": "2021-07-11T16:15:45.572Z"
   },
   {
    "duration": 23,
    "start_time": "2021-07-11T16:15:45.581Z"
   },
   {
    "duration": 7,
    "start_time": "2021-07-11T16:15:45.609Z"
   },
   {
    "duration": 43,
    "start_time": "2021-07-11T16:15:45.620Z"
   },
   {
    "duration": 11,
    "start_time": "2021-07-11T16:15:45.668Z"
   },
   {
    "duration": 8,
    "start_time": "2021-07-11T16:15:45.682Z"
   },
   {
    "duration": 27,
    "start_time": "2021-07-11T16:15:45.692Z"
   },
   {
    "duration": 9,
    "start_time": "2021-07-11T16:15:45.722Z"
   },
   {
    "duration": 60,
    "start_time": "2021-07-11T16:15:45.733Z"
   },
   {
    "duration": 33,
    "start_time": "2021-07-11T16:15:45.796Z"
   },
   {
    "duration": 39,
    "start_time": "2021-07-11T16:15:45.832Z"
   },
   {
    "duration": 14,
    "start_time": "2021-07-11T16:15:45.957Z"
   },
   {
    "duration": 6,
    "start_time": "2021-07-11T16:15:46.058Z"
   },
   {
    "duration": 33768,
    "start_time": "2021-07-11T16:15:46.069Z"
   },
   {
    "duration": 38,
    "start_time": "2021-07-11T16:16:19.839Z"
   },
   {
    "duration": 24,
    "start_time": "2021-07-11T16:16:19.879Z"
   },
   {
    "duration": 5,
    "start_time": "2021-07-11T16:16:19.905Z"
   },
   {
    "duration": 26,
    "start_time": "2021-07-11T16:16:19.912Z"
   },
   {
    "duration": 109,
    "start_time": "2021-07-11T16:16:19.955Z"
   },
   {
    "duration": 86,
    "start_time": "2021-07-11T16:16:20.069Z"
   },
   {
    "duration": 175203,
    "start_time": "2021-07-11T16:16:20.171Z"
   },
   {
    "duration": 5,
    "start_time": "2021-07-11T16:19:15.376Z"
   },
   {
    "duration": 51,
    "start_time": "2021-07-11T16:19:15.383Z"
   },
   {
    "duration": 42,
    "start_time": "2021-07-11T16:19:15.436Z"
   },
   {
    "duration": 325,
    "start_time": "2021-07-12T15:13:14.913Z"
   },
   {
    "duration": 1685,
    "start_time": "2021-07-12T15:13:21.434Z"
   },
   {
    "duration": 76,
    "start_time": "2021-07-12T15:13:23.122Z"
   },
   {
    "duration": 19,
    "start_time": "2021-07-12T15:13:23.202Z"
   },
   {
    "duration": 100,
    "start_time": "2021-07-12T15:13:23.225Z"
   },
   {
    "duration": 28,
    "start_time": "2021-07-12T15:13:23.328Z"
   },
   {
    "duration": 15,
    "start_time": "2021-07-12T15:13:23.359Z"
   },
   {
    "duration": 8,
    "start_time": "2021-07-12T15:13:23.377Z"
   },
   {
    "duration": 20,
    "start_time": "2021-07-12T15:13:23.391Z"
   },
   {
    "duration": 44,
    "start_time": "2021-07-12T15:13:23.415Z"
   },
   {
    "duration": 8,
    "start_time": "2021-07-12T15:13:23.462Z"
   },
   {
    "duration": 13,
    "start_time": "2021-07-12T15:13:23.473Z"
   },
   {
    "duration": 8,
    "start_time": "2021-07-12T15:13:23.489Z"
   },
   {
    "duration": 71,
    "start_time": "2021-07-12T15:13:23.499Z"
   },
   {
    "duration": 3,
    "start_time": "2021-07-12T15:13:23.574Z"
   },
   {
    "duration": 38,
    "start_time": "2021-07-12T15:13:23.581Z"
   },
   {
    "duration": 61,
    "start_time": "2021-07-12T15:13:23.622Z"
   },
   {
    "duration": 75,
    "start_time": "2021-07-12T15:13:23.686Z"
   },
   {
    "duration": 101,
    "start_time": "2021-07-12T15:13:23.765Z"
   },
   {
    "duration": 10,
    "start_time": "2021-07-12T15:13:23.955Z"
   },
   {
    "duration": 34365,
    "start_time": "2021-07-12T15:13:23.971Z"
   },
   {
    "duration": 34,
    "start_time": "2021-07-12T15:13:58.339Z"
   },
   {
    "duration": 23,
    "start_time": "2021-07-12T15:13:58.376Z"
   },
   {
    "duration": 6,
    "start_time": "2021-07-12T15:13:58.404Z"
   },
   {
    "duration": 51,
    "start_time": "2021-07-12T15:13:58.412Z"
   },
   {
    "duration": 107,
    "start_time": "2021-07-12T15:13:58.465Z"
   },
   {
    "duration": 6,
    "start_time": "2021-07-12T15:13:58.656Z"
   },
   {
    "duration": 230632,
    "start_time": "2021-07-12T15:13:58.665Z"
   },
   {
    "duration": 5,
    "start_time": "2021-07-12T15:17:49.300Z"
   },
   {
    "duration": 114,
    "start_time": "2021-07-12T15:17:49.308Z"
   },
   {
    "duration": 28402,
    "start_time": "2021-07-12T15:17:49.424Z"
   },
   {
    "duration": 48,
    "start_time": "2021-07-12T15:18:17.830Z"
   },
   {
    "duration": 495,
    "start_time": "2021-07-12T15:25:45.918Z"
   },
   {
    "duration": 90,
    "start_time": "2021-07-12T15:29:38.994Z"
   },
   {
    "duration": 307,
    "start_time": "2021-07-12T15:30:15.885Z"
   },
   {
    "duration": 388,
    "start_time": "2021-07-12T15:30:53.445Z"
   },
   {
    "duration": 325,
    "start_time": "2021-07-12T15:51:10.977Z"
   },
   {
    "duration": 338,
    "start_time": "2021-07-12T15:53:44.869Z"
   },
   {
    "duration": 305,
    "start_time": "2021-07-12T15:54:10.132Z"
   },
   {
    "duration": 318,
    "start_time": "2021-07-12T15:57:54.693Z"
   },
   {
    "duration": 36733,
    "start_time": "2021-07-12T16:02:33.618Z"
   },
   {
    "duration": 7,
    "start_time": "2021-07-12T16:09:40.569Z"
   },
   {
    "duration": 15,
    "start_time": "2021-07-12T16:09:44.644Z"
   },
   {
    "duration": 17,
    "start_time": "2021-07-12T16:09:50.611Z"
   },
   {
    "duration": 41,
    "start_time": "2021-07-12T16:10:46.429Z"
   },
   {
    "duration": 17792,
    "start_time": "2021-07-12T16:11:25.246Z"
   },
   {
    "duration": 324,
    "start_time": "2021-07-12T16:46:45.131Z"
   },
   {
    "duration": 1387,
    "start_time": "2021-07-12T16:46:54.256Z"
   },
   {
    "duration": 60,
    "start_time": "2021-07-12T16:46:55.646Z"
   },
   {
    "duration": 12,
    "start_time": "2021-07-12T16:46:55.710Z"
   },
   {
    "duration": 92,
    "start_time": "2021-07-12T16:46:55.725Z"
   },
   {
    "duration": 8,
    "start_time": "2021-07-12T16:46:55.820Z"
   },
   {
    "duration": 40,
    "start_time": "2021-07-12T16:46:55.831Z"
   },
   {
    "duration": 33,
    "start_time": "2021-07-12T16:46:55.873Z"
   },
   {
    "duration": 47,
    "start_time": "2021-07-12T16:46:55.909Z"
   },
   {
    "duration": 37,
    "start_time": "2021-07-12T16:46:55.959Z"
   },
   {
    "duration": 42,
    "start_time": "2021-07-12T16:46:55.999Z"
   },
   {
    "duration": 56,
    "start_time": "2021-07-12T16:46:56.043Z"
   },
   {
    "duration": 28,
    "start_time": "2021-07-12T16:46:56.102Z"
   },
   {
    "duration": 57,
    "start_time": "2021-07-12T16:46:56.133Z"
   },
   {
    "duration": 13,
    "start_time": "2021-07-12T16:46:56.192Z"
   },
   {
    "duration": 76,
    "start_time": "2021-07-12T16:46:56.208Z"
   },
   {
    "duration": 37,
    "start_time": "2021-07-12T16:46:56.286Z"
   },
   {
    "duration": 134,
    "start_time": "2021-07-12T16:46:56.326Z"
   },
   {
    "duration": 101,
    "start_time": "2021-07-12T16:46:56.463Z"
   },
   {
    "duration": 188,
    "start_time": "2021-07-12T16:46:56.567Z"
   },
   {
    "duration": 33482,
    "start_time": "2021-07-12T16:46:56.757Z"
   },
   {
    "duration": 36,
    "start_time": "2021-07-12T16:47:30.242Z"
   },
   {
    "duration": 26,
    "start_time": "2021-07-12T16:47:30.281Z"
   },
   {
    "duration": 6,
    "start_time": "2021-07-12T16:47:30.312Z"
   },
   {
    "duration": 46,
    "start_time": "2021-07-12T16:47:30.321Z"
   },
   {
    "duration": 90,
    "start_time": "2021-07-12T16:47:30.370Z"
   },
   {
    "duration": 91,
    "start_time": "2021-07-12T16:47:30.464Z"
   },
   {
    "duration": 176705,
    "start_time": "2021-07-12T16:47:30.557Z"
   },
   {
    "duration": 5,
    "start_time": "2021-07-12T16:50:27.265Z"
   },
   {
    "duration": 91,
    "start_time": "2021-07-12T16:50:27.272Z"
   },
   {
    "duration": 34355,
    "start_time": "2021-07-12T16:50:27.366Z"
   },
   {
    "duration": 5,
    "start_time": "2021-07-12T16:51:01.724Z"
   },
   {
    "duration": 34,
    "start_time": "2021-07-12T16:51:01.732Z"
   },
   {
    "duration": 88,
    "start_time": "2021-07-12T16:51:01.768Z"
   },
   {
    "duration": 17044,
    "start_time": "2021-07-12T16:51:01.860Z"
   },
   {
    "duration": 217,
    "start_time": "2021-07-12T16:51:18.907Z"
   },
   {
    "duration": 109,
    "start_time": "2021-07-12T16:52:14.967Z"
   },
   {
    "duration": 431,
    "start_time": "2021-07-12T16:53:28.208Z"
   },
   {
    "duration": 77,
    "start_time": "2021-07-12T16:53:46.784Z"
   },
   {
    "duration": 1026,
    "start_time": "2021-07-12T18:33:48.410Z"
   },
   {
    "duration": 44,
    "start_time": "2021-07-12T18:33:49.438Z"
   },
   {
    "duration": 8,
    "start_time": "2021-07-12T18:33:49.484Z"
   },
   {
    "duration": 42,
    "start_time": "2021-07-12T18:33:49.494Z"
   },
   {
    "duration": 6,
    "start_time": "2021-07-12T18:33:49.538Z"
   },
   {
    "duration": 9,
    "start_time": "2021-07-12T18:33:49.545Z"
   },
   {
    "duration": 30,
    "start_time": "2021-07-12T18:33:49.556Z"
   },
   {
    "duration": 15,
    "start_time": "2021-07-12T18:33:49.587Z"
   },
   {
    "duration": 4,
    "start_time": "2021-07-12T18:33:49.605Z"
   },
   {
    "duration": 6,
    "start_time": "2021-07-12T18:33:49.611Z"
   },
   {
    "duration": 7,
    "start_time": "2021-07-12T18:33:49.618Z"
   },
   {
    "duration": 4,
    "start_time": "2021-07-12T18:33:49.626Z"
   },
   {
    "duration": 16,
    "start_time": "2021-07-12T18:33:49.631Z"
   },
   {
    "duration": 2,
    "start_time": "2021-07-12T18:33:49.649Z"
   },
   {
    "duration": 49,
    "start_time": "2021-07-12T18:33:49.652Z"
   },
   {
    "duration": 22,
    "start_time": "2021-07-12T18:33:49.702Z"
   },
   {
    "duration": 61,
    "start_time": "2021-07-12T18:33:49.726Z"
   },
   {
    "duration": 101,
    "start_time": "2021-07-12T18:33:49.790Z"
   },
   {
    "duration": 93,
    "start_time": "2021-07-12T18:33:49.893Z"
   },
   {
    "duration": 21434,
    "start_time": "2021-07-12T18:33:49.988Z"
   },
   {
    "duration": 18,
    "start_time": "2021-07-12T18:34:11.424Z"
   },
   {
    "duration": 26,
    "start_time": "2021-07-12T18:34:11.443Z"
   },
   {
    "duration": 15,
    "start_time": "2021-07-12T18:34:11.471Z"
   },
   {
    "duration": 31,
    "start_time": "2021-07-12T18:34:11.488Z"
   },
   {
    "duration": 64,
    "start_time": "2021-07-12T18:34:11.520Z"
   },
   {
    "duration": 96,
    "start_time": "2021-07-12T18:34:11.589Z"
   },
   {
    "duration": 111740,
    "start_time": "2021-07-12T18:34:11.688Z"
   },
   {
    "duration": 4,
    "start_time": "2021-07-12T18:36:03.429Z"
   },
   {
    "duration": 51,
    "start_time": "2021-07-12T18:36:03.434Z"
   },
   {
    "duration": 21061,
    "start_time": "2021-07-12T18:36:03.486Z"
   },
   {
    "duration": 4,
    "start_time": "2021-07-12T18:36:24.549Z"
   },
   {
    "duration": 16,
    "start_time": "2021-07-12T18:36:24.554Z"
   },
   {
    "duration": 24,
    "start_time": "2021-07-12T18:36:24.572Z"
   },
   {
    "duration": 10937,
    "start_time": "2021-07-12T18:36:24.598Z"
   },
   {
    "duration": 76,
    "start_time": "2021-07-12T18:36:35.536Z"
   },
   {
    "duration": 532,
    "start_time": "2021-07-12T18:37:31.802Z"
   },
   {
    "duration": 1243,
    "start_time": "2021-07-12T18:37:35.726Z"
   },
   {
    "duration": 1839,
    "start_time": "2021-07-12T18:37:39.189Z"
   },
   {
    "duration": 495,
    "start_time": "2021-07-12T18:37:46.882Z"
   },
   {
    "duration": 991,
    "start_time": "2021-07-12T18:37:52.349Z"
   },
   {
    "duration": 1910,
    "start_time": "2021-07-12T18:37:56.075Z"
   },
   {
    "duration": 1420,
    "start_time": "2021-07-12T18:38:00.738Z"
   },
   {
    "duration": 1257,
    "start_time": "2021-07-12T18:38:04.318Z"
   },
   {
    "duration": 1457,
    "start_time": "2021-07-12T18:38:07.237Z"
   },
   {
    "duration": 1424,
    "start_time": "2021-07-12T18:38:11.074Z"
   },
   {
    "duration": 2126,
    "start_time": "2021-07-12T18:38:16.518Z"
   },
   {
    "duration": 1439,
    "start_time": "2021-07-12T18:38:21.218Z"
   },
   {
    "duration": 1222,
    "start_time": "2021-07-12T18:38:24.195Z"
   },
   {
    "duration": 1186,
    "start_time": "2021-07-12T18:38:28.136Z"
   },
   {
    "duration": 1109,
    "start_time": "2021-07-12T18:38:31.746Z"
   },
   {
    "duration": 1153,
    "start_time": "2021-07-12T18:38:34.110Z"
   },
   {
    "duration": 1157,
    "start_time": "2021-07-12T18:38:36.450Z"
   },
   {
    "duration": 1185,
    "start_time": "2021-07-12T18:38:39.170Z"
   },
   {
    "duration": 1187,
    "start_time": "2021-07-12T18:38:41.510Z"
   },
   {
    "duration": 1218,
    "start_time": "2021-07-12T18:38:44.176Z"
   },
   {
    "duration": 1192,
    "start_time": "2021-07-12T18:38:47.333Z"
   },
   {
    "duration": 704,
    "start_time": "2021-07-12T18:38:51.373Z"
   },
   {
    "duration": 717,
    "start_time": "2021-07-12T18:38:54.498Z"
   },
   {
    "duration": 992,
    "start_time": "2021-07-13T15:34:40.706Z"
   },
   {
    "duration": 40,
    "start_time": "2021-07-13T15:34:41.699Z"
   },
   {
    "duration": 9,
    "start_time": "2021-07-13T15:34:41.744Z"
   },
   {
    "duration": 42,
    "start_time": "2021-07-13T15:34:41.755Z"
   },
   {
    "duration": 6,
    "start_time": "2021-07-13T15:34:41.799Z"
   },
   {
    "duration": 6,
    "start_time": "2021-07-13T15:34:41.807Z"
   },
   {
    "duration": 3,
    "start_time": "2021-07-13T15:34:41.816Z"
   },
   {
    "duration": 12,
    "start_time": "2021-07-13T15:34:41.821Z"
   },
   {
    "duration": 5,
    "start_time": "2021-07-13T15:34:41.834Z"
   },
   {
    "duration": 6,
    "start_time": "2021-07-13T15:34:41.841Z"
   },
   {
    "duration": 43,
    "start_time": "2021-07-13T15:34:41.848Z"
   },
   {
    "duration": 4,
    "start_time": "2021-07-13T15:34:41.893Z"
   },
   {
    "duration": 17,
    "start_time": "2021-07-13T15:34:41.898Z"
   },
   {
    "duration": 3,
    "start_time": "2021-07-13T15:34:41.916Z"
   },
   {
    "duration": 23,
    "start_time": "2021-07-13T15:34:41.921Z"
   },
   {
    "duration": 47,
    "start_time": "2021-07-13T15:34:41.946Z"
   },
   {
    "duration": 9,
    "start_time": "2021-07-13T15:34:41.995Z"
   },
   {
    "duration": 88,
    "start_time": "2021-07-13T15:34:42.006Z"
   },
   {
    "duration": 4,
    "start_time": "2021-07-13T15:34:42.096Z"
   },
   {
    "duration": 20041,
    "start_time": "2021-07-13T15:34:42.102Z"
   },
   {
    "duration": 9,
    "start_time": "2021-07-13T15:35:02.145Z"
   },
   {
    "duration": 9,
    "start_time": "2021-07-13T15:35:02.156Z"
   },
   {
    "duration": 3,
    "start_time": "2021-07-13T15:35:02.167Z"
   },
   {
    "duration": 28,
    "start_time": "2021-07-13T15:35:02.171Z"
   },
   {
    "duration": 25,
    "start_time": "2021-07-13T15:35:02.201Z"
   },
   {
    "duration": 65,
    "start_time": "2021-07-13T15:35:02.228Z"
   },
   {
    "duration": 105878,
    "start_time": "2021-07-13T15:35:02.297Z"
   },
   {
    "duration": 4,
    "start_time": "2021-07-13T15:36:48.176Z"
   },
   {
    "duration": 83,
    "start_time": "2021-07-13T15:36:48.182Z"
   },
   {
    "duration": 19895,
    "start_time": "2021-07-13T15:36:48.267Z"
   },
   {
    "duration": 4,
    "start_time": "2021-07-13T15:37:08.163Z"
   },
   {
    "duration": 23,
    "start_time": "2021-07-13T15:37:08.168Z"
   },
   {
    "duration": 19,
    "start_time": "2021-07-13T15:37:08.193Z"
   },
   {
    "duration": 94839,
    "start_time": "2021-07-13T15:37:08.214Z"
   },
   {
    "duration": 77,
    "start_time": "2021-07-13T15:38:43.055Z"
   },
   {
    "duration": 580,
    "start_time": "2021-07-13T15:40:23.755Z"
   },
   {
    "duration": 251616,
    "start_time": "2021-07-13T15:41:02.492Z"
   },
   {
    "duration": 747,
    "start_time": "2021-07-13T15:48:56.959Z"
   },
   {
    "duration": 273645,
    "start_time": "2021-07-13T15:50:00.023Z"
   },
   {
    "duration": 494,
    "start_time": "2021-07-13T15:58:14.274Z"
   },
   {
    "duration": 674,
    "start_time": "2021-07-13T15:59:14.746Z"
   },
   {
    "duration": 958,
    "start_time": "2021-07-13T16:01:18.844Z"
   },
   {
    "duration": 38,
    "start_time": "2021-07-13T16:01:19.806Z"
   },
   {
    "duration": 6,
    "start_time": "2021-07-13T16:01:19.846Z"
   },
   {
    "duration": 43,
    "start_time": "2021-07-13T16:01:19.854Z"
   },
   {
    "duration": 5,
    "start_time": "2021-07-13T16:01:19.898Z"
   },
   {
    "duration": 5,
    "start_time": "2021-07-13T16:01:19.905Z"
   },
   {
    "duration": 4,
    "start_time": "2021-07-13T16:01:19.912Z"
   },
   {
    "duration": 17,
    "start_time": "2021-07-13T16:01:19.918Z"
   },
   {
    "duration": 4,
    "start_time": "2021-07-13T16:01:19.936Z"
   },
   {
    "duration": 8,
    "start_time": "2021-07-13T16:01:19.941Z"
   },
   {
    "duration": 9,
    "start_time": "2021-07-13T16:01:19.951Z"
   },
   {
    "duration": 8,
    "start_time": "2021-07-13T16:01:19.962Z"
   },
   {
    "duration": 30,
    "start_time": "2021-07-13T16:01:19.971Z"
   },
   {
    "duration": 7,
    "start_time": "2021-07-13T16:01:20.003Z"
   },
   {
    "duration": 25,
    "start_time": "2021-07-13T16:01:20.011Z"
   },
   {
    "duration": 18,
    "start_time": "2021-07-13T16:01:20.037Z"
   },
   {
    "duration": 38,
    "start_time": "2021-07-13T16:01:20.057Z"
   },
   {
    "duration": 99,
    "start_time": "2021-07-13T16:01:20.097Z"
   },
   {
    "duration": 94,
    "start_time": "2021-07-13T16:01:20.198Z"
   },
   {
    "duration": 19725,
    "start_time": "2021-07-13T16:01:20.294Z"
   },
   {
    "duration": 11,
    "start_time": "2021-07-13T16:01:40.020Z"
   },
   {
    "duration": 10,
    "start_time": "2021-07-13T16:01:40.034Z"
   },
   {
    "duration": 3,
    "start_time": "2021-07-13T16:01:40.046Z"
   },
   {
    "duration": 16,
    "start_time": "2021-07-13T16:01:40.051Z"
   },
   {
    "duration": 122,
    "start_time": "2021-07-13T16:01:40.069Z"
   },
   {
    "duration": 4,
    "start_time": "2021-07-13T16:01:40.194Z"
   },
   {
    "duration": 107040,
    "start_time": "2021-07-13T16:01:40.200Z"
   },
   {
    "duration": 5,
    "start_time": "2021-07-13T16:03:27.241Z"
   },
   {
    "duration": 73,
    "start_time": "2021-07-13T16:03:27.247Z"
   },
   {
    "duration": 20457,
    "start_time": "2021-07-13T16:03:27.322Z"
   },
   {
    "duration": 10,
    "start_time": "2021-07-13T16:03:47.781Z"
   },
   {
    "duration": 11,
    "start_time": "2021-07-13T16:03:47.793Z"
   },
   {
    "duration": 16,
    "start_time": "2021-07-13T16:03:47.805Z"
   },
   {
    "duration": 274584,
    "start_time": "2021-07-13T16:03:47.823Z"
   },
   {
    "duration": 673,
    "start_time": "2021-07-13T16:08:22.409Z"
   }
  ],
  "kernelspec": {
   "display_name": "Python 3",
   "language": "python",
   "name": "python3"
  },
  "language_info": {
   "codemirror_mode": {
    "name": "ipython",
    "version": 3
   },
   "file_extension": ".py",
   "mimetype": "text/x-python",
   "name": "python",
   "nbconvert_exporter": "python",
   "pygments_lexer": "ipython3",
   "version": "3.8.3"
  },
  "toc": {
   "base_numbering": 1,
   "nav_menu": {},
   "number_sections": true,
   "sideBar": true,
   "skip_h1_title": true,
   "title_cell": "Содержание",
   "title_sidebar": "Contents",
   "toc_cell": true,
   "toc_position": {},
   "toc_section_display": true,
   "toc_window_display": true
  }
 },
 "nbformat": 4,
 "nbformat_minor": 2
}
